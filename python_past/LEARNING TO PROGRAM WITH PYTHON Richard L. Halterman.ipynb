{
 "cells": [
  {
   "cell_type": "code",
   "execution_count": 1,
   "metadata": {
    "collapsed": true
   },
   "outputs": [
    {
     "name": "stdout",
     "output_type": "stream",
     "text": [
      "Collecting ipyparallel\n",
      "  Downloading https://files.pythonhosted.org/packages/3f/82/aaa7a357845a98d4028f27c799f0d3bb2fe55fc1247c73dc712b4ae2344c/ipyparallel-6.2.4-py2.py3-none-any.whl (198kB)\n",
      "Requirement already satisfied: ipykernel>=4.4 in c:\\users\\user\\appdata\\local\\programs\\python\\python37-32\\lib\\site-packages (from ipyparallel) (5.1.2)\n",
      "Requirement already satisfied: jupyter-client in c:\\users\\user\\appdata\\local\\programs\\python\\python37-32\\lib\\site-packages (from ipyparallel) (5.3.2)\n",
      "Requirement already satisfied: traitlets>=4.3 in c:\\users\\user\\appdata\\local\\programs\\python\\python37-32\\lib\\site-packages (from ipyparallel) (4.3.2)\n",
      "Requirement already satisfied: decorator in c:\\users\\user\\appdata\\local\\programs\\python\\python37-32\\lib\\site-packages (from ipyparallel) (4.4.0)\n",
      "Requirement already satisfied: python-dateutil>=2.1 in c:\\users\\user\\appdata\\local\\programs\\python\\python37-32\\lib\\site-packages (from ipyparallel) (2.8.0)\n",
      "Requirement already satisfied: tornado>=4 in c:\\users\\user\\appdata\\local\\programs\\python\\python37-32\\lib\\site-packages (from ipyparallel) (6.0.3)\n",
      "Requirement already satisfied: ipython>=4 in c:\\users\\user\\appdata\\local\\programs\\python\\python37-32\\lib\\site-packages (from ipyparallel) (7.8.0)\n",
      "Requirement already satisfied: pyzmq>=13 in c:\\users\\user\\appdata\\local\\programs\\python\\python37-32\\lib\\site-packages (from ipyparallel) (18.1.0)\n",
      "Requirement already satisfied: ipython-genutils in c:\\users\\user\\appdata\\local\\programs\\python\\python37-32\\lib\\site-packages (from ipyparallel) (0.2.0)\n",
      "Requirement already satisfied: pywin32>=1.0; sys_platform == \"win32\" in c:\\users\\user\\appdata\\local\\programs\\python\\python37-32\\lib\\site-packages (from jupyter-client->ipyparallel) (225)\n",
      "Requirement already satisfied: jupyter-core in c:\\users\\user\\appdata\\local\\programs\\python\\python37-32\\lib\\site-packages (from jupyter-client->ipyparallel) (4.5.0)\n",
      "Requirement already satisfied: six in c:\\users\\user\\appdata\\local\\programs\\python\\python37-32\\lib\\site-packages (from traitlets>=4.3->ipyparallel) (1.12.0)\n",
      "Requirement already satisfied: prompt-toolkit<2.1.0,>=2.0.0 in c:\\users\\user\\appdata\\local\\programs\\python\\python37-32\\lib\\site-packages (from ipython>=4->ipyparallel) (2.0.9)\n",
      "Requirement already satisfied: backcall in c:\\users\\user\\appdata\\local\\programs\\python\\python37-32\\lib\\site-packages (from ipython>=4->ipyparallel) (0.1.0)\n",
      "Requirement already satisfied: setuptools>=18.5 in c:\\users\\user\\appdata\\local\\programs\\python\\python37-32\\lib\\site-packages (from ipython>=4->ipyparallel) (40.8.0)\n",
      "Requirement already satisfied: pygments in c:\\users\\user\\appdata\\local\\programs\\python\\python37-32\\lib\\site-packages (from ipython>=4->ipyparallel) (2.4.2)\n",
      "Requirement already satisfied: colorama; sys_platform == \"win32\" in c:\\users\\user\\appdata\\local\\programs\\python\\python37-32\\lib\\site-packages (from ipython>=4->ipyparallel) (0.4.1)\n",
      "Requirement already satisfied: pickleshare in c:\\users\\user\\appdata\\local\\programs\\python\\python37-32\\lib\\site-packages (from ipython>=4->ipyparallel) (0.7.5)\n",
      "Requirement already satisfied: jedi>=0.10 in c:\\users\\user\\appdata\\local\\programs\\python\\python37-32\\lib\\site-packages (from ipython>=4->ipyparallel) (0.15.1)\n",
      "Requirement already satisfied: wcwidth in c:\\users\\user\\appdata\\local\\programs\\python\\python37-32\\lib\\site-packages (from prompt-toolkit<2.1.0,>=2.0.0->ipython>=4->ipyparallel) (0.1.7)\n",
      "Requirement already satisfied: parso>=0.5.0 in c:\\users\\user\\appdata\\local\\programs\\python\\python37-32\\lib\\site-packages (from jedi>=0.10->ipython>=4->ipyparallel) (0.5.1)\n",
      "Installing collected packages: ipyparallel\n",
      "Successfully installed ipyparallel-6.2.4\n",
      "Note: you may need to restart the kernel to use updated packages.\n"
     ]
    }
   ],
   "source": []
  },
  {
   "cell_type": "code",
   "execution_count": 4,
   "metadata": {},
   "outputs": [],
   "source": []
  },
  {
   "cell_type": "code",
   "execution_count": null,
   "metadata": {},
   "outputs": [],
   "source": []
  }
 ],
 "metadata": {
  "kernelspec": {
   "display_name": "Python 3",
   "language": "python",
   "name": "python3"
  },
  "language_info": {
   "codemirror_mode": {
    "name": "ipython",
    "version": 3
   },
   "file_extension": ".py",
   "mimetype": "text/x-python",
   "name": "python",
   "nbconvert_exporter": "python",
   "pygments_lexer": "ipython3",
   "version": "3.7.4"
  }
 },
 "nbformat": 4,
 "nbformat_minor": 2
}

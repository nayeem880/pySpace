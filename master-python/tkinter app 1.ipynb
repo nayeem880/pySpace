{
 "cells": [
  {
   "cell_type": "code",
   "execution_count": 13,
   "metadata": {},
   "outputs": [],
   "source": [
    "import tkinter\n",
    "from tkinter.constants import *\n",
    "tk = tkinter.Tk()\n",
    "frame = tkinter.Frame(tk, relief=RIDGE, borderwidth=2)\n",
    "frame.pack(fill=BOTH,expand=1)\n",
    "label = tkinter.Label(frame, text=\"Hello, World\")\n",
    "label.pack(fill=X, expand=1)\n",
    "button = tkinter.Button(frame,text=\"Exit\",command=tk.destroy)\n",
    "button.pack(side=BOTTOM)\n",
    "tk.mainloop()"
   ]
  },
  {
   "cell_type": "code",
   "execution_count": null,
   "metadata": {},
   "outputs": [],
   "source": []
  },
  {
   "cell_type": "code",
   "execution_count": null,
   "metadata": {},
   "outputs": [],
   "source": []
  },
  {
   "cell_type": "code",
   "execution_count": null,
   "metadata": {},
   "outputs": [],
   "source": []
  },
  {
   "cell_type": "code",
   "execution_count": null,
   "metadata": {},
   "outputs": [],
   "source": []
  },
  {
   "cell_type": "code",
   "execution_count": null,
   "metadata": {},
   "outputs": [],
   "source": []
  }
 ],
 "metadata": {
  "kernelspec": {
   "display_name": "Python 3",
   "language": "python",
   "name": "python3"
  },
  "language_info": {
   "codemirror_mode": {
    "name": "ipython",
    "version": 3
   },
   "file_extension": ".py",
   "mimetype": "text/x-python",
   "name": "python",
   "nbconvert_exporter": "python",
   "pygments_lexer": "ipython3",
   "version": "3.7.4"
  }
 },
 "nbformat": 4,
 "nbformat_minor": 2
}

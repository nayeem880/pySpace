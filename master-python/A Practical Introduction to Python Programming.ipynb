{
 "cells": [
  {
   "cell_type": "markdown",
   "metadata": {},
   "source": [
    "#### Chapter 1"
   ]
  },
  {
   "cell_type": "code",
   "execution_count": 9,
   "metadata": {},
   "outputs": [
    {
     "name": "stdout",
     "output_type": "stream",
     "text": [
      "Enter any temperature in celcius : 22\n",
      "the temp in fahrenheit is :  71.6\n"
     ]
    }
   ],
   "source": [
    "t= eval(input(\"Enter any temperature in celcius : \"))\n",
    "print(\"the temp in fahrenheit is : \",9/5*t+32)"
   ]
  },
  {
   "cell_type": "code",
   "execution_count": 4,
   "metadata": {},
   "outputs": [
    {
     "name": "stdout",
     "output_type": "stream",
     "text": [
      "Enter the first number : 22\n",
      "Enter the second number : 33\n",
      "The average of the given two number is :  38.5\n"
     ]
    }
   ],
   "source": [
    "num1= eval(input(\"Enter the first number : \")) \n",
    "num2= eval(input(\"Enter the second number : \"))\n",
    "print(\"The average of the given two number is : \",num1+num2/2)"
   ]
  },
  {
   "cell_type": "code",
   "execution_count": 11,
   "metadata": {},
   "outputs": [
    {
     "name": "stdout",
     "output_type": "stream",
     "text": [
      "Enter your name : nayeem sussman\n",
      "Hello nayeem sussman\n"
     ]
    }
   ],
   "source": [
    "name = input(\"Enter your name : \")\n",
    "print(\"Hello\",name)"
   ]
  },
  {
   "cell_type": "code",
   "execution_count": 17,
   "metadata": {},
   "outputs": [
    {
     "name": "stdout",
     "output_type": "stream",
     "text": [
      "Enter your number : 2.2\n",
      "The squared of your number is :  4.840000000000001\n"
     ]
    }
   ],
   "source": [
    "n = eval(input(\"Enter your number : \"))\n",
    "print(\"The squared of your number is : \",n*n)"
   ]
  },
  {
   "cell_type": "code",
   "execution_count": 23,
   "metadata": {},
   "outputs": [
    {
     "name": "stdout",
     "output_type": "stream",
     "text": [
      "A 1 XYZ 2\n"
     ]
    }
   ],
   "source": [
    "print(\"A\",1,\"XYZ\",2)"
   ]
  },
  {
   "cell_type": "code",
   "execution_count": 33,
   "metadata": {},
   "outputs": [
    {
     "name": "stdout",
     "output_type": "stream",
     "text": [
      "The 3 times 5 is : 15 .\n",
      "The 3 times 5 is :15.\n"
     ]
    }
   ],
   "source": [
    "print(\"The 3 times 5 is :\",3*5,\".\")\n",
    "print(\"The 3 times 5 is :\",3*5,\".\",sep=\"\")"
   ]
  },
  {
   "cell_type": "code",
   "execution_count": 39,
   "metadata": {},
   "outputs": [
    {
     "name": "stdout",
     "output_type": "stream",
     "text": [
      "On the first line. On the secong line\n"
     ]
    }
   ],
   "source": [
    "print(\"On the first line.\",end=\" \")\n",
    "print(\"On the secong line\")"
   ]
  },
  {
   "cell_type": "code",
   "execution_count": 43,
   "metadata": {},
   "outputs": [
    {
     "name": "stdout",
     "output_type": "stream",
     "text": [
      "Enter the temperature in Celcius : 101\n",
      "The temperature is 213.8 Fahrenheit and which is above the boiling point\n"
     ]
    }
   ],
   "source": [
    "temp = eval(input(\"Enter the temperature in Celcius : \"))\n",
    "f_temp = 9/5*temp+32\n",
    "\n",
    "if f_temp>212:\n",
    "    print(\"The temperature is\",f_temp,\"Fahrenheit and which is above the boiling point\")\n",
    "elif f_temp<32:\n",
    "    print(\"The temperature is\",f_temp,\"Fahrenheit and which is under the freezing point\")\n",
    "else :\n",
    "    print(\"The temperature is\",f_temp,\"Fahrenheit and which is inside boiling and freezing point and ready to use \")\n"
   ]
  },
  {
   "cell_type": "markdown",
   "metadata": {},
   "source": [
    "#### 1.8 exercise"
   ]
  },
  {
   "cell_type": "code",
   "execution_count": 50,
   "metadata": {},
   "outputs": [
    {
     "name": "stdout",
     "output_type": "stream",
     "text": [
      "* * * * * * * * * * * * * * * \n",
      "\n",
      "* * * * * * * * * * * * * * * \n",
      "\n",
      "* * * * * * * * * * * * * * * \n",
      "\n",
      "* * * * * * * * * * * * * * * \n",
      "\n"
     ]
    }
   ],
   "source": [
    "#Exercise 1\n",
    "\n",
    "for i in range(4):\n",
    "    for j in range(15):\n",
    "        print(\"*\",end=\" \")\n",
    "    print(\"\\n\")"
   ]
  },
  {
   "cell_type": "code",
   "execution_count": 49,
   "metadata": {},
   "outputs": [
    {
     "name": "stdout",
     "output_type": "stream",
     "text": [
      "* * * * * * * * * * \n",
      "\n",
      "* * * * * * * * * * \n",
      "\n",
      "* * * * * * * * * * \n",
      "\n",
      "* * * * * * * * * * \n",
      "\n"
     ]
    }
   ],
   "source": [
    "#Exercise 1\n",
    "\n",
    "for i in range(4):\n",
    "    for j in range(10):\n",
    "        print(\"*\",end=\" \")\n",
    "    print(\"\\n\")"
   ]
  },
  {
   "cell_type": "code",
   "execution_count": 34,
   "metadata": {},
   "outputs": [
    {
     "name": "stdout",
     "output_type": "stream",
     "text": [
      "* * * * * * * * * * * * * * * \n",
      "\n",
      "*                           * \n",
      "\n",
      "*                           * \n",
      "\n",
      "* * * * * * * * * * * * * * * \n",
      "\n"
     ]
    }
   ],
   "source": [
    "#Exercise 2\n",
    "\n",
    "for i in range(4):\n",
    "    for j in range(15):\n",
    "        if (i == 0 or i==3) or (j==0 or j==14):\n",
    "                print(\"*\",end =\" \")\n",
    "        else:\n",
    "            print(\" \",end = \" \")        \n",
    "    print(\"\\n\")"
   ]
  },
  {
   "cell_type": "code",
   "execution_count": 52,
   "metadata": {},
   "outputs": [
    {
     "name": "stdout",
     "output_type": "stream",
     "text": [
      "* * * * * * * * * * * * * * * \n",
      "\n",
      "*                           * \n",
      "\n",
      "*                           * \n",
      "\n",
      "* * * * * * * * * * * * * * * \n",
      "\n"
     ]
    }
   ],
   "source": [
    "for i in range(4):\n",
    "    for j in range(15):\n",
    "        if i==1 or i ==2:\n",
    "            if j==0 or j==14:\n",
    "                print(\"*\",end=\" \")\n",
    "            else :\n",
    "                print(\" \",end=\" \")\n",
    "            continue\n",
    "        print(\"*\",end =\" \")\n",
    "    print(\"\\n\")"
   ]
  },
  {
   "cell_type": "code",
   "execution_count": 53,
   "metadata": {},
   "outputs": [
    {
     "name": "stdout",
     "output_type": "stream",
     "text": [
      "* \n",
      "\n",
      "* * \n",
      "\n",
      "* * * \n",
      "\n",
      "* * * * \n",
      "\n",
      "* * * * * \n",
      "\n"
     ]
    }
   ],
   "source": [
    "#Exercise 3\n",
    "\n",
    "for i in range(5):\n",
    "    for j in range(i+1):\n",
    "        print(\"*\",end = \" \")\n",
    "    print(\"\\n\")"
   ]
  },
  {
   "cell_type": "code",
   "execution_count": 15,
   "metadata": {},
   "outputs": [
    {
     "name": "stdout",
     "output_type": "stream",
     "text": [
      "4.382621951219512\n"
     ]
    }
   ],
   "source": [
    "#Exercise 4\n",
    "\n",
    "print((512-282)/(47.48+5))"
   ]
  },
  {
   "cell_type": "code",
   "execution_count": 5,
   "metadata": {},
   "outputs": [
    {
     "name": "stdout",
     "output_type": "stream",
     "text": [
      "Enter any number :2\n",
      "2  4  6  8  10\n"
     ]
    }
   ],
   "source": [
    "#Exercise 6\n",
    "\n",
    "n = eval (input(\"Enter any number :\"))\n",
    "\n",
    "print(n,\"\",2*n,\"\",3*n,\"\",4*n,'',5*n,sep=\" \")"
   ]
  },
  {
   "cell_type": "code",
   "execution_count": 7,
   "metadata": {},
   "outputs": [
    {
     "name": "stdout",
     "output_type": "stream",
     "text": [
      "Enter any number :2\n",
      "2---4---6---8---10\n"
     ]
    }
   ],
   "source": [
    "n = eval (input(\"Enter any number :\"))\n",
    "\n",
    "print(n,2*n,3*n,4*n,5*n,sep=\"---\")"
   ]
  },
  {
   "cell_type": "code",
   "execution_count": 36,
   "metadata": {},
   "outputs": [
    {
     "name": "stdout",
     "output_type": "stream",
     "text": [
      "Enter weight in kilograms :1\n",
      "The weight is  2.2 Pounds\n"
     ]
    }
   ],
   "source": [
    "#Exercise 7\n",
    "n = eval (input(\"Enter weight in kilograms :\"))\n",
    "p = n*2.2\n",
    "print(\"The weight is \",p,\"Pounds\")"
   ]
  },
  {
   "cell_type": "code",
   "execution_count": 43,
   "metadata": {},
   "outputs": [
    {
     "name": "stdout",
     "output_type": "stream",
     "text": [
      "Enter 3 numbers : 2,11,2\n",
      "Total of given numbers is : 15\n",
      "Average of given numbers is : 7.5\n"
     ]
    }
   ],
   "source": [
    "#Exercise 8\n",
    "\n",
    "n, m , x = eval (input(\"Enter 3 numbers : \"))\n",
    "t= n+m+x\n",
    "a= t/2\n",
    "\n",
    "print(\"Total of given numbers is :\",t)\n",
    "print(\"Average of given numbers is :\",a)\n"
   ]
  },
  {
   "cell_type": "code",
   "execution_count": 55,
   "metadata": {},
   "outputs": [
    {
     "name": "stdout",
     "output_type": "stream",
     "text": [
      "TIP CALCULATOR :\n",
      "Enter the price of the meal and percentage of tip :1000,5\n",
      "The price of the meal is : 1000  and the tip amount is : 50.0\n"
     ]
    }
   ],
   "source": [
    "#Exercise 9\n",
    "print(\"TIP CALCULATOR :\")\n",
    "\n",
    "p,t = eval(input(\"Enter the price of the meal and percentage of tip :\"))\n",
    "tip = p*t/100\n",
    "print(\"The price of the meal is :\",p,\" and the tip amount is :\",tip)"
   ]
  },
  {
   "cell_type": "markdown",
   "metadata": {},
   "source": [
    "#### Chapter 2"
   ]
  },
  {
   "cell_type": "code",
   "execution_count": 62,
   "metadata": {},
   "outputs": [
    {
     "name": "stdout",
     "output_type": "stream",
     "text": [
      "Hello.Hello.Hello.Hello.Hello.Hello.Hello.Hello.Hello.Hello."
     ]
    }
   ],
   "source": [
    "for i in range(10):\n",
    "    print(\"Hello\",end =\".\")"
   ]
  },
  {
   "cell_type": "code",
   "execution_count": 65,
   "metadata": {},
   "outputs": [
    {
     "name": "stdout",
     "output_type": "stream",
     "text": [
      "Enter number : 2\n",
      "The square of 2 is : 4\n",
      "Enter number : 3\n",
      "The square of 3 is : 9\n",
      "Enter number : 4\n",
      "The square of 4 is : 16\n",
      "loop ended\n"
     ]
    }
   ],
   "source": [
    "for i in range(3):\n",
    "    n = eval(input(\"Enter number : \"))\n",
    "    print(\"The square of\",n,\"is :\",n**2)\n",
    "print(\"loop ended\")"
   ]
  },
  {
   "cell_type": "code",
   "execution_count": 68,
   "metadata": {},
   "outputs": [
    {
     "name": "stdout",
     "output_type": "stream",
     "text": [
      "ABCDCDCDE"
     ]
    }
   ],
   "source": [
    "print('A',end=\"\")\n",
    "print('B',end=\"\")\n",
    "for i in range(3):\n",
    "    print(\"C\",end=\"\")\n",
    "    print(\"D\",end=\"\")\n",
    "print(\"E\",end=\"\")"
   ]
  },
  {
   "cell_type": "code",
   "execution_count": 70,
   "metadata": {},
   "outputs": [
    {
     "name": "stdout",
     "output_type": "stream",
     "text": [
      "ABCCCCCCCCCCDDDDDDDDDDE"
     ]
    }
   ],
   "source": [
    "print(\"A\",end=\"\")\n",
    "print(\"B\",end=\"\")\n",
    "for i in range(10):\n",
    "    print(\"C\",end=\"\")\n",
    "for i in range(10):\n",
    "    print(\"D\",end=\"\")\n",
    "print(\"E\",end=\"\")"
   ]
  },
  {
   "cell_type": "code",
   "execution_count": 82,
   "metadata": {},
   "outputs": [
    {
     "name": "stdout",
     "output_type": "stream",
     "text": [
      "0 1 2 3 4 5 6 7 8 9 "
     ]
    }
   ],
   "source": [
    "for i in range(10):\n",
    "    print(i,end=\" \")"
   ]
  },
  {
   "cell_type": "code",
   "execution_count": 83,
   "metadata": {},
   "outputs": [
    {
     "name": "stdout",
     "output_type": "stream",
     "text": [
      "0 -- Hello \n",
      "1 -- Hello \n",
      "2 -- Hello \n",
      "3 -- Hello \n",
      "4 -- Hello \n"
     ]
    }
   ],
   "source": [
    "for i in range(5):\n",
    "    print(i,\"-- Hello \")"
   ]
  },
  {
   "cell_type": "code",
   "execution_count": 86,
   "metadata": {},
   "outputs": [
    {
     "name": "stdout",
     "output_type": "stream",
     "text": [
      "10 8 6 4 Blast off !\n"
     ]
    }
   ],
   "source": [
    "for i in range(10,2,-2):\n",
    "    print(i,end =\" \")\n",
    "print(\"Blast off !\")"
   ]
  },
  {
   "cell_type": "code",
   "execution_count": 88,
   "metadata": {},
   "outputs": [
    {
     "name": "stdout",
     "output_type": "stream",
     "text": [
      "**********\n",
      "**********\n",
      "**********\n",
      "**********\n",
      "**********\n"
     ]
    }
   ],
   "source": [
    "for i in range(5):\n",
    "    print(\"*\"*10)"
   ]
  },
  {
   "cell_type": "code",
   "execution_count": 92,
   "metadata": {},
   "outputs": [
    {
     "name": "stdout",
     "output_type": "stream",
     "text": [
      "*\n",
      "**\n",
      "***\n",
      "****\n",
      "*****\n",
      "******\n",
      "*******\n"
     ]
    }
   ],
   "source": [
    "for i in range(7):\n",
    "    print(\"*\"*(i+1))"
   ]
  },
  {
   "cell_type": "markdown",
   "metadata": {},
   "source": [
    "##### 2.5 Exercises "
   ]
  },
  {
   "cell_type": "code",
   "execution_count": 103,
   "metadata": {},
   "outputs": [
    {
     "name": "stdout",
     "output_type": "stream",
     "text": [
      "0 Nick Zussman | 1 Nick Zussman | 2 Nick Zussman | 3 Nick Zussman | 4 Nick Zussman | 5 Nick Zussman | 6 Nick Zussman | 7 Nick Zussman | 8 Nick Zussman | 9 Nick Zussman | 10 Nick Zussman | 11 Nick Zussman | 12 Nick Zussman | 13 Nick Zussman | 14 Nick Zussman | 15 Nick Zussman | 16 Nick Zussman | 17 Nick Zussman | 18 Nick Zussman | 19 Nick Zussman | "
     ]
    }
   ],
   "source": [
    "#Exercise 1 \n",
    "\n",
    "for i in range(20):\n",
    "    print(i,\"Nick Zussman\", end =\" | \")"
   ]
  },
  {
   "cell_type": "code",
   "execution_count": 105,
   "metadata": {},
   "outputs": [
    {
     "name": "stdout",
     "output_type": "stream",
     "text": [
      "0 : 0\n",
      "1 : 1\n",
      "2 : 4\n",
      "3 : 9\n",
      "4 : 16\n",
      "5 : 25\n",
      "6 : 36\n",
      "7 : 49\n",
      "8 : 64\n",
      "9 : 81\n"
     ]
    }
   ],
   "source": [
    "# Exercise 4\n",
    "for i in range(10):\n",
    "    print(i,\":\",i**2)"
   ]
  },
  {
   "cell_type": "code",
   "execution_count": 107,
   "metadata": {},
   "outputs": [
    {
     "name": "stdout",
     "output_type": "stream",
     "text": [
      "8 11 14 17 20 23 26 29 32 35 38 41 44 47 50 53 56 59 62 65 68 71 74 77 80 83 86 89 "
     ]
    }
   ],
   "source": [
    "# Exercise 5\n",
    "for i in range(8,90,3):\n",
    "    print(i,end=\" \")"
   ]
  },
  {
   "cell_type": "code",
   "execution_count": 108,
   "metadata": {},
   "outputs": [
    {
     "name": "stdout",
     "output_type": "stream",
     "text": [
      "100 98 96 94 92 90 88 86 84 82 80 78 76 74 72 70 68 66 64 62 60 58 56 54 52 50 48 46 44 42 40 38 36 34 32 30 28 26 24 22 20 18 16 14 12 10 8 6 4 2 "
     ]
    }
   ],
   "source": [
    "# Exercise 6\n",
    "for i in range(100,1,-2):\n",
    "    print(i,end=\" \")\n"
   ]
  },
  {
   "cell_type": "code",
   "execution_count": 109,
   "metadata": {},
   "outputs": [
    {
     "name": "stdout",
     "output_type": "stream",
     "text": [
      "AAAAAAAAAABBBBBCDCDCDCDEFFFFFFG\n"
     ]
    }
   ],
   "source": [
    "# Exercise 7\n",
    "for i in range(10):\n",
    "    print(\"A\",end=\"\")\n",
    "for i in range(5):\n",
    "    print(\"B\",end =\"\")\n",
    "for i in range(4):\n",
    "    print(\"CD\",end=\"\")\n",
    "print(\"E\",end=\"\")\n",
    "for i in range(6):\n",
    "    print(\"F\",end=\"\")\n",
    "print(\"G\")\n"
   ]
  },
  {
   "cell_type": "code",
   "execution_count": 112,
   "metadata": {},
   "outputs": [
    {
     "name": "stdout",
     "output_type": "stream",
     "text": [
      "Enter your name here : nick\n",
      "How many times do you want to print it here? enter the number : 5\n",
      "nick nick nick nick nick "
     ]
    }
   ],
   "source": [
    "# Exercise 8\n",
    "name= input(\"Enter your name here : \")\n",
    "t = eval (input(\"How many times do you want to print it here? enter the number : \"))\n",
    "\n",
    "for i in range(t):\n",
    "    print(name,end =\" \")"
   ]
  },
  {
   "cell_type": "code",
   "execution_count": 5,
   "metadata": {},
   "outputs": [
    {
     "name": "stdout",
     "output_type": "stream",
     "text": [
      "Enter the starting point of fibonacci : 2\n",
      "Enter the closing point of fibonacci : 100\n",
      "2 3 5 8 13 21 34 55 89 "
     ]
    }
   ],
   "source": [
    "# Exercise 9\n",
    "\n",
    "n = eval(input(\"Enter the starting point of fibonacci : \"))\n",
    "m = eval(input(\"Enter the closing point of fibonacci : \"))\n",
    "nn=n+1\n",
    "\n",
    "while n<m:\n",
    "    print(n,end=\" \")\n",
    "    n,nn =nn,nn+n"
   ]
  },
  {
   "cell_type": "code",
   "execution_count": 10,
   "metadata": {},
   "outputs": [
    {
     "name": "stdout",
     "output_type": "stream",
     "text": [
      "* * * * * * * * * * \n",
      "\n",
      "*                 * \n",
      "\n",
      "*                 * \n",
      "\n",
      "* * * * * * * * * * \n",
      "\n"
     ]
    }
   ],
   "source": [
    "# Exercise 11\n",
    "\n",
    "for i in range(4):\n",
    "    for j in range(10):\n",
    "        if i==1 or i==2:\n",
    "            if j==0 or j==9:\n",
    "                print(\"*\",end= \" \")\n",
    "            else :\n",
    "                print(\" \",end=\" \")\n",
    "            continue\n",
    "        print(\"*\",end=\" \")\n",
    "    print(\"\\n\")"
   ]
  },
  {
   "cell_type": "code",
   "execution_count": 13,
   "metadata": {},
   "outputs": [
    {
     "name": "stdout",
     "output_type": "stream",
     "text": [
      "*\n",
      "**\n",
      "***\n",
      "****\n",
      "*****\n",
      "******\n",
      "*******\n",
      "********\n",
      "*********\n",
      "**********\n"
     ]
    }
   ],
   "source": [
    "# Exercise 12\n",
    "\n",
    "for i in range(10):\n",
    "    print(\"*\"*(i+1))"
   ]
  },
  {
   "cell_type": "code",
   "execution_count": 14,
   "metadata": {},
   "outputs": [
    {
     "name": "stdout",
     "output_type": "stream",
     "text": [
      "*****\n",
      "****\n",
      "***\n",
      "**\n",
      "*\n"
     ]
    }
   ],
   "source": [
    "# Exercise 14\n",
    "\n",
    "for i in range(5,0,-1):\n",
    "    print(\"*\"*i)"
   ]
  },
  {
   "cell_type": "code",
   "execution_count": 18,
   "metadata": {},
   "outputs": [
    {
     "name": "stdout",
     "output_type": "stream",
     "text": [
      "* \n",
      "\n",
      "* * \n",
      "\n",
      "* * * \n",
      "\n",
      "* * * * \n",
      "\n",
      "* * * * * \n",
      "\n",
      "* * * * * * \n",
      "\n",
      "* * * * * * * \n",
      "\n"
     ]
    }
   ],
   "source": [
    "# Exercise 14\n",
    "\n",
    "for i in range(7):\n",
    "    for j in range(0,i+1):\n",
    "        print(\"*\",end=\" \")\n",
    "    print(\"\\n\")\n"
   ]
  },
  {
   "cell_type": "code",
   "execution_count": 28,
   "metadata": {},
   "outputs": [
    {
     "name": "stdout",
     "output_type": "stream",
     "text": [
      "         *\n",
      "        **\n",
      "       ***\n",
      "      ****\n",
      "     *****\n",
      "    ******\n",
      "   *******\n",
      "  ********\n",
      " *********\n",
      "**********\n"
     ]
    }
   ],
   "source": [
    "# Exercise\n",
    "\n",
    "for i in range(0,10):\n",
    "    for j in range(0,10-i-1):\n",
    "        print(\"\",end=\" \")\n",
    "    for j in range(0,i+1):\n",
    "        print(\"*\",end=\"\")\n",
    "    print()"
   ]
  },
  {
   "cell_type": "code",
   "execution_count": 125,
   "metadata": {},
   "outputs": [
    {
     "name": "stdout",
     "output_type": "stream",
     "text": [
      "         * \n",
      "        * * \n",
      "       * * * \n",
      "      * * * * \n",
      "     * * * * * \n",
      "    * * * * * * \n",
      "   * * * * * * * \n",
      "  * * * * * * * * \n",
      " * * * * * * * * * \n",
      "* * * * * * * * * * \n"
     ]
    }
   ],
   "source": [
    "for i in range(10):\n",
    "    for j in range(0,10-i-1):\n",
    "        print(\"\",end=\" \")\n",
    "   \n",
    "    for k in range(0,i+1):\n",
    "        print(\"*\",end=\" \")\n",
    "    print()"
   ]
  },
  {
   "cell_type": "code",
   "execution_count": 60,
   "metadata": {},
   "outputs": [
    {
     "name": "stdout",
     "output_type": "stream",
     "text": [
      "         * \n",
      "        * * \n",
      "       * * * \n",
      "      * * * * \n",
      "     * * * * * \n",
      "    * * * * * * \n",
      "   * * * * * * * \n",
      "  * * * * * * * * \n",
      " * * * * * * * * * \n",
      "* * * * * * * * * * \n"
     ]
    }
   ],
   "source": [
    "for i in range(10):\n",
    "    for j in range(0,10-i-1):\n",
    "        print(\"\",end=\" \")\n",
    "    for j in range(0,i+1):\n",
    "        print(\"*\",end=' ')\n",
    "    print()\n",
    "        \n",
    "    \n",
    "   "
   ]
  },
  {
   "cell_type": "code",
   "execution_count": 59,
   "metadata": {},
   "outputs": [
    {
     "name": "stdout",
     "output_type": "stream",
     "text": [
      "                  * \n",
      "                * * \n",
      "              * * * \n",
      "            * * * * \n",
      "          * * * * * \n",
      "        * * * * * * \n",
      "      * * * * * * * \n",
      "    * * * * * * * * \n",
      "  * * * * * * * * * \n",
      "* * * * * * * * * * \n"
     ]
    }
   ],
   "source": [
    "for i in range(10):\n",
    "    for j in range(0,10-i-1):\n",
    "        print(\" \",end=' ')\n",
    "    for j in range(0,i+1):\n",
    "        print(\"*\",end=\" \")\n",
    "    print()"
   ]
  },
  {
   "cell_type": "code",
   "execution_count": 69,
   "metadata": {},
   "outputs": [
    {
     "name": "stdout",
     "output_type": "stream",
     "text": [
      "  * * * * * * * * * * \n",
      "    * * * * * * * * * \n",
      "      * * * * * * * * \n",
      "        * * * * * * * \n",
      "          * * * * * * \n",
      "            * * * * * \n",
      "              * * * * \n",
      "                * * * \n",
      "                  * * \n",
      "                    * \n"
     ]
    }
   ],
   "source": [
    "for i in range(10):\n",
    "    for j in range(0,i+1):\n",
    "        print(\" \",end=\" \")\n",
    "    for j in range(10,i,-1):\n",
    "        print(\"*\",end=\" \")\n",
    "    print()"
   ]
  },
  {
   "cell_type": "code",
   "execution_count": 78,
   "metadata": {},
   "outputs": [
    {
     "name": "stdout",
     "output_type": "stream",
     "text": [
      "* * * * * * * * * * \n",
      "* * * * * * * * * \n",
      "* * * * * * * * \n",
      "* * * * * * * \n",
      "* * * * * * \n",
      "* * * * * \n",
      "* * * * \n",
      "* * * \n",
      "* * \n",
      "* \n"
     ]
    }
   ],
   "source": [
    "for i in range(10):\n",
    "    for j in range(i+1,0):\n",
    "        print(\" \",end=\" \")\n",
    "    for j in range(10,i,-1):\n",
    "        print(\"*\",end=\" \")\n",
    "    print()"
   ]
  },
  {
   "cell_type": "code",
   "execution_count": 100,
   "metadata": {},
   "outputs": [
    {
     "name": "stdout",
     "output_type": "stream",
     "text": [
      "* \n",
      "* * \n",
      "* * * \n",
      "* * * * \n",
      "* * * * * \n",
      "* * * * \n",
      "* * * \n",
      "* * \n",
      "* \n",
      "\n"
     ]
    }
   ],
   "source": [
    "for i in range(5):\n",
    "    for j in range(0,i+1):\n",
    "        print('*',end=\" \")\n",
    "    print()\n",
    "for i in range(5,0,-1):\n",
    "    for j in range(0,i-1):   \n",
    "        print(\"*\",end=\" \")\n",
    "    print()"
   ]
  },
  {
   "cell_type": "code",
   "execution_count": 103,
   "metadata": {},
   "outputs": [
    {
     "name": "stdout",
     "output_type": "stream",
     "text": [
      " * * * * * * * * * * \n",
      "  * * * * * * * * * \n",
      "   * * * * * * * * \n",
      "    * * * * * * * \n",
      "     * * * * * * \n",
      "      * * * * * \n",
      "       * * * * \n",
      "        * * * \n",
      "         * * \n",
      "          * \n"
     ]
    }
   ],
   "source": [
    "for i in range(10):\n",
    "    for j in range(0,i+1):\n",
    "        print('',end=\" \")\n",
    "    for j in range(0,10-i):\n",
    "        print(\"*\",end=\" \")\n",
    "    print()"
   ]
  },
  {
   "cell_type": "code",
   "execution_count": 124,
   "metadata": {},
   "outputs": [
    {
     "name": "stdout",
     "output_type": "stream",
     "text": [
      "         * \n",
      "        * * \n",
      "       * * * \n",
      "      * * * * \n",
      "     * * * * * \n",
      "    * * * * * * \n",
      "   * * * * * * * \n",
      "  * * * * * * * * \n",
      " * * * * * * * * * \n",
      "* * * * * * * * * * \n",
      " * * * * * * * * * \n",
      "  * * * * * * * * \n",
      "   * * * * * * * \n",
      "    * * * * * * \n",
      "     * * * * * \n",
      "      * * * * \n",
      "       * * * \n",
      "        * * \n",
      "         * \n",
      "          \n"
     ]
    }
   ],
   "source": [
    "for i in range(10):\n",
    "    for j in range(0, 10-i-1):\n",
    "        print(\"\",end=\" \")\n",
    "    for j in range(0,i+1):\n",
    "        print('*',end=\" \")\n",
    "    print()\n",
    "for i in range(0,10):\n",
    "    for j in range(0,i+1):\n",
    "        print(\" \",end=\"\")\n",
    "    for j in range(9,i,-1):\n",
    "        print(\"*\",end=\" \")\n",
    "    print()\n"
   ]
  },
  {
   "cell_type": "code",
   "execution_count": 146,
   "metadata": {},
   "outputs": [
    {
     "name": "stdout",
     "output_type": "stream",
     "text": [
      "          * \n",
      "         * * \n",
      "        *   * \n",
      "       *     * \n",
      "      * * * * * \n",
      "     *   * * * * \n",
      "    *   * * * * * \n",
      "   * * * * * * * * \n",
      "  * * * * * * * * * \n",
      " * * * * * * * * * * \n"
     ]
    }
   ],
   "source": [
    "for i in range(10):\n",
    "    for j in range(10,i,-1):\n",
    "        print(\" \",end=\"\")\n",
    "    for j in range(0,i+1):\n",
    "        if (i ==2 and j==1 ) or (i==3 and (j==1 or j==2) ):\n",
    "            print(\" \",end=\" \")\n",
    "        elif ((i==5 or i==6 ) and j==1):\n",
    "            print(\" \",end=\" \")\n",
    "        \n",
    "\n",
    "            \n",
    "        else :\n",
    "            print(\"*\",end =\" \")\n",
    "        continue   \n",
    "        print(\"*\",end =\" \")\n",
    "    print()"
   ]
  },
  {
   "cell_type": "code",
   "execution_count": 147,
   "metadata": {},
   "outputs": [],
   "source": [
    "### A shape needs to be implemented later\n"
   ]
  },
  {
   "cell_type": "code",
   "execution_count": 161,
   "metadata": {},
   "outputs": [
    {
     "name": "stdout",
     "output_type": "stream",
     "text": [
      "A eandom number between 1 and 10 : 91\n"
     ]
    }
   ],
   "source": [
    "from random import randint \n",
    "x= randint(1,100)\n",
    "print(\"A eandom number between 1 and 10 :\",x)\n"
   ]
  },
  {
   "cell_type": "code",
   "execution_count": 188,
   "metadata": {},
   "outputs": [
    {
     "data": {
      "text/plain": [
       "120"
      ]
     },
     "execution_count": 188,
     "metadata": {},
     "output_type": "execute_result"
    }
   ],
   "source": [
    "from math import factorial,sin,tan,cos,pi,exp,floor,ceil,sqrt\n",
    "\n",
    "fact = factorial\n",
    "fact(5)"
   ]
  },
  {
   "cell_type": "code",
   "execution_count": 169,
   "metadata": {},
   "outputs": [
    {
     "data": {
      "text/plain": [
       "10.0"
      ]
     },
     "execution_count": 169,
     "metadata": {},
     "output_type": "execute_result"
    }
   ],
   "source": [
    "sqrt(100)"
   ]
  },
  {
   "cell_type": "code",
   "execution_count": 170,
   "metadata": {},
   "outputs": [
    {
     "data": {
      "text/plain": [
       "6.283185307179586"
      ]
     },
     "execution_count": 170,
     "metadata": {},
     "output_type": "execute_result"
    }
   ],
   "source": [
    "pi*2"
   ]
  },
  {
   "cell_type": "code",
   "execution_count": 172,
   "metadata": {},
   "outputs": [
    {
     "data": {
      "text/plain": [
       "3628800"
      ]
     },
     "execution_count": 172,
     "metadata": {},
     "output_type": "execute_result"
    }
   ],
   "source": [
    "factorial(10)"
   ]
  },
  {
   "cell_type": "code",
   "execution_count": 173,
   "metadata": {},
   "outputs": [
    {
     "data": {
      "text/plain": [
       "-0.9589242746631385"
      ]
     },
     "execution_count": 173,
     "metadata": {},
     "output_type": "execute_result"
    }
   ],
   "source": [
    "sin(5)"
   ]
  },
  {
   "cell_type": "code",
   "execution_count": 174,
   "metadata": {},
   "outputs": [
    {
     "data": {
      "text/plain": [
       "0.28366218546322625"
      ]
     },
     "execution_count": 174,
     "metadata": {},
     "output_type": "execute_result"
    }
   ],
   "source": [
    "cos(5)"
   ]
  },
  {
   "cell_type": "code",
   "execution_count": 175,
   "metadata": {},
   "outputs": [
    {
     "data": {
      "text/plain": [
       "-3.380515006246586"
      ]
     },
     "execution_count": 175,
     "metadata": {},
     "output_type": "execute_result"
    }
   ],
   "source": [
    "tan(5)"
   ]
  },
  {
   "cell_type": "code",
   "execution_count": 179,
   "metadata": {},
   "outputs": [
    {
     "data": {
      "text/plain": [
       "7.38905609893065"
      ]
     },
     "execution_count": 179,
     "metadata": {},
     "output_type": "execute_result"
    }
   ],
   "source": [
    "exp(2)"
   ]
  },
  {
   "cell_type": "code",
   "execution_count": 185,
   "metadata": {},
   "outputs": [
    {
     "data": {
      "text/plain": [
       "10"
      ]
     },
     "execution_count": 185,
     "metadata": {},
     "output_type": "execute_result"
    }
   ],
   "source": [
    "floor(10.788)"
   ]
  },
  {
   "cell_type": "code",
   "execution_count": 186,
   "metadata": {},
   "outputs": [
    {
     "data": {
      "text/plain": [
       "11"
      ]
     },
     "execution_count": 186,
     "metadata": {},
     "output_type": "execute_result"
    }
   ],
   "source": [
    "ceil(10.223)"
   ]
  },
  {
   "cell_type": "code",
   "execution_count": 190,
   "metadata": {},
   "outputs": [
    {
     "data": {
      "text/plain": [
       "10.223"
      ]
     },
     "execution_count": 190,
     "metadata": {},
     "output_type": "execute_result"
    }
   ],
   "source": [
    "round(10.2234566,3)"
   ]
  },
  {
   "cell_type": "code",
   "execution_count": 192,
   "metadata": {},
   "outputs": [
    {
     "name": "stdout",
     "output_type": "stream",
     "text": [
      "pi is roughly :  3.141592653589793\n"
     ]
    },
    {
     "data": {
      "text/plain": [
       "0.0"
      ]
     },
     "execution_count": 192,
     "metadata": {},
     "output_type": "execute_result"
    }
   ],
   "source": [
    "print(\"pi is roughly : \",pi)\n",
    "sin(0)"
   ]
  },
  {
   "cell_type": "code",
   "execution_count": 194,
   "metadata": {},
   "outputs": [
    {
     "data": {
      "text/plain": [
       "3.4455667"
      ]
     },
     "execution_count": 194,
     "metadata": {},
     "output_type": "execute_result"
    }
   ],
   "source": [
    "abs(-3.4455667)"
   ]
  },
  {
   "cell_type": "code",
   "execution_count": 199,
   "metadata": {},
   "outputs": [
    {
     "data": {
      "text/plain": [
       "3.679"
      ]
     },
     "execution_count": 199,
     "metadata": {},
     "output_type": "execute_result"
    }
   ],
   "source": [
    "round(3.67899876,3)"
   ]
  },
  {
   "cell_type": "code",
   "execution_count": 203,
   "metadata": {},
   "outputs": [
    {
     "data": {
      "text/plain": [
       "3.34"
      ]
     },
     "execution_count": 203,
     "metadata": {},
     "output_type": "execute_result"
    }
   ],
   "source": [
    "round(3.336,2)"
   ]
  },
  {
   "cell_type": "code",
   "execution_count": 209,
   "metadata": {},
   "outputs": [
    {
     "data": {
      "text/plain": [
       "10.0"
      ]
     },
     "execution_count": 209,
     "metadata": {},
     "output_type": "execute_result"
    }
   ],
   "source": [
    "round(9.4567,-1)"
   ]
  },
  {
   "cell_type": "markdown",
   "metadata": {},
   "source": [
    "##### Exercise 3.8"
   ]
  },
  {
   "cell_type": "code",
   "execution_count": 211,
   "metadata": {},
   "outputs": [
    {
     "name": "stdout",
     "output_type": "stream",
     "text": [
      "4 3 4 6 5 4 6 5 5 5 4 6 6 5 3 5 5 3 6 4 6 3 6 6 5 6 6 5 4 3 4 5 5 5 6 3 3 3 4 6 4 5 6 3 3 5 3 3 6 4 "
     ]
    }
   ],
   "source": [
    "# Exercise 1\n",
    "\n",
    "for i in range(50):\n",
    "    x= randint(3,6)\n",
    "    print(x,end=\" \")"
   ]
  },
  {
   "cell_type": "code",
   "execution_count": 6,
   "metadata": {},
   "outputs": [
    {
     "name": "stdout",
     "output_type": "stream",
     "text": [
      "24\n",
      "5\n",
      "7962624\n"
     ]
    }
   ],
   "source": [
    "# Exercise 2\n",
    "import random\n",
    "x = random.randint(1,50)\n",
    "\n",
    "print(x)\n",
    "y= random.randint(2,5)\n",
    "print(y)\n",
    "print(x**y)"
   ]
  },
  {
   "cell_type": "code",
   "execution_count": 8,
   "metadata": {},
   "outputs": [
    {
     "name": "stdout",
     "output_type": "stream",
     "text": [
      "3\n",
      "nayeem\n",
      "nayeem\n",
      "nayeem\n"
     ]
    }
   ],
   "source": [
    "# Exercise 3\n",
    "x = random.randint(1,10)\n",
    "print(x)\n",
    "\n",
    "for i in range(x):\n",
    "    print(\"nayeem\")"
   ]
  },
  {
   "cell_type": "code",
   "execution_count": 9,
   "metadata": {},
   "outputs": [
    {
     "name": "stdout",
     "output_type": "stream",
     "text": [
      "4\n"
     ]
    }
   ],
   "source": [
    "# Exercise 4\n",
    "from random import randint\n",
    "\n",
    "x = random.randint(1,10)\n",
    "print(x)"
   ]
  },
  {
   "cell_type": "code",
   "execution_count": 10,
   "metadata": {},
   "outputs": [
    {
     "name": "stdout",
     "output_type": "stream",
     "text": [
      "2 3 4 5 1 1 8 3 1 8 4 11 9 14 12 1 16 10 12 8 2 2 11 15 11 6 13 10 11 29 23 32 21 35 7 14 36 31 34 35 7 22 39 36 20 46 9 46 15 32 "
     ]
    }
   ],
   "source": [
    "# Exercise 5\n",
    "\n",
    "for i in range(50):\n",
    "    x = random.randint(1,i+2)\n",
    "    print(x,end=\" \")"
   ]
  },
  {
   "cell_type": "code",
   "execution_count": 1,
   "metadata": {},
   "outputs": [
    {
     "name": "stdout",
     "output_type": "stream",
     "text": [
      "Enter first number : 5\n",
      "Enter second number : 10\n",
      "5\n",
      "0.3333333333333333\n"
     ]
    }
   ],
   "source": [
    "# Exercise 6\n",
    "\n",
    "x = eval(input(\"Enter first number : \"))\n",
    "y = eval (input(\"Enter second number : \"))\n",
    "\n",
    "z= x-y\n",
    "zz = x+y\n",
    "print(abs(z))\n",
    "r = abs(z)/zz\n",
    "print(r)\n"
   ]
  },
  {
   "cell_type": "code",
   "execution_count": 11,
   "metadata": {},
   "outputs": [
    {
     "name": "stdout",
     "output_type": "stream",
     "text": [
      "Enter an angel between -180 to 180 : -27\n",
      "207\n"
     ]
    }
   ],
   "source": [
    "# Exercise 7\n",
    "\n",
    "an = eval(input(\"Enter an angel between -180 to 180 : \"))\n",
    "\n",
    "if an >=0 :\n",
    "    print(an)\n",
    "else:\n",
    "    print(180+abs(an))\n",
    "    "
   ]
  },
  {
   "cell_type": "code",
   "execution_count": 12,
   "metadata": {},
   "outputs": [
    {
     "name": "stdout",
     "output_type": "stream",
     "text": [
      "Enter number of seconds : 130\n",
      "2 minutes and  10 seconds !\n"
     ]
    }
   ],
   "source": [
    "# Exercise 8\n",
    "\n",
    "s = eval (input(\"Enter number of seconds : \"))\n",
    "\n",
    "m= s//60\n",
    "a =s%60\n",
    "print(m,\"minutes and \",a,\"seconds !\")\n"
   ]
  },
  {
   "cell_type": "code",
   "execution_count": 14,
   "metadata": {},
   "outputs": [
    {
     "name": "stdout",
     "output_type": "stream",
     "text": [
      "Enter the hours between 1 and 12 : 2\n",
      "How many hours you want to go ahed : 4\n",
      "6 o' clock\n"
     ]
    }
   ],
   "source": [
    "# Exercise 9\n",
    "h = eval(input(\"Enter the hours between 1 and 12 : \"))\n",
    "i = eval(input(\"How many hours you want to go ahed : \"))\n",
    "\n",
    "m = h+i\n",
    "n= 0\n",
    "if m>=12:\n",
    "    n = m%12\n",
    "    print(n,\"'o clock\")\n",
    "else :\n",
    "    print(m,\"o' clock\")\n",
    "\n",
    "\n"
   ]
  },
  {
   "cell_type": "code",
   "execution_count": null,
   "metadata": {},
   "outputs": [],
   "source": [
    "# Exercise 10\n",
    "\n"
   ]
  },
  {
   "cell_type": "code",
   "execution_count": 10,
   "metadata": {},
   "outputs": [
    {
     "name": "stdout",
     "output_type": "stream",
     "text": [
      " Enter any weight in kilogram : 3.333\n",
      "7.33 pounds !\n"
     ]
    }
   ],
   "source": [
    "# Exercise 11\n",
    "\n",
    "a = eval(input(\" Enter any weight in kilogram : \"))\n",
    "p = a*2.2\n",
    "a = round(p,2)\n",
    "print(a,\"pounds !\")"
   ]
  },
  {
   "cell_type": "code",
   "execution_count": 11,
   "metadata": {},
   "outputs": [
    {
     "name": "stdout",
     "output_type": "stream",
     "text": [
      "0.3333333333333333\n",
      "0.3333333\n"
     ]
    }
   ],
   "source": [
    "a =3/9\n",
    "print(a)\n",
    "b= round(a,7)\n",
    "print(b)"
   ]
  },
  {
   "cell_type": "code",
   "execution_count": 14,
   "metadata": {},
   "outputs": [
    {
     "name": "stdout",
     "output_type": "stream",
     "text": [
      "Enter a number : 10\n",
      "3628800\n"
     ]
    }
   ],
   "source": [
    "# Exercise 12\n",
    "\n",
    "n = eval (input(\"Enter a number : \"))\n",
    "m=1\n",
    "for i in range(1,n+1):\n",
    "    m=m*i\n",
    "print(m)"
   ]
  },
  {
   "cell_type": "code",
   "execution_count": 18,
   "metadata": {},
   "outputs": [
    {
     "name": "stdout",
     "output_type": "stream",
     "text": [
      "Enter a number : 3\n",
      "0.1411200080598672\n",
      "-0.9899924966004454\n",
      "-0.1425465430742778\n"
     ]
    }
   ],
   "source": [
    "# Exercise 13\n",
    "from math import sin, cos , tan\n",
    "\n",
    "n = eval(input(\"Enter a number : \"))\n",
    "print(sin(n))\n",
    "print(cos(n))\n",
    "print(tan(n))"
   ]
  },
  {
   "cell_type": "code",
   "execution_count": 19,
   "metadata": {},
   "outputs": [
    {
     "name": "stdout",
     "output_type": "stream",
     "text": [
      "Enter a angel in degree and get the sine of that angel : 120\n",
      "0.5806111842123143\n"
     ]
    }
   ],
   "source": [
    "# Exercise 14\n",
    "n = eval(input(\"Enter a angel in degree and get the sine of that angel : \"))\n",
    "\n",
    "print(sin(n))"
   ]
  },
  {
   "cell_type": "code",
   "execution_count": null,
   "metadata": {},
   "outputs": [],
   "source": [
    "# Exercise 15"
   ]
  },
  {
   "cell_type": "code",
   "execution_count": null,
   "metadata": {},
   "outputs": [],
   "source": [
    "# Exercise 16"
   ]
  },
  {
   "cell_type": "code",
   "execution_count": null,
   "metadata": {},
   "outputs": [],
   "source": [
    "# Exercise 17"
   ]
  },
  {
   "cell_type": "code",
   "execution_count": null,
   "metadata": {},
   "outputs": [],
   "source": [
    "# Exercise 18 "
   ]
  },
  {
   "cell_type": "code",
   "execution_count": 2,
   "metadata": {},
   "outputs": [
    {
     "name": "stdout",
     "output_type": "stream",
     "text": [
      "Enter the row number of the rectangle : 3\n",
      "Enter the column number of the rectangle : 3\n",
      "0 1 2 \n",
      "1 2 3 \n",
      "2 3 4 \n"
     ]
    }
   ],
   "source": [
    "# Exercise 19\n",
    "row = eval (input(\"Enter the row number of the rectangle : \"))\n",
    "col = eval (input(\"Enter the column number of the rectangle : \"))\n",
    "\n",
    "for i  in range(row):\n",
    "    for j in range(col):\n",
    "        n=i+j\n",
    "        print(n,end=\" \")\n",
    "        \n",
    "        \n",
    "    print()"
   ]
  },
  {
   "cell_type": "code",
   "execution_count": null,
   "metadata": {},
   "outputs": [],
   "source": [
    "n = row *col\n",
    "l = []\n",
    "\n",
    "for i in range(n):\n",
    "    l.append(i)\n",
    "print(l)"
   ]
  },
  {
   "cell_type": "code",
   "execution_count": null,
   "metadata": {},
   "outputs": [],
   "source": [
    "# Exercise 20"
   ]
  },
  {
   "cell_type": "code",
   "execution_count": null,
   "metadata": {},
   "outputs": [],
   "source": [
    "# Exercise"
   ]
  },
  {
   "cell_type": "code",
   "execution_count": null,
   "metadata": {},
   "outputs": [],
   "source": [
    "# Exercise"
   ]
  },
  {
   "cell_type": "code",
   "execution_count": null,
   "metadata": {},
   "outputs": [],
   "source": [
    "# Exercise"
   ]
  },
  {
   "cell_type": "code",
   "execution_count": null,
   "metadata": {},
   "outputs": [],
   "source": [
    "# Exercise"
   ]
  },
  {
   "cell_type": "code",
   "execution_count": null,
   "metadata": {},
   "outputs": [],
   "source": [
    "# Exercise"
   ]
  },
  {
   "cell_type": "code",
   "execution_count": null,
   "metadata": {},
   "outputs": [],
   "source": [
    "# Exercise"
   ]
  },
  {
   "cell_type": "code",
   "execution_count": null,
   "metadata": {},
   "outputs": [],
   "source": [
    "# Exercise"
   ]
  },
  {
   "cell_type": "code",
   "execution_count": null,
   "metadata": {},
   "outputs": [],
   "source": [
    "# Exercise"
   ]
  },
  {
   "cell_type": "code",
   "execution_count": null,
   "metadata": {},
   "outputs": [],
   "source": [
    "# Exercise"
   ]
  },
  {
   "cell_type": "code",
   "execution_count": null,
   "metadata": {},
   "outputs": [],
   "source": [
    "# Exercise"
   ]
  },
  {
   "cell_type": "code",
   "execution_count": null,
   "metadata": {},
   "outputs": [],
   "source": [
    "# Exercise"
   ]
  },
  {
   "cell_type": "code",
   "execution_count": null,
   "metadata": {},
   "outputs": [],
   "source": [
    "# Exercise"
   ]
  },
  {
   "cell_type": "code",
   "execution_count": null,
   "metadata": {},
   "outputs": [],
   "source": [
    "# Exercise"
   ]
  },
  {
   "cell_type": "code",
   "execution_count": null,
   "metadata": {},
   "outputs": [],
   "source": [
    "# Exercise"
   ]
  },
  {
   "cell_type": "markdown",
   "metadata": {},
   "source": [
    "### Chapter 4 : If statement\n"
   ]
  },
  {
   "cell_type": "code",
   "execution_count": null,
   "metadata": {},
   "outputs": [],
   "source": [
    "from random import randint\n",
    "\n",
    "r=True\n",
    "while r:\n",
    "    x=randint(1,10)\n",
    "    n=eval(input(\"Enter a number : \"))\n",
    "    if x==n:\n",
    "        print(\"You got the numner : \",x)\n",
    "        print(\"You won ! Congratulations !\")\n",
    "        r= eval(input(\"would you like to play again? press 1 for Play again : \"))\n",
    "        if r== 1:\n",
    "            r = True\n",
    "        else :\n",
    "            r =False\n",
    "\n",
    "    else :\n",
    "        print(\"Wrong guess ! Actual result is : \",x)\n",
    "        r= eval(input(\"would you like to retry? press 1 for retry : \"))\n",
    "        if r== 1:\n",
    "            r = True\n",
    "        else :\n",
    "            r =False\n",
    "print(\"thanks for playing the game\")\n"
   ]
  },
  {
   "cell_type": "code",
   "execution_count": 1,
   "metadata": {},
   "outputs": [
    {
     "name": "stdout",
     "output_type": "stream",
     "text": [
      "Hello\n"
     ]
    }
   ],
   "source": [
    "print(\"Hello\")"
   ]
  },
  {
   "cell_type": "code",
   "execution_count": 6,
   "metadata": {},
   "outputs": [
    {
     "name": "stdout",
     "output_type": "stream",
     "text": [
      "Enter marks between 100 and 5082\n",
      "A+\n"
     ]
    }
   ],
   "source": [
    "e = eval(input(\"Enter marks between 100 and 50\"))\n",
    "\n",
    "if e >= 80 and e<90:\n",
    "    print(\"A+\")\n",
    "elif e>90:\n",
    "    print(\"Golden A+\")\n",
    "elif e<80 and e>=70:\n",
    "    print(\"A\")\n",
    "elif e<70 and e>=50:\n",
    "    print(\"quite Good\")\n",
    "else :\n",
    "    print(\"Fail\")"
   ]
  },
  {
   "cell_type": "markdown",
   "metadata": {},
   "source": [
    "#### 4.5 Exercise "
   ]
  },
  {
   "cell_type": "code",
   "execution_count": 3,
   "metadata": {},
   "outputs": [
    {
     "name": "stdout",
     "output_type": "stream",
     "text": [
      "Enter a length in centimeters : 5\n",
      "1.968503937007874\n"
     ]
    }
   ],
   "source": [
    "# Exercise 1\n",
    "\n",
    "i = eval(input(\"Enter a length in centimeters : \"))\n",
    "inch = 0\n",
    "if i <0 :\n",
    "    print(\"Please input an positive length and try again.\")\n",
    "else :\n",
    "    inch = i/2.54\n",
    "print(inch)"
   ]
  },
  {
   "cell_type": "code",
   "execution_count": 8,
   "metadata": {},
   "outputs": [
    {
     "name": "stdout",
     "output_type": "stream",
     "text": [
      "Enter the teperature : 280\n",
      "Enter the meter (fahrenheit or celcius) : celcius\n",
      "536.0\n"
     ]
    }
   ],
   "source": [
    "# Exercise 2\n",
    "\n",
    "temp =eval(input(\"Enter the teperature : \"))\n",
    "f = input(\"Enter the meter (fahrenheit or celcius) : \")\n",
    "f.lower()\n",
    "n=0\n",
    "\n",
    "if f == 'celcius':\n",
    "    n = ((9/5)*temp)+32\n",
    "else :\n",
    "    n = (temp-32)*5/9\n",
    "print(n)"
   ]
  },
  {
   "cell_type": "code",
   "execution_count": null,
   "metadata": {},
   "outputs": [],
   "source": [
    "# Exercise 3"
   ]
  },
  {
   "cell_type": "code",
   "execution_count": null,
   "metadata": {},
   "outputs": [],
   "source": [
    "# Exercise 4"
   ]
  },
  {
   "cell_type": "code",
   "execution_count": null,
   "metadata": {},
   "outputs": [],
   "source": [
    "# Exercise 5"
   ]
  },
  {
   "cell_type": "code",
   "execution_count": null,
   "metadata": {},
   "outputs": [],
   "source": [
    "# Exercise 6"
   ]
  },
  {
   "cell_type": "code",
   "execution_count": null,
   "metadata": {},
   "outputs": [],
   "source": [
    "# Exercise 7 "
   ]
  },
  {
   "cell_type": "code",
   "execution_count": null,
   "metadata": {},
   "outputs": [],
   "source": [
    "# Exercise 8"
   ]
  },
  {
   "cell_type": "code",
   "execution_count": null,
   "metadata": {},
   "outputs": [],
   "source": [
    "# Exercise 9"
   ]
  },
  {
   "cell_type": "code",
   "execution_count": null,
   "metadata": {},
   "outputs": [],
   "source": [
    "# Exercise 10"
   ]
  },
  {
   "cell_type": "code",
   "execution_count": null,
   "metadata": {},
   "outputs": [],
   "source": [
    "# Exercise 11"
   ]
  },
  {
   "cell_type": "code",
   "execution_count": null,
   "metadata": {},
   "outputs": [],
   "source": [
    "# Exercise 12"
   ]
  },
  {
   "cell_type": "code",
   "execution_count": null,
   "metadata": {},
   "outputs": [],
   "source": [
    "# Exercise 13"
   ]
  },
  {
   "cell_type": "markdown",
   "metadata": {},
   "source": [
    "### Chapter 5 Miscellaneous Topic "
   ]
  },
  {
   "cell_type": "code",
   "execution_count": 10,
   "metadata": {},
   "outputs": [
    {
     "name": "stdout",
     "output_type": "stream",
     "text": [
      "Enter the number : 55\n",
      "Enter the number : 2\n",
      "Enter the number : 66\n",
      "Enter the number : 99\n",
      "Enter the number : 101\n",
      "There are  4 numbers greater than 10\n",
      "There are  1 numbers lower than 10\n"
     ]
    }
   ],
   "source": [
    "count=0\n",
    "c=0\n",
    "\n",
    "for i in range(5):\n",
    "    n = eval(input(\"Enter the number : \"))\n",
    "    if n>10:\n",
    "        count=count+1\n",
    "    else :\n",
    "        c+=1\n",
    "print(\"There are \",count,\"numbers greater than 10\")\n",
    "print(\"There are \",c,\"numbers lower than 10\")"
   ]
  },
  {
   "cell_type": "code",
   "execution_count": 15,
   "metadata": {},
   "outputs": [
    {
     "name": "stdout",
     "output_type": "stream",
     "text": [
      "there are  20 numbers which is modulus by 10 and end in 4\n",
      "there are  80 numbers which is not ending in 4\n"
     ]
    }
   ],
   "source": [
    "c=0\n",
    "x=0\n",
    "\n",
    "for i in range(1,101):\n",
    "    if (i**2)%10==4:\n",
    "        \n",
    "        c+=1\n",
    "    else :\n",
    "        x+=1\n",
    "        \n",
    "        \n",
    "print(\"there are \",c,\"numbers which is modulus by 10 and end in 4\")\n",
    "print(\"there are \",x,\"numbers which is not ending in 4\")\n",
    "\n",
    "        "
   ]
  },
  {
   "cell_type": "code",
   "execution_count": 18,
   "metadata": {},
   "outputs": [
    {
     "name": "stdout",
     "output_type": "stream",
     "text": [
      "How many numbers would you like to take? 5\n",
      "Enter numbers for n : 1\n",
      "Enter numbers for n : 2\n",
      "Enter numbers for n : 3\n",
      "Enter numbers for n : 4\n",
      "Enter numbers for n : 5\n",
      "Average is :  3.0\n"
     ]
    }
   ],
   "source": [
    "s=0\n",
    "m=eval(input(\"How many numbers would you like to take? \") )\n",
    "for i in range(m):\n",
    "    n = eval(input(\"Enter numbers for n : \"))\n",
    "    s+=n\n",
    "print(\"Average is : \",s/m) "
   ]
  },
  {
   "cell_type": "code",
   "execution_count": 22,
   "metadata": {},
   "outputs": [
    {
     "name": "stdout",
     "output_type": "stream",
     "text": [
      "Enter a number : 6\n",
      "not prime :  6\n"
     ]
    }
   ],
   "source": [
    "n =eval(input(\"Enter a number : \"))\n",
    "\n",
    "flag =0\n",
    "for i in range(2,n):\n",
    "    if n%i==0:\n",
    "        flag=1\n",
    "if flag==1:\n",
    "    print(\"not prime : \",n)\n",
    "    \n",
    "else :\n",
    "    print(\"prime number : \",n)"
   ]
  },
  {
   "cell_type": "code",
   "execution_count": 9,
   "metadata": {},
   "outputs": [
    {
     "name": "stdout",
     "output_type": "stream",
     "text": [
      "Enter a positive number : 50\n",
      "How many numbers would you like to take?5\n",
      "Enter numbers : 10\n",
      "Enter numbers : 11\n",
      "Enter numbers : 99\n",
      "Enter numbers : 100\n",
      "Enter numbers : 5\n",
      "Largest number is :  100\n"
     ]
    }
   ],
   "source": [
    "l = eval(input(\"Enter a positive number : \"))\n",
    "n= eval(input(\"How many numbers would you like to take?\"))\n",
    "\n",
    "for i in range(n):\n",
    "    n = eval(input(\"Enter numbers : \"))\n",
    "    if n>l:\n",
    "        l=n\n",
    "print(\"Largest number is : \",l)\n",
    "    "
   ]
  },
  {
   "cell_type": "code",
   "execution_count": 8,
   "metadata": {},
   "outputs": [
    {
     "name": "stdout",
     "output_type": "stream",
     "text": [
      "Hello world\n"
     ]
    }
   ],
   "source": [
    "print(\"Hello world\") "
   ]
  },
  {
   "cell_type": "code",
   "execution_count": 12,
   "metadata": {},
   "outputs": [
    {
     "name": "stdout",
     "output_type": "stream",
     "text": [
      "This line is not in a comment and it will be executed.\n"
     ]
    }
   ],
   "source": [
    "\"\"\" print('This line and the next are inside a comment.') print('These lines will not get executed.') \"\"\" \n",
    "print('This line is not in a comment and it will be executed.')\n"
   ]
  },
  {
   "cell_type": "code",
   "execution_count": 6,
   "metadata": {},
   "outputs": [
    {
     "name": "stdout",
     "output_type": "stream",
     "text": [
      "Enter two numbers : 5,500\n",
      "5 | 500\n"
     ]
    }
   ],
   "source": [
    "n,m = eval(input(\"Enter two numbers : \"))\n",
    "print(n,m,sep=\" | \")"
   ]
  },
  {
   "cell_type": "code",
   "execution_count": 10,
   "metadata": {},
   "outputs": [
    {
     "name": "stdout",
     "output_type": "stream",
     "text": [
      "Enter number: 5\n",
      "4 0\n"
     ]
    }
   ],
   "source": [
    "flag = 0 \n",
    "num = eval(input('Enter number: ')) \n",
    "for i in range(2,num): \n",
    "    if num%i==0:\n",
    "        flag = 1 \n",
    "print(i, flag)\n"
   ]
  },
  {
   "cell_type": "code",
   "execution_count": 13,
   "metadata": {},
   "outputs": [
    {
     "name": "stdout",
     "output_type": "stream",
     "text": [
      "Hello. Hello. Hello. Hello. Hello. Hello. Hello. Hello. "
     ]
    }
   ],
   "source": [
    "from random import randint\n",
    "n = randint(0,10)\n",
    "\n",
    "for i in range(n):\n",
    "    print(\"Hello\",end=\". \")"
   ]
  },
  {
   "cell_type": "code",
   "execution_count": 18,
   "metadata": {},
   "outputs": [
    {
     "name": "stdout",
     "output_type": "stream",
     "text": [
      "hellohellohellohellohellohello\n",
      "hellohellohellohellohellohellohellohello\n",
      "hellohellohello\n",
      "hellohellohello\n",
      "hellohellohello\n",
      "hellohellohellohellohellohellohello\n",
      "hellohellohellohello\n",
      "hellohellohellohellohellohello\n"
     ]
    }
   ],
   "source": [
    "n= randint(1,10)\n",
    "\n",
    "for i in range(n):\n",
    "    r = randint(1,10)\n",
    "    print(\"hello\"*r)"
   ]
  },
  {
   "cell_type": "code",
   "execution_count": 21,
   "metadata": {},
   "outputs": [
    {
     "name": "stdout",
     "output_type": "stream",
     "text": [
      "Number of multiples of 12 is :  17\n"
     ]
    }
   ],
   "source": [
    "c =0\n",
    "\n",
    "for i in range(200):\n",
    "    if i%12==0:\n",
    "        c+=1\n",
    "print(\"Number of multiples of 12 is : \",c)"
   ]
  },
  {
   "cell_type": "markdown",
   "metadata": {},
   "source": [
    "#### 5.9 Exercises "
   ]
  },
  {
   "cell_type": "code",
   "execution_count": null,
   "metadata": {},
   "outputs": [],
   "source": [
    "# Exercise 1"
   ]
  },
  {
   "cell_type": "code",
   "execution_count": null,
   "metadata": {},
   "outputs": [],
   "source": [
    "# Exercise 2"
   ]
  },
  {
   "cell_type": "code",
   "execution_count": null,
   "metadata": {},
   "outputs": [],
   "source": [
    "# Exercise 3"
   ]
  },
  {
   "cell_type": "code",
   "execution_count": null,
   "metadata": {},
   "outputs": [],
   "source": [
    "# Exercise 4"
   ]
  },
  {
   "cell_type": "code",
   "execution_count": null,
   "metadata": {},
   "outputs": [],
   "source": [
    "# Exercise 5"
   ]
  },
  {
   "cell_type": "code",
   "execution_count": null,
   "metadata": {},
   "outputs": [],
   "source": [
    "# Exercise 6"
   ]
  },
  {
   "cell_type": "code",
   "execution_count": null,
   "metadata": {},
   "outputs": [],
   "source": [
    "# Exercise 7"
   ]
  },
  {
   "cell_type": "code",
   "execution_count": null,
   "metadata": {},
   "outputs": [],
   "source": [
    "# Exercise 8"
   ]
  },
  {
   "cell_type": "code",
   "execution_count": null,
   "metadata": {},
   "outputs": [],
   "source": [
    "# Exercise 9"
   ]
  },
  {
   "cell_type": "code",
   "execution_count": null,
   "metadata": {},
   "outputs": [],
   "source": [
    "# Exercise 10"
   ]
  },
  {
   "cell_type": "code",
   "execution_count": null,
   "metadata": {},
   "outputs": [],
   "source": [
    "# Exercise 11"
   ]
  },
  {
   "cell_type": "code",
   "execution_count": null,
   "metadata": {},
   "outputs": [],
   "source": [
    "# Exercise 12"
   ]
  },
  {
   "cell_type": "code",
   "execution_count": null,
   "metadata": {},
   "outputs": [],
   "source": [
    "# Exercise 13"
   ]
  },
  {
   "cell_type": "code",
   "execution_count": null,
   "metadata": {},
   "outputs": [],
   "source": [
    "# Exercise 14"
   ]
  },
  {
   "cell_type": "code",
   "execution_count": null,
   "metadata": {},
   "outputs": [],
   "source": [
    "# Exercise 15"
   ]
  },
  {
   "cell_type": "markdown",
   "metadata": {},
   "source": [
    "### Chapter 6 - Strings"
   ]
  },
  {
   "cell_type": "code",
   "execution_count": 25,
   "metadata": {},
   "outputs": [
    {
     "name": "stdout",
     "output_type": "stream",
     "text": [
      "Hello\n",
      "how are you doing\n",
      "\n",
      "jsdhfkasf\n",
      "askjdfhasf\n",
      "sfjkf\n"
     ]
    }
   ],
   "source": [
    "s =\"Hello\"\n",
    "n=\"how are you doing\"\n",
    "g=\"\"\"jsdhfkasf\n",
    "askjdfhasf\n",
    "sfjkf\"\"\"\n",
    "print(s)\n",
    "print(n)\n",
    "print()\n",
    "print(g)"
   ]
  },
  {
   "cell_type": "code",
   "execution_count": 28,
   "metadata": {},
   "outputs": [
    {
     "name": "stdout",
     "output_type": "stream",
     "text": [
      "HELLO\n",
      "Hello\n"
     ]
    }
   ],
   "source": [
    "print(s.upper())\n",
    "print(s)\n"
   ]
  },
  {
   "cell_type": "code",
   "execution_count": 31,
   "metadata": {},
   "outputs": [
    {
     "name": "stdout",
     "output_type": "stream",
     "text": [
      "hello\n"
     ]
    }
   ],
   "source": [
    "print(s.lower())\n"
   ]
  },
  {
   "cell_type": "code",
   "execution_count": 32,
   "metadata": {},
   "outputs": [
    {
     "data": {
      "text/plain": [
       "14"
      ]
     },
     "execution_count": 32,
     "metadata": {},
     "output_type": "execute_result"
    }
   ],
   "source": [
    "len(\"jsdhgkasdhfkad\")"
   ]
  },
  {
   "cell_type": "code",
   "execution_count": 33,
   "metadata": {},
   "outputs": [
    {
     "data": {
      "text/plain": [
       "26"
      ]
     },
     "execution_count": 33,
     "metadata": {},
     "output_type": "execute_result"
    }
   ],
   "source": [
    "len(g)"
   ]
  },
  {
   "cell_type": "code",
   "execution_count": 36,
   "metadata": {},
   "outputs": [
    {
     "name": "stdout",
     "output_type": "stream",
     "text": [
      "$ $ $ $ $ $ $ $ $ $ $ $ $ $ $ $ $ $ $ $ $ $ $ $ $ $ $ $ $ $ "
     ]
    }
   ],
   "source": [
    "for i in range(30):\n",
    "    print(\"$\",end=\" \")"
   ]
  },
  {
   "cell_type": "code",
   "execution_count": 2,
   "metadata": {},
   "outputs": [
    {
     "name": "stdout",
     "output_type": "stream",
     "text": [
      "Enter any letter :o\n",
      "Enter any letter :p\n",
      "Enter any letter :j\n",
      "Enter any letter :i\n",
      "Enter any letter :e\n",
      "o i e "
     ]
    }
   ],
   "source": [
    "s=\"\"\n",
    "for i in range(5):\n",
    "    t=input(\"Enter any letter :\")\n",
    "    if t ==\"a\" or t==\"i\" or t==\"e\" or t==\"o\" or t==\"u\":\n",
    "        s=s+t\n",
    "for i in s :\n",
    "    print(i,end=\" \")\n",
    "    "
   ]
  },
  {
   "cell_type": "code",
   "execution_count": 12,
   "metadata": {},
   "outputs": [
    {
     "name": "stdout",
     "output_type": "stream",
     "text": [
      "h-e-l-l-o-w-o-r-l-d\n"
     ]
    }
   ],
   "source": [
    "s=\"helloworld\"\n",
    "\n",
    "for j in s[:len(s)-1]:\n",
    "    print(j,end=\"-\")\n",
    "print(s[-1])"
   ]
  },
  {
   "cell_type": "code",
   "execution_count": 13,
   "metadata": {},
   "outputs": [
    {
     "name": "stdout",
     "output_type": "stream",
     "text": [
      "yes a in the string\n"
     ]
    }
   ],
   "source": [
    "s=\"sdjkaf\"\n",
    "\n",
    "if \"a\" in s:\n",
    "    print(\"yes a in the string\")"
   ]
  },
  {
   "cell_type": "code",
   "execution_count": 16,
   "metadata": {},
   "outputs": [
    {
     "name": "stdout",
     "output_type": "stream",
     "text": [
      "Your string does not contain any semicolons.\n"
     ]
    }
   ],
   "source": [
    "if ';' not in s:\n",
    "    print('Your string does not contain any semicolons.')\n"
   ]
  },
  {
   "cell_type": "code",
   "execution_count": 57,
   "metadata": {},
   "outputs": [
    {
     "name": "stdout",
     "output_type": "stream",
     "text": [
      "adfu\n"
     ]
    }
   ],
   "source": [
    "s = \"jsakdjfiu  bejbrt\"\n",
    "\n",
    "print(s[2:10:2])"
   ]
  },
  {
   "cell_type": "code",
   "execution_count": 19,
   "metadata": {},
   "outputs": [
    {
     "name": "stdout",
     "output_type": "stream",
     "text": [
      "trbjebuifjdkasj\n"
     ]
    }
   ],
   "source": [
    "print(s[::-1])"
   ]
  },
  {
   "cell_type": "code",
   "execution_count": 21,
   "metadata": {},
   "outputs": [
    {
     "name": "stdout",
     "output_type": "stream",
     "text": [
      "0 j\n",
      "1 s\n",
      "2 a\n",
      "3 k\n",
      "4 d\n",
      "5 j\n",
      "6 f\n",
      "7 i\n",
      "8 u\n",
      "9 b\n",
      "10 e\n",
      "11 j\n",
      "12 b\n",
      "13 r\n",
      "14 t\n"
     ]
    }
   ],
   "source": [
    "for i in range(len(s)):\n",
    "    print(i,s[i])"
   ]
  },
  {
   "cell_type": "code",
   "execution_count": 23,
   "metadata": {},
   "outputs": [
    {
     "name": "stdout",
     "output_type": "stream",
     "text": [
      "j s a k d j f i u b e j b r t "
     ]
    }
   ],
   "source": [
    "for i in s:\n",
    "    print(i,end=\" \")"
   ]
  },
  {
   "cell_type": "code",
   "execution_count": 24,
   "metadata": {},
   "outputs": [
    {
     "data": {
      "text/plain": [
       "True"
      ]
     },
     "execution_count": 24,
     "metadata": {},
     "output_type": "execute_result"
    }
   ],
   "source": [
    "s.isalpha()"
   ]
  },
  {
   "cell_type": "code",
   "execution_count": 39,
   "metadata": {},
   "outputs": [
    {
     "data": {
      "text/plain": [
       "'zsakdzfiubezbrt'"
      ]
     },
     "execution_count": 39,
     "metadata": {},
     "output_type": "execute_result"
    }
   ],
   "source": [
    "s.replace('j','z')"
   ]
  },
  {
   "cell_type": "code",
   "execution_count": 40,
   "metadata": {},
   "outputs": [
    {
     "data": {
      "text/plain": [
       "'jsakdjfiubejbrt'"
      ]
     },
     "execution_count": 40,
     "metadata": {},
     "output_type": "execute_result"
    }
   ],
   "source": [
    "s.lower()"
   ]
  },
  {
   "cell_type": "code",
   "execution_count": 41,
   "metadata": {},
   "outputs": [
    {
     "data": {
      "text/plain": [
       "'JSAKDJFIUBEJBRT'"
      ]
     },
     "execution_count": 41,
     "metadata": {},
     "output_type": "execute_result"
    }
   ],
   "source": [
    "s.upper()"
   ]
  },
  {
   "cell_type": "code",
   "execution_count": 42,
   "metadata": {},
   "outputs": [
    {
     "data": {
      "text/plain": [
       "3"
      ]
     },
     "execution_count": 42,
     "metadata": {},
     "output_type": "execute_result"
    }
   ],
   "source": [
    "s.count(\"j\")"
   ]
  },
  {
   "cell_type": "code",
   "execution_count": 55,
   "metadata": {},
   "outputs": [
    {
     "data": {
      "text/plain": [
       "0"
      ]
     },
     "execution_count": 55,
     "metadata": {},
     "output_type": "execute_result"
    }
   ],
   "source": [
    "s.index('j')"
   ]
  },
  {
   "cell_type": "code",
   "execution_count": 58,
   "metadata": {},
   "outputs": [
    {
     "data": {
      "text/plain": [
       "2"
      ]
     },
     "execution_count": 58,
     "metadata": {},
     "output_type": "execute_result"
    }
   ],
   "source": [
    "s.count(' ')"
   ]
  },
  {
   "cell_type": "code",
   "execution_count": 59,
   "metadata": {},
   "outputs": [
    {
     "name": "stdout",
     "output_type": "stream",
     "text": [
      "Enter strings : nnm\n",
      "You string contains letter\n"
     ]
    }
   ],
   "source": [
    "s = input(\"Enter strings : \")\n",
    "if not s.isalpha():\n",
    "    print('Your string contains non letter')\n",
    "if s.isalpha():\n",
    "    print(\"You string contains letter\")"
   ]
  },
  {
   "cell_type": "code",
   "execution_count": 66,
   "metadata": {},
   "outputs": [
    {
     "name": "stdout",
     "output_type": "stream",
     "text": [
      "c:abs\\sh\\sjfb\\file.py\n"
     ]
    }
   ],
   "source": [
    "filename= r'c:abs\\sh\\sjfb\\file.py'\n",
    "print(filename)"
   ]
  },
  {
   "cell_type": "code",
   "execution_count": 70,
   "metadata": {},
   "outputs": [
    {
     "name": "stdout",
     "output_type": "stream",
     "text": [
      "hello\tworld\n"
     ]
    }
   ],
   "source": [
    "h= 'hello\\tworld'\n",
    "print(h)"
   ]
  },
  {
   "cell_type": "code",
   "execution_count": 78,
   "metadata": {},
   "outputs": [
    {
     "name": "stdout",
     "output_type": "stream",
     "text": [
      "\n",
      "\n",
      "\n"
     ]
    }
   ],
   "source": [
    "# Example 1 \n",
    "print('\\n'*2)"
   ]
  },
  {
   "cell_type": "code",
   "execution_count": 73,
   "metadata": {},
   "outputs": [
    {
     "name": "stdout",
     "output_type": "stream",
     "text": [
      "enter a string : abul kalam jamal\n",
      "0 6 8 12 14 "
     ]
    }
   ],
   "source": [
    "# example 2 \n",
    "\n",
    "s = input(\"enter a string : \")\n",
    "\n",
    "for i in range(len(s)):\n",
    "    if s[i] == \"a\":\n",
    "        print(i, end =\" \")"
   ]
  },
  {
   "cell_type": "code",
   "execution_count": 81,
   "metadata": {},
   "outputs": [
    {
     "name": "stdout",
     "output_type": "stream",
     "text": [
      "Enter any string word : word\n",
      "wwoorrdd\n"
     ]
    }
   ],
   "source": [
    "s = input(\"Enter any string word : \")\n",
    "d =\"\"\n",
    "\n",
    "for i in s:\n",
    "    d+=i*2\n",
    "print(d)\n",
    "    \n",
    "    "
   ]
  },
  {
   "cell_type": "code",
   "execution_count": 83,
   "metadata": {},
   "outputs": [
    {
     "name": "stdout",
     "output_type": "stream",
     "text": [
      "enter any name : Elvis\n",
      "E El Elv Elvi Elvis "
     ]
    }
   ],
   "source": [
    "# Example 3\n",
    "\n",
    "s = input(\"enter any name : \")\n",
    "x=\"\"\n",
    "\n",
    "for i in s:\n",
    "    x+=i\n",
    "    print(x,end=\" \")\n",
    "    "
   ]
  },
  {
   "cell_type": "code",
   "execution_count": 87,
   "metadata": {},
   "outputs": [
    {
     "name": "stdout",
     "output_type": "stream",
     "text": [
      "enter any name : nick\n",
      "n ni nic nick "
     ]
    }
   ],
   "source": [
    "# Example 4\n",
    "\n",
    "s = input (\"enter any name : \")\n",
    "for i in range(len(s)):\n",
    "    print(s[:i+1],end= \" \")"
   ]
  },
  {
   "cell_type": "code",
   "execution_count": 2,
   "metadata": {},
   "outputs": [
    {
     "name": "stdout",
     "output_type": "stream",
     "text": [
      "Enter any word : @HelloNick_Zussm@n\n",
      "hellonickzussmn\n"
     ]
    }
   ],
   "source": [
    "# Example 5\n",
    "\n",
    "s = input(\"Enter any word : \")\n",
    "\n",
    "s= s.lower()\n",
    "\n",
    "for c in \"!@#$%^&*()_-+=\":\n",
    "    s= s.replace(c,\"\")\n",
    "print(s)"
   ]
  },
  {
   "cell_type": "code",
   "execution_count": 3,
   "metadata": {},
   "outputs": [
    {
     "name": "stdout",
     "output_type": "stream",
     "text": [
      "Enter your decimal number : 3.4456\n",
      ".4456\n"
     ]
    }
   ],
   "source": [
    "# Example 6\n",
    "s = input(\"Enter your decimal number : \")\n",
    "print(s[s.index('.'):])"
   ]
  },
  {
   "cell_type": "code",
   "execution_count": 6,
   "metadata": {},
   "outputs": [
    {
     "name": "stdout",
     "output_type": "stream",
     "text": [
      "Enter your decimal number : 99.7654\n",
      "0.77\n"
     ]
    }
   ],
   "source": [
    "from math import floor\n",
    "\n",
    "s = eval(input(\"Enter your decimal number : \"))\n",
    "\n",
    "print(round(s-floor(s),2))"
   ]
  },
  {
   "cell_type": "code",
   "execution_count": 16,
   "metadata": {},
   "outputs": [
    {
     "name": "stdout",
     "output_type": "stream",
     "text": [
      "Enter your secret message : nice\n",
      "c k w b "
     ]
    }
   ],
   "source": [
    "# Example 7\n",
    "\n",
    "alphabet= 'avwbcdelpqrsfghikjtumnoxyz'\n",
    "key='xznlwebgjhqdyvtkfuompciasr'\n",
    "\n",
    "s= input(\"Enter your secret message : \")\n",
    "\n",
    "s=s.lower()\n",
    "\n",
    "for i in s:\n",
    "    if i.isalpha():\n",
    "        print(key[alphabet.index(i)],end=\" \")\n",
    "    else :\n",
    "        print(i,end=\" \")"
   ]
  },
  {
   "cell_type": "code",
   "execution_count": 17,
   "metadata": {},
   "outputs": [
    {
     "name": "stdout",
     "output_type": "stream",
     "text": [
      "Enter your message: nice\n",
      "vjnw"
     ]
    }
   ],
   "source": [
    "alphabet = 'abcdefghijklmnopqrstuvwxyz'\n",
    "key = 'xznlwebgjhqdyvtkfuompciasr'\n",
    "secret_message = input('Enter your message: ')\n",
    "secret_message = secret_message.lower()\n",
    "for c in secret_message:\n",
    "    if c.isalpha():\n",
    "        print(key[alphabet.index(c)],end='')\n",
    "    else:\n",
    "        print(c, end='')\n"
   ]
  },
  {
   "cell_type": "code",
   "execution_count": null,
   "metadata": {},
   "outputs": [],
   "source": [
    "# Exercise 1"
   ]
  },
  {
   "cell_type": "code",
   "execution_count": null,
   "metadata": {},
   "outputs": [],
   "source": [
    "# Exercise 2"
   ]
  },
  {
   "cell_type": "code",
   "execution_count": null,
   "metadata": {},
   "outputs": [],
   "source": [
    "# Exercise 3"
   ]
  },
  {
   "cell_type": "code",
   "execution_count": null,
   "metadata": {},
   "outputs": [],
   "source": [
    "# Exercise 4"
   ]
  },
  {
   "cell_type": "code",
   "execution_count": null,
   "metadata": {},
   "outputs": [],
   "source": [
    "# Exercise 5"
   ]
  },
  {
   "cell_type": "code",
   "execution_count": null,
   "metadata": {},
   "outputs": [],
   "source": [
    "# Exercise 6"
   ]
  },
  {
   "cell_type": "code",
   "execution_count": null,
   "metadata": {},
   "outputs": [],
   "source": [
    "# Exercise 7"
   ]
  },
  {
   "cell_type": "code",
   "execution_count": null,
   "metadata": {},
   "outputs": [],
   "source": [
    "# Exercise 8"
   ]
  },
  {
   "cell_type": "code",
   "execution_count": null,
   "metadata": {},
   "outputs": [],
   "source": [
    "# Exercise 9"
   ]
  },
  {
   "cell_type": "code",
   "execution_count": null,
   "metadata": {},
   "outputs": [],
   "source": [
    "# Exercise 10"
   ]
  },
  {
   "cell_type": "code",
   "execution_count": null,
   "metadata": {},
   "outputs": [],
   "source": [
    "# Exercise 11"
   ]
  },
  {
   "cell_type": "code",
   "execution_count": null,
   "metadata": {},
   "outputs": [],
   "source": [
    "# Exercise 12"
   ]
  },
  {
   "cell_type": "code",
   "execution_count": null,
   "metadata": {},
   "outputs": [],
   "source": [
    "# Exercise 13"
   ]
  },
  {
   "cell_type": "code",
   "execution_count": null,
   "metadata": {},
   "outputs": [],
   "source": [
    "# Exercise 14"
   ]
  },
  {
   "cell_type": "code",
   "execution_count": null,
   "metadata": {},
   "outputs": [],
   "source": [
    "# Exercise 15"
   ]
  },
  {
   "cell_type": "code",
   "execution_count": null,
   "metadata": {},
   "outputs": [],
   "source": [
    "# Exercise 16"
   ]
  },
  {
   "cell_type": "code",
   "execution_count": null,
   "metadata": {},
   "outputs": [],
   "source": [
    "# Exercise 17"
   ]
  },
  {
   "cell_type": "code",
   "execution_count": null,
   "metadata": {},
   "outputs": [],
   "source": [
    "# Exercise 18"
   ]
  },
  {
   "cell_type": "code",
   "execution_count": null,
   "metadata": {},
   "outputs": [],
   "source": [
    "# Exercise 19"
   ]
  },
  {
   "cell_type": "code",
   "execution_count": null,
   "metadata": {},
   "outputs": [],
   "source": [
    "# Exercise 20"
   ]
  },
  {
   "cell_type": "code",
   "execution_count": null,
   "metadata": {},
   "outputs": [],
   "source": [
    "# Exercise 21"
   ]
  },
  {
   "cell_type": "code",
   "execution_count": null,
   "metadata": {},
   "outputs": [],
   "source": [
    "# Exercise 22"
   ]
  },
  {
   "cell_type": "code",
   "execution_count": null,
   "metadata": {},
   "outputs": [],
   "source": [
    "# Exercise 23"
   ]
  },
  {
   "cell_type": "code",
   "execution_count": null,
   "metadata": {},
   "outputs": [],
   "source": [
    "# Exercise 24"
   ]
  },
  {
   "cell_type": "code",
   "execution_count": null,
   "metadata": {},
   "outputs": [],
   "source": [
    "# Exercise 25"
   ]
  },
  {
   "cell_type": "markdown",
   "metadata": {},
   "source": [
    "### List Basic"
   ]
  },
  {
   "cell_type": "code",
   "execution_count": 18,
   "metadata": {},
   "outputs": [
    {
     "name": "stdout",
     "output_type": "stream",
     "text": [
      "Enter the elements of list : 1,2,3,4,5,6,7\n",
      "3\n"
     ]
    }
   ],
   "source": [
    "l = eval(input(\"Enter the elements of list : \"))\n",
    "\n",
    "print(l[2])"
   ]
  },
  {
   "cell_type": "code",
   "execution_count": 23,
   "metadata": {},
   "outputs": [
    {
     "name": "stdout",
     "output_type": "stream",
     "text": [
      "[1, 2, 3, 4, 5, 6, 8, 9.7, 'n', [1, 2, 3]]\n"
     ]
    }
   ],
   "source": [
    "l =[1,2,3,4,5,6,8,9.7,'n',[1,2,3]]\n",
    "print(l)"
   ]
  },
  {
   "cell_type": "code",
   "execution_count": 24,
   "metadata": {},
   "outputs": [
    {
     "data": {
      "text/plain": [
       "10"
      ]
     },
     "execution_count": 24,
     "metadata": {},
     "output_type": "execute_result"
    }
   ],
   "source": [
    "len(l)"
   ]
  },
  {
   "cell_type": "code",
   "execution_count": 25,
   "metadata": {},
   "outputs": [
    {
     "name": "stdout",
     "output_type": "stream",
     "text": [
      "True\n"
     ]
    }
   ],
   "source": [
    "if 2 in l:\n",
    "    print(\"True\")"
   ]
  },
  {
   "cell_type": "code",
   "execution_count": 26,
   "metadata": {},
   "outputs": [
    {
     "name": "stdout",
     "output_type": "stream",
     "text": [
      "False\n"
     ]
    }
   ],
   "source": [
    "if 99 not in l:\n",
    "    print(\"False\")"
   ]
  },
  {
   "cell_type": "code",
   "execution_count": 27,
   "metadata": {},
   "outputs": [
    {
     "data": {
      "text/plain": [
       "[2, 3, 2, 3, 2, 3]"
      ]
     },
     "execution_count": 27,
     "metadata": {},
     "output_type": "execute_result"
    }
   ],
   "source": [
    "[2,3]*3"
   ]
  },
  {
   "cell_type": "code",
   "execution_count": 28,
   "metadata": {},
   "outputs": [
    {
     "data": {
      "text/plain": [
       "[2, 3, 4, 2, 3, 4, 2, 3, 4]"
      ]
     },
     "execution_count": 28,
     "metadata": {},
     "output_type": "execute_result"
    }
   ],
   "source": [
    "[2,3,4]*3"
   ]
  },
  {
   "cell_type": "code",
   "execution_count": 29,
   "metadata": {},
   "outputs": [
    {
     "data": {
      "text/plain": [
       "[0, 0, 0, 0, 0, 0, 0, 0, 0, 0]"
      ]
     },
     "execution_count": 29,
     "metadata": {},
     "output_type": "execute_result"
    }
   ],
   "source": [
    "[0]*10"
   ]
  },
  {
   "cell_type": "code",
   "execution_count": 32,
   "metadata": {},
   "outputs": [
    {
     "name": "stdout",
     "output_type": "stream",
     "text": [
      "1 2 3 4 5 6 "
     ]
    }
   ],
   "source": [
    "l=[1,2,3,4,5,6]\n",
    "for i in range(len(l)):\n",
    "    print(l[i],end=\" \")"
   ]
  },
  {
   "cell_type": "code",
   "execution_count": 33,
   "metadata": {},
   "outputs": [
    {
     "data": {
      "text/plain": [
       "[1, 2, 3, 4, 5, 6]"
      ]
     },
     "execution_count": 33,
     "metadata": {},
     "output_type": "execute_result"
    }
   ],
   "source": [
    "[1,2,3]+[4,5,6]"
   ]
  },
  {
   "cell_type": "code",
   "execution_count": 38,
   "metadata": {},
   "outputs": [
    {
     "data": {
      "text/plain": [
       "10"
      ]
     },
     "execution_count": 38,
     "metadata": {},
     "output_type": "execute_result"
    }
   ],
   "source": [
    "l =[0,1,2,3,4,5,6,7,8,9]\n",
    "len(l)"
   ]
  },
  {
   "cell_type": "code",
   "execution_count": 40,
   "metadata": {},
   "outputs": [
    {
     "data": {
      "text/plain": [
       "45"
      ]
     },
     "execution_count": 40,
     "metadata": {},
     "output_type": "execute_result"
    }
   ],
   "source": [
    "sum(l)"
   ]
  },
  {
   "cell_type": "code",
   "execution_count": 39,
   "metadata": {},
   "outputs": [
    {
     "data": {
      "text/plain": [
       "0"
      ]
     },
     "execution_count": 39,
     "metadata": {},
     "output_type": "execute_result"
    }
   ],
   "source": [
    "min(l)"
   ]
  },
  {
   "cell_type": "code",
   "execution_count": 41,
   "metadata": {},
   "outputs": [
    {
     "data": {
      "text/plain": [
       "9"
      ]
     },
     "execution_count": 41,
     "metadata": {},
     "output_type": "execute_result"
    }
   ],
   "source": [
    "max(l)"
   ]
  },
  {
   "cell_type": "code",
   "execution_count": 44,
   "metadata": {},
   "outputs": [
    {
     "name": "stdout",
     "output_type": "stream",
     "text": [
      "4.5\n"
     ]
    }
   ],
   "source": [
    "a= sum(l)/len(l)\n",
    "print(a)"
   ]
  },
  {
   "cell_type": "code",
   "execution_count": 46,
   "metadata": {},
   "outputs": [
    {
     "name": "stdout",
     "output_type": "stream",
     "text": [
      "[0, 1, 2, 3, 4, 5, 6, 7, 8, 9, '66', 99]\n"
     ]
    }
   ],
   "source": [
    "l.append(99)\n",
    "print(l)"
   ]
  },
  {
   "cell_type": "code",
   "execution_count": 56,
   "metadata": {},
   "outputs": [
    {
     "data": {
      "text/plain": [
       "1"
      ]
     },
     "execution_count": 56,
     "metadata": {},
     "output_type": "execute_result"
    }
   ],
   "source": [
    "l.count('66')"
   ]
  },
  {
   "cell_type": "code",
   "execution_count": 69,
   "metadata": {},
   "outputs": [
    {
     "data": {
      "text/plain": [
       "1"
      ]
     },
     "execution_count": 69,
     "metadata": {},
     "output_type": "execute_result"
    }
   ],
   "source": [
    "l.index('66')"
   ]
  },
  {
   "cell_type": "code",
   "execution_count": 80,
   "metadata": {},
   "outputs": [
    {
     "name": "stdout",
     "output_type": "stream",
     "text": [
      "[66, 44, 67, 334, 29, 98]\n",
      "[98, 29, 334, 67, 44, 66]\n"
     ]
    }
   ],
   "source": [
    "l = [66,44,67,334,29,98]\n",
    "print(l)\n",
    "l.reverse()\n",
    "print(l)\n"
   ]
  },
  {
   "cell_type": "code",
   "execution_count": 81,
   "metadata": {},
   "outputs": [
    {
     "name": "stdout",
     "output_type": "stream",
     "text": [
      "[98, 29, 334, 67, 66]\n"
     ]
    }
   ],
   "source": [
    "l.remove(44)\n",
    "print(l)"
   ]
  },
  {
   "cell_type": "code",
   "execution_count": 84,
   "metadata": {},
   "outputs": [
    {
     "name": "stdout",
     "output_type": "stream",
     "text": [
      "[98, 29, 334, 67, 66, 98, 29, 334, 67, 98, 29, 334, 67, 66, 98, 29, 334, 98, 29, 334, 67, 66, 98, 29, 334, 67, 98, 29, 334, 67, 66, 98, 29]\n"
     ]
    }
   ],
   "source": [
    "l=l*2\n",
    "print(l)"
   ]
  },
  {
   "cell_type": "code",
   "execution_count": 90,
   "metadata": {},
   "outputs": [
    {
     "data": {
      "text/plain": [
       "29"
      ]
     },
     "execution_count": 90,
     "metadata": {},
     "output_type": "execute_result"
    }
   ],
   "source": [
    "l.pop(12) # here 12 is the index"
   ]
  },
  {
   "cell_type": "code",
   "execution_count": 91,
   "metadata": {},
   "outputs": [
    {
     "name": "stdout",
     "output_type": "stream",
     "text": [
      "[98, 29, 334, 67, 66, 98, 29, 334, 67, 98, 29, 334, 334, 98, 29, 334, 67, 66, 98, 29, 334, 67, 98, 29, 334, 67, 66, 98]\n"
     ]
    }
   ],
   "source": [
    "print(l)"
   ]
  },
  {
   "cell_type": "code",
   "execution_count": 94,
   "metadata": {},
   "outputs": [
    {
     "data": {
      "text/plain": [
       "67"
      ]
     },
     "execution_count": 94,
     "metadata": {},
     "output_type": "execute_result"
    }
   ],
   "source": [
    "l.pop()"
   ]
  },
  {
   "cell_type": "code",
   "execution_count": 95,
   "metadata": {},
   "outputs": [
    {
     "name": "stdout",
     "output_type": "stream",
     "text": [
      "[98, 29, 334, 67, 66, 98, 29, 334, 67, 98, 29, 334, 334, 98, 29, 334, 67, 66, 98, 29, 334, 67, 98, 29, 334]\n"
     ]
    }
   ],
   "source": [
    "print(l)"
   ]
  },
  {
   "cell_type": "code",
   "execution_count": 96,
   "metadata": {},
   "outputs": [
    {
     "name": "stdout",
     "output_type": "stream",
     "text": [
      "[1, 2, 3, 4, 5, 67, 8, 9]\n"
     ]
    }
   ],
   "source": [
    "al =[1,2,3,4,5,67,8,9]\n",
    "print(al)"
   ]
  },
  {
   "cell_type": "code",
   "execution_count": 97,
   "metadata": {},
   "outputs": [
    {
     "name": "stdout",
     "output_type": "stream",
     "text": [
      "[1, 2, 3, 4, 5, 8, 9, 67]\n"
     ]
    }
   ],
   "source": [
    "al.sort()\n",
    "print(al)"
   ]
  },
  {
   "cell_type": "code",
   "execution_count": 102,
   "metadata": {},
   "outputs": [
    {
     "name": "stdout",
     "output_type": "stream",
     "text": [
      "[4, 3, 6, 73, 2, 44]\n",
      "[2, 3, 4, 6, 44, 73]\n"
     ]
    }
   ],
   "source": [
    "k=[4,3,6,73,2,44]\n",
    "print(k)\n",
    "k.sort()\n",
    "print(k)\n"
   ]
  },
  {
   "cell_type": "code",
   "execution_count": 106,
   "metadata": {},
   "outputs": [
    {
     "name": "stdout",
     "output_type": "stream",
     "text": [
      "[2, 3, 22, 22, 22, 22, 4, 6, 44, 73]\n"
     ]
    },
    {
     "data": {
      "text/plain": [
       "22"
      ]
     },
     "execution_count": 106,
     "metadata": {},
     "output_type": "execute_result"
    }
   ],
   "source": [
    "k.insert(2,22)\n",
    "print(k)\n"
   ]
  },
  {
   "cell_type": "code",
   "execution_count": 109,
   "metadata": {},
   "outputs": [
    {
     "data": {
      "text/plain": [
       "22"
      ]
     },
     "execution_count": 109,
     "metadata": {},
     "output_type": "execute_result"
    }
   ],
   "source": [
    "k.pop(2)"
   ]
  },
  {
   "cell_type": "code",
   "execution_count": 110,
   "metadata": {},
   "outputs": [
    {
     "name": "stdout",
     "output_type": "stream",
     "text": [
      "[2, 3, 22, 4, 6, 44, 73]\n"
     ]
    }
   ],
   "source": [
    "print(k)"
   ]
  },
  {
   "cell_type": "code",
   "execution_count": 111,
   "metadata": {},
   "outputs": [
    {
     "name": "stdout",
     "output_type": "stream",
     "text": [
      "[2, 3, 22, 4, 6, 44, 73]\n"
     ]
    }
   ],
   "source": [
    "a=k\n",
    "print(a)"
   ]
  },
  {
   "cell_type": "code",
   "execution_count": 112,
   "metadata": {},
   "outputs": [
    {
     "name": "stdout",
     "output_type": "stream",
     "text": [
      "[2, 3, 22, 4, 6, 44, 73]\n"
     ]
    }
   ],
   "source": [
    "b=k[:]\n",
    "print(b)"
   ]
  },
  {
   "cell_type": "code",
   "execution_count": 113,
   "metadata": {},
   "outputs": [
    {
     "name": "stdout",
     "output_type": "stream",
     "text": [
      "[2, 3, 22, 4, 6, 44, 73]\n",
      "[22, 4, 6, 44, 73]\n"
     ]
    }
   ],
   "source": [
    "print(b)\n",
    "del b[:2]\n",
    "\n",
    "print(b)\n"
   ]
  },
  {
   "cell_type": "code",
   "execution_count": 114,
   "metadata": {},
   "outputs": [],
   "source": [
    "del b"
   ]
  },
  {
   "cell_type": "code",
   "execution_count": 120,
   "metadata": {},
   "outputs": [
    {
     "name": "stdout",
     "output_type": "stream",
     "text": [
      "[9, 10, 2, 6, 10, 10, 8, 7, 2, 8]\n"
     ]
    }
   ],
   "source": [
    "# Example 1\n",
    "\n",
    "from random import randint\n",
    "l=[]\n",
    "\n",
    "for i in range(10):\n",
    "    l.append(randint(1,10))\n",
    "    \n",
    "print(l)"
   ]
  },
  {
   "cell_type": "code",
   "execution_count": 123,
   "metadata": {},
   "outputs": [
    {
     "data": {
      "text/plain": [
       "[1, 4, 9, 16, 25, 36, 49, 64]"
      ]
     },
     "execution_count": 123,
     "metadata": {},
     "output_type": "execute_result"
    }
   ],
   "source": [
    "# Example 2\n",
    "\n",
    "l=[1,2,3,4,5,6,7,8]\n",
    "\n",
    "[i**2 for i in l]"
   ]
  },
  {
   "cell_type": "code",
   "execution_count": 126,
   "metadata": {},
   "outputs": [
    {
     "name": "stdout",
     "output_type": "stream",
     "text": [
      "Enter list elements : 22,55,66,77,88,123,32\n",
      "5\n"
     ]
    }
   ],
   "source": [
    "# Example 3\n",
    "\n",
    "l = eval(input(\"Enter list elements : \"))\n",
    "c=0\n",
    "\n",
    "for i in l:\n",
    "    if i>50:\n",
    "        c=c+1\n",
    "print(c)\n",
    "        \n",
    "    "
   ]
  },
  {
   "cell_type": "code",
   "execution_count": 128,
   "metadata": {},
   "outputs": [
    {
     "name": "stdout",
     "output_type": "stream",
     "text": [
      "[3, 2, 2, 1, 0, 0, 2, 1, 1, 1, 1, 0, 0, 1, 0, 0, 0, 1, 1, 0]\n"
     ]
    }
   ],
   "source": [
    "# Example 4\n",
    "l =[1,2,3,4,55,65,7,8,9,10,11,1,3,14,55,1,7,18,19,2]\n",
    "\n",
    "f=[]\n",
    "\n",
    "for i in range(1,21):\n",
    "    f.append(l.count(i))\n",
    "    \n",
    "print(f)"
   ]
  },
  {
   "cell_type": "code",
   "execution_count": 131,
   "metadata": {},
   "outputs": [
    {
     "name": "stdout",
     "output_type": "stream",
     "text": [
      "[3, 5, 44, 67, 88, 111, 222]\n",
      "Minimun two numbers are :  3 5\n",
      "Maximum two numbers are :  111 222\n"
     ]
    }
   ],
   "source": [
    "# Example 5\n",
    "\n",
    "l =[111,222,3,44,5,67,88]\n",
    "\n",
    "l.sort()\n",
    "print(l)\n",
    "print(\"Minimun two numbers are : \",l[0],l[1])\n",
    "print(\"Maximum two numbers are : \",l[-2],l[-1])"
   ]
  },
  {
   "cell_type": "code",
   "execution_count": 133,
   "metadata": {},
   "outputs": [
    {
     "name": "stdout",
     "output_type": "stream",
     "text": [
      "What is the capital of France? paris\n",
      "Correct!\n",
      "Which state has only one neighbor? france\n",
      "Wrong. The answer is Maine.\n",
      "You have 1 out of 2 right,\n"
     ]
    }
   ],
   "source": [
    "\n",
    "num_right = 0\n",
    "# Question 1 \n",
    "print('What is the capital of France?', end=' ') \n",
    "guess = input() \n",
    "if guess.lower()=='paris':\n",
    "    print('Correct!') \n",
    "    num_right+=1 \n",
    "else: \n",
    "    print('Wrong. The answer is Paris.') \n",
    "    print('You have', num_right, 'out of 1 right')\n",
    "#Question 2 \n",
    "print('Which state has only one neighbor?', end=' ') \n",
    "guess = input() \n",
    "if guess.lower()=='maine': \n",
    "    print('Correct!') \n",
    "    num_right+=1 \n",
    "else: \n",
    "    print('Wrong. The answer is Maine.') \n",
    "    print('You have', num_right, 'out of 2 right,')"
   ]
  },
  {
   "cell_type": "code",
   "execution_count": 136,
   "metadata": {},
   "outputs": [
    {
     "name": "stdout",
     "output_type": "stream",
     "text": [
      "What is the capital of France?id\n",
      "Wrong. The answer is Paris\n",
      "You have 0 out of 0 right.\n",
      "Which state has only one neighbor?ny\n",
      "Wrong. The answer is Maine\n",
      "You have 0 out of 1 right.\n"
     ]
    }
   ],
   "source": [
    "questions = ['What is the capital of France?', \n",
    "             'Which state has only one neighbor?']\n",
    "answers = ['Paris','Maine']\n",
    "num_right = 0 \n",
    "for i in range(len(questions)): \n",
    "    guess = input(questions[i]) \n",
    "    if guess.lower()==answers[i].lower(): \n",
    "        print('Correct') \n",
    "        num_right=num_right+1 \n",
    "    else: \n",
    "        print('Wrong. The answer is', answers[i]) \n",
    "        print('You have', num_right, 'out of', i, 'right.')"
   ]
  },
  {
   "cell_type": "markdown",
   "metadata": {},
   "source": [
    "#### 7.7 Exercises "
   ]
  },
  {
   "cell_type": "code",
   "execution_count": 138,
   "metadata": {},
   "outputs": [
    {
     "ename": "SyntaxError",
     "evalue": "invalid syntax (<ipython-input-138-da483dff0f31>, line 1)",
     "output_type": "error",
     "traceback": [
      "\u001b[1;36m  File \u001b[1;32m\"<ipython-input-138-da483dff0f31>\"\u001b[1;36m, line \u001b[1;32m1\u001b[0m\n\u001b[1;33m    15 exercises here\u001b[0m\n\u001b[1;37m               ^\u001b[0m\n\u001b[1;31mSyntaxError\u001b[0m\u001b[1;31m:\u001b[0m invalid syntax\n"
     ]
    }
   ],
   "source": [
    "15 exercises here"
   ]
  },
  {
   "cell_type": "markdown",
   "metadata": {},
   "source": [
    "### Chapter 8 : More with list"
   ]
  },
  {
   "cell_type": "markdown",
   "metadata": {},
   "source": [
    "#### 8.1 Lists and the random module\n"
   ]
  },
  {
   "cell_type": "code",
   "execution_count": 145,
   "metadata": {},
   "outputs": [
    {
     "name": "stdout",
     "output_type": "stream",
     "text": [
      "joe\n"
     ]
    }
   ],
   "source": [
    "# Example 1\n",
    "\n",
    "from random import choice\n",
    "\n",
    "names =['joe','bob','pop','adam','noah']\n",
    "cp= choice(names)\n",
    "print(cp)"
   ]
  },
  {
   "cell_type": "code",
   "execution_count": 150,
   "metadata": {},
   "outputs": [
    {
     "name": "stdout",
     "output_type": "stream",
     "text": [
      "['pop', 'joe', 'adam']\n"
     ]
    }
   ],
   "source": [
    "# Example 2\n",
    "\n",
    "from random import sample\n",
    "\n",
    "names= ['joe','bob','pop','adam','noah']\n",
    "sp = sample(names,3)\n",
    "print(sp)"
   ]
  },
  {
   "cell_type": "code",
   "execution_count": 152,
   "metadata": {},
   "outputs": [
    {
     "name": "stdout",
     "output_type": "stream",
     "text": [
      "g s d f , d s d . g , ; d s f d , f g n "
     ]
    }
   ],
   "source": [
    "s =' sjkdfksfugsdbjgbsdng.,sdgbsdgd;gsdgn,bgbmd,g'\n",
    "for i in range(20):\n",
    "    p = choice(s)\n",
    "    print(p,end=\" \")"
   ]
  },
  {
   "cell_type": "code",
   "execution_count": 161,
   "metadata": {},
   "outputs": [
    {
     "name": "stdout",
     "output_type": "stream",
     "text": [
      "pop : this is your turn\n",
      "noah : this is your turn\n",
      "adam : this is your turn\n",
      "bob : this is your turn\n",
      "joe : this is your turn\n"
     ]
    }
   ],
   "source": [
    "from random import shuffle\n",
    "player = ['joe','bob','pop','adam','noah']\n",
    "shuffle(player)\n",
    "\n",
    "for i in player:\n",
    "    print(i, \": this is your turn\")\n"
   ]
  },
  {
   "cell_type": "code",
   "execution_count": 165,
   "metadata": {},
   "outputs": [
    {
     "name": "stdout",
     "output_type": "stream",
     "text": [
      "['bob', 'adam', 'nick']\n"
     ]
    }
   ],
   "source": [
    "player = ['joe','bob','pop','adam','noah',\"nick\"]\n",
    "f=[]\n",
    "shuffle(player)\n",
    "\n",
    "for i in range(0,len(player),2):\n",
    "    f.append(player[i])\n",
    "    \n",
    "print(f)"
   ]
  },
  {
   "cell_type": "code",
   "execution_count": 167,
   "metadata": {},
   "outputs": [
    {
     "name": "stdout",
     "output_type": "stream",
     "text": [
      "['hi', 'there', 'i', 'am', 'doung', 'great', 'inside', 'the', 'house', 'villa', 'and', 'getting', 'my', 'work', 'done', 'just', 'in', 'time']\n"
     ]
    }
   ],
   "source": [
    "s =' hi there i am doung great inside the house villa and getting my work done just in time '\n",
    "\n",
    "print(s.split())\n"
   ]
  },
  {
   "cell_type": "code",
   "execution_count": 169,
   "metadata": {},
   "outputs": [
    {
     "name": "stdout",
     "output_type": "stream",
     "text": [
      "! \" # $ % & ' ( ) * + , - . / : ; < = > ? @ [ \\ ] ^ _ ` { | } ~ "
     ]
    }
   ],
   "source": [
    "from string import punctuation\n",
    "\n",
    "for c in punctuation:\n",
    "    print(c,end=' ')"
   ]
  },
  {
   "cell_type": "code",
   "execution_count": 173,
   "metadata": {},
   "outputs": [
    {
     "name": "stdout",
     "output_type": "stream",
     "text": [
      " hi there i am doung great inside the house villa and getting my work done just in time \n"
     ]
    }
   ],
   "source": [
    "from string import punctuation\n",
    "s =' hi there i am doung great inside the house villa and getting my work done just in time '\n",
    "\n",
    "for c in punctuation:\n",
    "    s.replace(c,\"\")\n",
    "print(s)"
   ]
  },
  {
   "cell_type": "code",
   "execution_count": 183,
   "metadata": {},
   "outputs": [
    {
     "name": "stdout",
     "output_type": "stream",
     "text": [
      "enter any string or lines : what's the hell is going one man? i am realy confused and tensed ! it's really angry to me and disgusting -_-\n",
      "['whats', 'the', 'hell', 'is', 'going', 'one', 'man', 'i', 'am', 'realy', 'confused', 'and', 'tensed', 'its', 'really', 'angry', 'to', 'me', 'and', 'disgusting']\n"
     ]
    }
   ],
   "source": [
    "from string import punctuation\n",
    "\n",
    "s= input(\"enter any string or lines : \")\n",
    "\n",
    "for c in punctuation:\n",
    "    s = s.replace(c,\"\")\n",
    "s.lower()\n",
    "p = s.split()\n",
    "print(p)"
   ]
  },
  {
   "cell_type": "code",
   "execution_count": 188,
   "metadata": {},
   "outputs": [
    {
     "name": "stdout",
     "output_type": "stream",
     "text": [
      "enter any word : and\n",
      "and appears in the list  2  times\n"
     ]
    }
   ],
   "source": [
    "w = input(\"enter any word : \")\n",
    "\n",
    "print(w, \"appears in the list \",p.count(w),\" times\")\n"
   ]
  },
  {
   "cell_type": "code",
   "execution_count": 191,
   "metadata": {},
   "outputs": [
    {
     "name": "stdout",
     "output_type": "stream",
     "text": [
      "['123', '465', '778', '887']\n"
     ]
    }
   ],
   "source": [
    "s = '123-465-778-887'\n",
    "print(s.split(\"-\"))"
   ]
  },
  {
   "cell_type": "code",
   "execution_count": 198,
   "metadata": {},
   "outputs": [
    {
     "name": "stdout",
     "output_type": "stream",
     "text": [
      "joe|bob|pop|adam|noah|nick\n"
     ]
    }
   ],
   "source": [
    "player = ['joe','bob','pop','adam','noah',\"nick\"]\n",
    "\n",
    "a=\"|\".join(player)\n",
    "print(a)"
   ]
  },
  {
   "cell_type": "code",
   "execution_count": 205,
   "metadata": {},
   "outputs": [
    {
     "name": "stdout",
     "output_type": "stream",
     "text": [
      "['H', 'e', 'l', 'l', 'o']\n"
     ]
    }
   ],
   "source": [
    "l =list('Hello')\n",
    "print(l)"
   ]
  },
  {
   "cell_type": "code",
   "execution_count": 201,
   "metadata": {},
   "outputs": [
    {
     "name": "stdout",
     "output_type": "stream",
     "text": [
      "Enter a word: newword\n",
      "['d', 'e', 'r', 'o', 'w', 'n', 'w']\n",
      "derownw\n"
     ]
    }
   ],
   "source": [
    "from random import shuffle\n",
    "word = input('Enter a word: ')\n",
    "letter_list = list(word) \n",
    "shuffle(letter_list) \n",
    "print(letter_list)\n",
    "anagram = ''.join(letter_list)\n",
    "print(anagram)\n"
   ]
  },
  {
   "cell_type": "code",
   "execution_count": 206,
   "metadata": {},
   "outputs": [
    {
     "data": {
      "text/plain": [
       "[0, 1, 2, 3, 4, 5, 6, 7, 8, 9]"
      ]
     },
     "execution_count": 206,
     "metadata": {},
     "output_type": "execute_result"
    }
   ],
   "source": [
    "[i for i in range(10)]"
   ]
  },
  {
   "cell_type": "code",
   "execution_count": 212,
   "metadata": {},
   "outputs": [
    {
     "data": {
      "text/plain": [
       "[(0, 1),\n",
       " (0, 2),\n",
       " (0, 3),\n",
       " (0, 4),\n",
       " (1, 0),\n",
       " (1, 2),\n",
       " (1, 3),\n",
       " (1, 4),\n",
       " (2, 0),\n",
       " (2, 1),\n",
       " (2, 3),\n",
       " (2, 4),\n",
       " (3, 0),\n",
       " (3, 1),\n",
       " (3, 2),\n",
       " (3, 4),\n",
       " (4, 0),\n",
       " (4, 1),\n",
       " (4, 2),\n",
       " (4, 3)]"
      ]
     },
     "execution_count": 212,
     "metadata": {},
     "output_type": "execute_result"
    }
   ],
   "source": [
    "[(x,y) for x in range(5) for y in range(5) if x!=y]"
   ]
  },
  {
   "cell_type": "code",
   "execution_count": 214,
   "metadata": {},
   "outputs": [
    {
     "name": "stdout",
     "output_type": "stream",
     "text": [
      "['d', 'e', 'r', 'o', 'w', 'n', 'w']\n"
     ]
    }
   ],
   "source": [
    "from pprint import pprint\n",
    "\n",
    "l =['d', 'e', 'r', 'o', 'w', 'n', 'w']\n",
    "pprint(l)"
   ]
  },
  {
   "cell_type": "code",
   "execution_count": 1,
   "metadata": {},
   "outputs": [
    {
     "name": "stdout",
     "output_type": "stream",
     "text": [
      "I am func1  with n :  3\n",
      "I am func1  with n :  2\n",
      "I am func1  with n :  1\n",
      "I am func1  with n :  0\n",
      "returned in function where n : 0\n",
      "returned in function where n : 1\n",
      "returned in function where n : 2\n",
      "returned in function where n : 3\n"
     ]
    }
   ],
   "source": [
    "def func1(n):\n",
    "    print(\"I am func1  with n : \",n)\n",
    "    if n>0:\n",
    "        func1(n-1)\n",
    "    print(\"returned in function where n :\",n)\n",
    "func1(3)"
   ]
  },
  {
   "cell_type": "code",
   "execution_count": null,
   "metadata": {},
   "outputs": [],
   "source": []
  },
  {
   "cell_type": "code",
   "execution_count": null,
   "metadata": {},
   "outputs": [],
   "source": []
  },
  {
   "cell_type": "code",
   "execution_count": null,
   "metadata": {},
   "outputs": [],
   "source": []
  },
  {
   "cell_type": "code",
   "execution_count": null,
   "metadata": {},
   "outputs": [],
   "source": []
  },
  {
   "cell_type": "code",
   "execution_count": null,
   "metadata": {},
   "outputs": [],
   "source": []
  }
 ],
 "metadata": {
  "kernelspec": {
   "display_name": "Python 3",
   "language": "python",
   "name": "python3"
  },
  "language_info": {
   "codemirror_mode": {
    "name": "ipython",
    "version": 3
   },
   "file_extension": ".py",
   "mimetype": "text/x-python",
   "name": "python",
   "nbconvert_exporter": "python",
   "pygments_lexer": "ipython3",
   "version": "3.7.4"
  }
 },
 "nbformat": 4,
 "nbformat_minor": 2
}

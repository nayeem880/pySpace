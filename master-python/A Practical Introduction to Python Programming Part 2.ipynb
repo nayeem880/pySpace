{
 "cells": [
  {
   "cell_type": "markdown",
   "metadata": {},
   "source": [
    "### Chapter 9  : While loops"
   ]
  },
  {
   "cell_type": "markdown",
   "metadata": {},
   "source": [
    "print(\"Working with while loops\")"
   ]
  },
  {
   "cell_type": "code",
   "execution_count": 2,
   "metadata": {},
   "outputs": [
    {
     "name": "stdout",
     "output_type": "stream",
     "text": [
      "Enter temperature in between -1000 and quit : 900\n",
      "The temperature in fahrenheit is :  1652.0\n",
      "Enter temperature in between -1000 and quit : -1000\n"
     ]
    }
   ],
   "source": [
    "temp = 0\n",
    "\n",
    "while temp != -1000:\n",
    "    temp = eval(input(\"Enter temperature in between -1000 and quit : \"))\n",
    "    if temp == -1000:\n",
    "        break\n",
    "    else : \n",
    "        temp=9/5*temp+32\n",
    "        print(\"The temperature in fahrenheit is : \",temp)\n",
    "    "
   ]
  },
  {
   "cell_type": "code",
   "execution_count": null,
   "metadata": {},
   "outputs": [
    {
     "name": "stdout",
     "output_type": "stream",
     "text": [
      "Enter a temperature (-1000 to quit): 900\n",
      "In Fahrenheit that is 1652.0\n"
     ]
    }
   ],
   "source": [
    "temp = 0 \n",
    "while temp!=-1000: \n",
    "    temp = eval(input('Enter a temperature (-1000 to quit): ')) \n",
    "    if temp!=-1000: \n",
    "        print('In Fahrenheit that is', 9/5*temp+32) \n",
    "    else: \n",
    "        print('Bye!')\n"
   ]
  },
  {
   "cell_type": "code",
   "execution_count": 3,
   "metadata": {},
   "outputs": [
    {
     "name": "stdout",
     "output_type": "stream",
     "text": [
      "Enter the secret number : 2\n",
      "Enter the secret number : 5\n",
      "Enter the secret number : 4\n",
      "Enter the secret number : 6\n",
      "you finally got it :  6\n"
     ]
    }
   ],
   "source": [
    "from random import randint\n",
    "\n",
    "secret = randint(1,10)\n",
    "guess = 0\n",
    "while guess != secret:\n",
    "    guess=eval(input(\"Enter the secret number : \"))\n",
    "print(\"you finally got it : \",guess)\n"
   ]
  },
  {
   "cell_type": "code",
   "execution_count": 5,
   "metadata": {},
   "outputs": [
    {
     "name": "stdout",
     "output_type": "stream",
     "text": [
      "0 1 2 3 4 5 6 7 8 9 "
     ]
    }
   ],
   "source": [
    "for i in range(10):\n",
    "    print(i,end=\" \")"
   ]
  },
  {
   "cell_type": "code",
   "execution_count": 1,
   "metadata": {},
   "outputs": [
    {
     "name": "stdout",
     "output_type": "stream",
     "text": [
      "0 1 2 3 4 5 6 7 8 9 "
     ]
    }
   ],
   "source": [
    "i = 0\n",
    "while i<10:\n",
    "    print(i,end=\" \")\n",
    "    i+=1"
   ]
  },
  {
   "cell_type": "code",
   "execution_count": 2,
   "metadata": {},
   "outputs": [
    {
     "name": "stdout",
     "output_type": "stream",
     "text": [
      "Enter temperature in celcius : 55\n",
      "in fahrenheit the temperature is :  131.0\n"
     ]
    }
   ],
   "source": [
    "temp = eval(input(\"Enter temperature in celcius : \"))\n",
    "\n",
    "while temp < -273.15:\n",
    "    temp = eval(input(\"Impossible. Input a valid temperature : \"))\n",
    "print(\"in fahrenheit the temperature is : \",9/5*temp+32)"
   ]
  },
  {
   "cell_type": "code",
   "execution_count": 4,
   "metadata": {},
   "outputs": [
    {
     "name": "stdout",
     "output_type": "stream",
     "text": [
      "0 2 4 6 8 10 12 14 16 18 20 22 24 26 28 30 32 34 36 38 40 42 44 46 48 Bye\n"
     ]
    }
   ],
   "source": [
    "i =0\n",
    "while i<50:\n",
    "    print(i,end =\" \")\n",
    "    i+=2\n",
    "print(\"Bye\")"
   ]
  },
  {
   "cell_type": "code",
   "execution_count": null,
   "metadata": {},
   "outputs": [
    {
     "name": "stdout",
     "output_type": "stream",
     "text": [
      "Enter number : 66\n",
      "number is :  66\n",
      "Enter number : 88\n",
      "number is :  88\n"
     ]
    }
   ],
   "source": [
    "for i in range(10):\n",
    "    n = eval (input(\"Enter number : \"))\n",
    "    if n<0:\n",
    "        break\n",
    "    else :\n",
    "        print(\"number is : \",n)"
   ]
  },
  {
   "cell_type": "code",
   "execution_count": 1,
   "metadata": {},
   "outputs": [
    {
     "name": "stdout",
     "output_type": "stream",
     "text": [
      "Enter number : 55\n",
      "Enter number : 66\n",
      "Enter number : 77\n",
      "Enter number : 88\n",
      "Enter number : 99\n"
     ]
    }
   ],
   "source": [
    "i = 0 \n",
    "n= 1\n",
    "while i<5 and n>0:\n",
    "    num= eval (input(\"Enter number : \"))\n",
    "    i+=1\n",
    "    "
   ]
  },
  {
   "cell_type": "code",
   "execution_count": 4,
   "metadata": {},
   "outputs": [
    {
     "name": "stdout",
     "output_type": "stream",
     "text": [
      "Input numbers : 4\n",
      "not prime\n"
     ]
    }
   ],
   "source": [
    "i = 2\n",
    "num= eval(input(\"Input numbers : \"))\n",
    "\n",
    "while i<num and num%i !=0:\n",
    "    i+=1\n",
    "    \n",
    "if i==num:\n",
    "    print(\"prime\")\n",
    "else :\n",
    "    print(\"not prime\")"
   ]
  },
  {
   "cell_type": "code",
   "execution_count": 5,
   "metadata": {},
   "outputs": [
    {
     "name": "stdout",
     "output_type": "stream",
     "text": [
      "Input numbers : 4\n",
      "Not prime\n"
     ]
    }
   ],
   "source": [
    "num= eval(input(\"Input numbers : \"))\n",
    "\n",
    "for i in range(2,num):\n",
    "    if num%i ==0:\n",
    "        print(\"Not prime\")\n",
    "        break\n",
    "    else :\n",
    "        print(\"prime\")"
   ]
  },
  {
   "cell_type": "code",
   "execution_count": 9,
   "metadata": {},
   "outputs": [
    {
     "name": "stdout",
     "output_type": "stream",
     "text": [
      "Input a number and you will get exactly 5 chance to answer : 6\n",
      "Wrong answer. Try again \n",
      "The guess is  6  greater than the number :  0\n",
      "Input a number to answer again : 5\n",
      "Wrong answer. Try again \n",
      "The guess is  5  greater than the number :  3\n",
      "Input a number to answer again : 3\n",
      "Wrong answer. Try again \n",
      "The guess is  3  lower than the number :  9\n",
      "Input a number to answer again : 6\n",
      "Wrong answer. Try again \n",
      "The guess is  6  greater than the number :  0\n",
      "Input a number to answer again : 7\n"
     ]
    }
   ],
   "source": [
    "from random import randint\n",
    "guess= eval(input(\"Input a number and you will get exactly 5 chance to answer : \"))\n",
    "c = 5\n",
    "\n",
    "while c>1:\n",
    "    n = randint(0,10)\n",
    "    if guess!= n:\n",
    "        print(\"Wrong answer. Try again \")\n",
    "        if (guess> n):\n",
    "            print('The guess is ',guess,\" greater than the number : \",n)\n",
    "        else :\n",
    "            print('The guess is ',guess,\" lower than the number : \",n)\n",
    "\n",
    "        guess= eval(input(\"Input a number to answer again : \"))\n",
    "        c=c-1\n",
    "    else : \n",
    "        print(\"Correct answer ! Congratulations !\")\n",
    "        c=c-1\n",
    "\n",
    "        \n",
    "    "
   ]
  },
  {
   "cell_type": "markdown",
   "metadata": {},
   "source": [
    "#### Exercises "
   ]
  },
  {
   "cell_type": "code",
   "execution_count": null,
   "metadata": {},
   "outputs": [],
   "source": [
    "# Exercise 1 "
   ]
  },
  {
   "cell_type": "code",
   "execution_count": null,
   "metadata": {},
   "outputs": [],
   "source": [
    "# Exercise 2 "
   ]
  },
  {
   "cell_type": "code",
   "execution_count": null,
   "metadata": {},
   "outputs": [],
   "source": [
    "# Exercise 3"
   ]
  },
  {
   "cell_type": "code",
   "execution_count": null,
   "metadata": {},
   "outputs": [],
   "source": [
    "# Exercise 4"
   ]
  },
  {
   "cell_type": "code",
   "execution_count": null,
   "metadata": {},
   "outputs": [],
   "source": [
    "# Exercise 5"
   ]
  },
  {
   "cell_type": "code",
   "execution_count": null,
   "metadata": {},
   "outputs": [],
   "source": [
    "# Exercise 6"
   ]
  },
  {
   "cell_type": "code",
   "execution_count": null,
   "metadata": {},
   "outputs": [],
   "source": [
    "# Exercise 7"
   ]
  },
  {
   "cell_type": "code",
   "execution_count": null,
   "metadata": {},
   "outputs": [],
   "source": [
    "# Exercise 8"
   ]
  },
  {
   "cell_type": "code",
   "execution_count": null,
   "metadata": {},
   "outputs": [],
   "source": [
    "# Exercise 9"
   ]
  },
  {
   "cell_type": "code",
   "execution_count": null,
   "metadata": {},
   "outputs": [],
   "source": [
    "# Exercise 10"
   ]
  },
  {
   "cell_type": "code",
   "execution_count": null,
   "metadata": {},
   "outputs": [],
   "source": [
    "# Exercise 11"
   ]
  },
  {
   "cell_type": "code",
   "execution_count": null,
   "metadata": {},
   "outputs": [],
   "source": [
    "# Exercise 12"
   ]
  },
  {
   "cell_type": "code",
   "execution_count": null,
   "metadata": {},
   "outputs": [],
   "source": [
    "# Exercise 13"
   ]
  },
  {
   "cell_type": "code",
   "execution_count": null,
   "metadata": {},
   "outputs": [],
   "source": [
    "# Exercise 14"
   ]
  },
  {
   "cell_type": "code",
   "execution_count": null,
   "metadata": {},
   "outputs": [],
   "source": [
    "# Exercise 15"
   ]
  },
  {
   "cell_type": "code",
   "execution_count": null,
   "metadata": {},
   "outputs": [],
   "source": [
    "# Exercise 16"
   ]
  },
  {
   "cell_type": "code",
   "execution_count": null,
   "metadata": {},
   "outputs": [],
   "source": [
    "# Exercise 17"
   ]
  },
  {
   "cell_type": "code",
   "execution_count": null,
   "metadata": {},
   "outputs": [],
   "source": [
    "# Exercise 18"
   ]
  },
  {
   "cell_type": "code",
   "execution_count": null,
   "metadata": {},
   "outputs": [],
   "source": [
    "# Exercise 19"
   ]
  },
  {
   "cell_type": "code",
   "execution_count": null,
   "metadata": {},
   "outputs": [],
   "source": [
    "# Exercise 20"
   ]
  },
  {
   "cell_type": "markdown",
   "metadata": {},
   "source": [
    "### Chapter 10 : Miscellaneous Topics II "
   ]
  },
  {
   "cell_type": "code",
   "execution_count": 10,
   "metadata": {},
   "outputs": [
    {
     "data": {
      "text/plain": [
       "'37'"
      ]
     },
     "execution_count": 10,
     "metadata": {},
     "output_type": "execute_result"
    }
   ],
   "source": [
    "str(37)"
   ]
  },
  {
   "cell_type": "code",
   "execution_count": 11,
   "metadata": {},
   "outputs": [
    {
     "data": {
      "text/plain": [
       "'3.445'"
      ]
     },
     "execution_count": 11,
     "metadata": {},
     "output_type": "execute_result"
    }
   ],
   "source": [
    "str(3.445)"
   ]
  },
  {
   "cell_type": "code",
   "execution_count": 12,
   "metadata": {},
   "outputs": [
    {
     "data": {
      "text/plain": [
       "'[1, 2, 3, 4]'"
      ]
     },
     "execution_count": 12,
     "metadata": {},
     "output_type": "execute_result"
    }
   ],
   "source": [
    "str([1,2,3,4])"
   ]
  },
  {
   "cell_type": "code",
   "execution_count": 13,
   "metadata": {},
   "outputs": [
    {
     "data": {
      "text/plain": [
       "38"
      ]
     },
     "execution_count": 13,
     "metadata": {},
     "output_type": "execute_result"
    }
   ],
   "source": [
    "int('38')"
   ]
  },
  {
   "cell_type": "code",
   "execution_count": 14,
   "metadata": {},
   "outputs": [
    {
     "data": {
      "text/plain": [
       "3.44"
      ]
     },
     "execution_count": 14,
     "metadata": {},
     "output_type": "execute_result"
    }
   ],
   "source": [
    "float('3.44')"
   ]
  },
  {
   "cell_type": "code",
   "execution_count": 15,
   "metadata": {},
   "outputs": [
    {
     "data": {
      "text/plain": [
       "3"
      ]
     },
     "execution_count": 15,
     "metadata": {},
     "output_type": "execute_result"
    }
   ],
   "source": [
    "int(3.3333)"
   ]
  },
  {
   "cell_type": "code",
   "execution_count": 16,
   "metadata": {},
   "outputs": [
    {
     "data": {
      "text/plain": [
       "0"
      ]
     },
     "execution_count": 16,
     "metadata": {},
     "output_type": "execute_result"
    }
   ],
   "source": [
    "int(3/333)"
   ]
  },
  {
   "cell_type": "code",
   "execution_count": 19,
   "metadata": {},
   "outputs": [
    {
     "data": {
      "text/plain": [
       "[3, 4]"
      ]
     },
     "execution_count": 19,
     "metadata": {},
     "output_type": "execute_result"
    }
   ],
   "source": [
    "list((3,4))"
   ]
  },
  {
   "cell_type": "code",
   "execution_count": 22,
   "metadata": {},
   "outputs": [
    {
     "data": {
      "text/plain": [
       "[2, 3, 4, 5]"
      ]
     },
     "execution_count": 22,
     "metadata": {},
     "output_type": "execute_result"
    }
   ],
   "source": [
    "list({2,3,4,5})"
   ]
  },
  {
   "cell_type": "code",
   "execution_count": 24,
   "metadata": {},
   "outputs": [
    {
     "data": {
      "text/plain": [
       "['name', 'age']"
      ]
     },
     "execution_count": 24,
     "metadata": {},
     "output_type": "execute_result"
    }
   ],
   "source": [
    "list({'name':\"nayeem\",\"age\":22})"
   ]
  },
  {
   "cell_type": "code",
   "execution_count": 25,
   "metadata": {},
   "outputs": [
    {
     "data": {
      "text/plain": [
       "['s', 'd', 'j', 'h', 'a', 'f', 's', 'j']"
      ]
     },
     "execution_count": 25,
     "metadata": {},
     "output_type": "execute_result"
    }
   ],
   "source": [
    "list('sdjhafsj')"
   ]
  },
  {
   "cell_type": "code",
   "execution_count": 26,
   "metadata": {},
   "outputs": [
    {
     "data": {
      "text/plain": [
       "[0, 1, 2, 3, 4, 5, 6, 7, 8, 9]"
      ]
     },
     "execution_count": 26,
     "metadata": {},
     "output_type": "execute_result"
    }
   ],
   "source": [
    "list(range(0,10))"
   ]
  },
  {
   "cell_type": "code",
   "execution_count": 28,
   "metadata": {},
   "outputs": [
    {
     "name": "stdout",
     "output_type": "stream",
     "text": [
      "0 1 2 3 4 5 6 7 8 9 11 22 33 44 55 66 77 88 99 101 111 121 131 141 151 161 171 181 191 202 212 222 232 242 252 262 272 282 292 303 313 323 333 343 353 363 373 383 393 404 414 424 434 444 454 464 474 484 494 505 515 525 535 545 555 565 575 585 595 606 616 626 636 646 656 666 676 686 696 707 717 727 737 747 757 767 777 787 797 808 818 828 838 848 858 868 878 888 898 909 919 929 939 949 959 969 979 989 999 1001 1111 1221 1331 1441 1551 1661 1771 1881 1991 2002 2112 2222 2332 2442 2552 2662 2772 2882 2992 3003 3113 3223 3333 3443 3553 3663 3773 3883 3993 4004 4114 4224 4334 4444 4554 4664 4774 4884 4994 5005 5115 5225 5335 5445 5555 5665 5775 5885 5995 6006 6116 6226 6336 6446 6556 6666 6776 6886 6996 7007 7117 7227 7337 7447 7557 7667 7777 7887 7997 8008 8118 8228 8338 8448 8558 8668 8778 8888 8998 9009 9119 9229 9339 9449 9559 9669 9779 9889 9999 "
     ]
    }
   ],
   "source": [
    "# Example 1\n",
    "\n",
    "for i in range(10000):\n",
    "    s = str(i)\n",
    "    if s == s[::-1]:\n",
    "        print(s,end=\" \")"
   ]
  },
  {
   "cell_type": "code",
   "execution_count": 30,
   "metadata": {},
   "outputs": [
    {
     "name": "stdout",
     "output_type": "stream",
     "text": [
      "Enter a decimal number : 66\n",
      "Sum of first two digit of the given number is :  12\n"
     ]
    }
   ],
   "source": [
    "n = eval (input(\"Enter a decimal number : \"))\n",
    "\n",
    "s = str(n)\n",
    "\n",
    "sum = int(s[0])+int(s[1])\n",
    "print(\"Sum of first two digit of the given number is : \",sum)\n"
   ]
  },
  {
   "cell_type": "code",
   "execution_count": 31,
   "metadata": {},
   "outputs": [
    {
     "name": "stdout",
     "output_type": "stream",
     "text": [
      "Enter a decimal number : 6473562385\n",
      "Sum of all digit of given number is :  49\n"
     ]
    }
   ],
   "source": [
    "n = eval (input(\"Enter a decimal number : \"))\n",
    "s = str(n)\n",
    "sum = 0\n",
    "\n",
    "for i in range(len(s)):\n",
    "    sum = sum+int(s[i])\n",
    "print(\"Sum of all digit of given number is : \",sum)"
   ]
  },
  {
   "cell_type": "code",
   "execution_count": 37,
   "metadata": {},
   "outputs": [
    {
     "name": "stdout",
     "output_type": "stream",
     "text": [
      "Enter a decimal number : 7348\n"
     ]
    },
    {
     "ename": "TypeError",
     "evalue": "'int' object is not callable",
     "output_type": "error",
     "traceback": [
      "\u001b[1;31m---------------------------------------------------------------------------\u001b[0m",
      "\u001b[1;31mTypeError\u001b[0m                                 Traceback (most recent call last)",
      "\u001b[1;32m<ipython-input-37-53a1e8a77ad7>\u001b[0m in \u001b[0;36m<module>\u001b[1;34m\u001b[0m\n\u001b[0;32m      1\u001b[0m \u001b[0mnum\u001b[0m \u001b[1;33m=\u001b[0m \u001b[0meval\u001b[0m \u001b[1;33m(\u001b[0m\u001b[0minput\u001b[0m\u001b[1;33m(\u001b[0m\u001b[1;34m\"Enter a decimal number : \"\u001b[0m\u001b[1;33m)\u001b[0m\u001b[1;33m)\u001b[0m\u001b[1;33m\u001b[0m\u001b[1;33m\u001b[0m\u001b[0m\n\u001b[1;32m----> 2\u001b[1;33m \u001b[0manswer\u001b[0m \u001b[1;33m=\u001b[0m \u001b[0msum\u001b[0m\u001b[1;33m(\u001b[0m\u001b[1;33m[\u001b[0m\u001b[0mint\u001b[0m\u001b[1;33m(\u001b[0m\u001b[0mc\u001b[0m\u001b[1;33m)\u001b[0m \u001b[1;32mfor\u001b[0m \u001b[0mc\u001b[0m \u001b[1;32min\u001b[0m \u001b[0mstr\u001b[0m\u001b[1;33m(\u001b[0m\u001b[0mnum\u001b[0m\u001b[1;33m)\u001b[0m\u001b[1;33m]\u001b[0m\u001b[1;33m)\u001b[0m\u001b[1;33m\u001b[0m\u001b[1;33m\u001b[0m\u001b[0m\n\u001b[0m\u001b[0;32m      3\u001b[0m \u001b[0mprint\u001b[0m\u001b[1;33m(\u001b[0m\u001b[0manswer\u001b[0m\u001b[1;33m)\u001b[0m\u001b[1;33m\u001b[0m\u001b[1;33m\u001b[0m\u001b[0m\n",
      "\u001b[1;31mTypeError\u001b[0m: 'int' object is not callable"
     ]
    }
   ],
   "source": [
    "num = eval (input(\"Enter a decimal number : \"))\n",
    "answer = sum([int(c) for c in str(num)])\n",
    "print(answer)"
   ]
  },
  {
   "cell_type": "code",
   "execution_count": 40,
   "metadata": {},
   "outputs": [
    {
     "name": "stdout",
     "output_type": "stream",
     "text": [
      "Enter  a floating point number : 89.745259243\n",
      "The fractional number is :  0.745\n"
     ]
    }
   ],
   "source": [
    "# Example 4\n",
    "num = eval(input(\"Enter  a floating point number : \"))\n",
    "\n",
    "r= num - int(num)\n",
    "print(\"The fractional number is : \",round(r,3))"
   ]
  },
  {
   "cell_type": "code",
   "execution_count": 3,
   "metadata": {},
   "outputs": [
    {
     "name": "stdout",
     "output_type": "stream",
     "text": [
      "Enter a number : 66\n",
      "2 3 4 5 6 7 8 "
     ]
    }
   ],
   "source": [
    "# Example 5\n",
    "\n",
    "num = eval(input(\"Enter a number : \"))\n",
    "for i in range(2,int(num**.5)+1):\n",
    "    print(i,end=\" \")\n"
   ]
  },
  {
   "cell_type": "code",
   "execution_count": 4,
   "metadata": {},
   "outputs": [
    {
     "name": "stdout",
     "output_type": "stream",
     "text": [
      "1 2 3 4\n"
     ]
    }
   ],
   "source": [
    "l = [1,2,3,4]\n",
    "x,y,z,a = l\n",
    "print(x,y,z,a)"
   ]
  },
  {
   "cell_type": "code",
   "execution_count": 6,
   "metadata": {},
   "outputs": [
    {
     "name": "stdout",
     "output_type": "stream",
     "text": [
      "0 0\n"
     ]
    }
   ],
   "source": [
    "a=s=d=f = 0\n",
    "\n",
    "print(s,d)"
   ]
  },
  {
   "cell_type": "code",
   "execution_count": 7,
   "metadata": {},
   "outputs": [
    {
     "name": "stdout",
     "output_type": "stream",
     "text": [
      "2 1 3\n"
     ]
    }
   ],
   "source": [
    "a,s,d = 1,2,3\n",
    "\n",
    "a,s,d = s,a,d\n",
    "print(a,s,d)"
   ]
  },
  {
   "cell_type": "markdown",
   "metadata": {},
   "source": [
    "#### 10.7 String Formatting "
   ]
  },
  {
   "cell_type": "code",
   "execution_count": 10,
   "metadata": {},
   "outputs": [
    {
     "name": "stdout",
     "output_type": "stream",
     "text": [
      "the value of a is 9.4200\n"
     ]
    }
   ],
   "source": [
    "a = 23.55*.4\n",
    "\n",
    "print(\"the value of a is {:.4f}\".format(a))"
   ]
  },
  {
   "cell_type": "code",
   "execution_count": 13,
   "metadata": {},
   "outputs": [
    {
     "name": "stdout",
     "output_type": "stream",
     "text": [
      "Tip : $ 5.777, and the bill is $34.4524\n"
     ]
    }
   ],
   "source": [
    "bill = 34.452365\n",
    "tip = 5.7768\n",
    "\n",
    "print(\"Tip : ${: .3f}, and the bill is ${:.4f}\".format(tip,bill))"
   ]
  },
  {
   "cell_type": "code",
   "execution_count": 17,
   "metadata": {},
   "outputs": [
    {
     "name": "stdout",
     "output_type": "stream",
     "text": [
      " the value is :        223\n",
      " the value is :         23\n",
      " the value is :          3\n"
     ]
    }
   ],
   "source": [
    "print(\" the value is : {:10d}\".format(223))\n",
    "print(\" the value is : {:10d}\".format(23))\n",
    "print(\" the value is : {:10d}\".format(3))\n",
    "\n",
    "# the d allows us to right-justify integers"
   ]
  },
  {
   "cell_type": "code",
   "execution_count": 25,
   "metadata": {},
   "outputs": [
    {
     "name": "stdout",
     "output_type": "stream",
     "text": [
      "  5  \n",
      " 573 \n",
      "57844\n",
      "5784455\n"
     ]
    }
   ],
   "source": [
    "# To center integers instead of right-justifying, use the ^ character,4\n",
    "# and to left-justify, use the < character\n",
    "\n",
    "print('{:^5d}'.format(5))\n",
    "print('{:^5d}'.format(573))\n",
    "print('{:^5d}'.format(57844))\n"
   ]
  },
  {
   "cell_type": "code",
   "execution_count": 26,
   "metadata": {},
   "outputs": [
    {
     "name": "stdout",
     "output_type": "stream",
     "text": [
      "5    \n",
      "573  \n",
      "57844\n"
     ]
    }
   ],
   "source": [
    "print('{:<5d}'.format(5))\n",
    "print('{:<5d}'.format(573))\n",
    "print('{:<5d}'.format(57844))\n"
   ]
  },
  {
   "cell_type": "code",
   "execution_count": 40,
   "metadata": {},
   "outputs": [
    {
     "name": "stdout",
     "output_type": "stream",
     "text": [
      "22222.3345\n"
     ]
    }
   ],
   "source": [
    "print(\"{:2.4f}\".format(22222.334455))"
   ]
  },
  {
   "cell_type": "code",
   "execution_count": 32,
   "metadata": {},
   "outputs": [
    {
     "name": "stdout",
     "output_type": "stream",
     "text": [
      "10,000,000\n"
     ]
    }
   ],
   "source": [
    "print(\"{:,d}\".format(10000000))"
   ]
  },
  {
   "cell_type": "code",
   "execution_count": 35,
   "metadata": {},
   "outputs": [
    {
     "name": "stdout",
     "output_type": "stream",
     "text": [
      "                      Hello                       \n",
      "                   Hello There                    \n",
      "             Hello i am here to help              \n"
     ]
    }
   ],
   "source": [
    "print(\"{:^50s}\".format(\"Hello\"))\n",
    "print(\"{:^50s}\".format(\"Hello There\"))\n",
    "print(\"{:^50s}\".format(\"Hello i am here to help\"))"
   ]
  },
  {
   "cell_type": "code",
   "execution_count": 36,
   "metadata": {},
   "outputs": [
    {
     "name": "stdout",
     "output_type": "stream",
     "text": [
      "    Hi\n",
      " There\n"
     ]
    }
   ],
   "source": [
    "print('{:>6s}'.format('Hi')) \n",
    "print('{:>6s}'.format('There'))\n"
   ]
  },
  {
   "cell_type": "code",
   "execution_count": 55,
   "metadata": {},
   "outputs": [
    {
     "name": "stdout",
     "output_type": "stream",
     "text": [
      "  0   0   0   0   0   0   0   0   0   0 \n",
      "  0   1   2   3   4   5   6   7   8   9 \n",
      "  0   2   4   6   8  10  12  14  16  18 \n",
      "  0   3   6   9  12  15  18  21  24  27 \n",
      "  0   4   8  12  16  20  24  28  32  36 \n",
      "  0   5  10  15  20  25  30  35  40  45 \n",
      "  0   6  12  18  24  30  36  42  48  54 \n",
      "  0   7  14  21  28  35  42  49  56  63 \n",
      "  0   8  16  24  32  40  48  56  64  72 \n",
      "  0   9  18  27  36  45  54  63  72  81 \n"
     ]
    }
   ],
   "source": [
    "for i in range(0,10):\n",
    "    for j in range(0,10):\n",
    "        print(\"{:3d}\".format(i*j),end =\" \")\n",
    "    print()"
   ]
  },
  {
   "cell_type": "code",
   "execution_count": 50,
   "metadata": {},
   "outputs": [
    {
     "name": "stdout",
     "output_type": "stream",
     "text": [
      "  1   2   3   4   5   6   7   8   9  10 \n",
      "  2   4   6   8  10  12  14  16  18  20 \n",
      "  3   6   9  12  15  18  21  24  27  30 \n",
      "  4   8  12  16  20  24  28  32  36  40 \n",
      "  5  10  15  20  25  30  35  40  45  50 \n",
      "  6  12  18  24  30  36  42  48  54  60 \n",
      "  7  14  21  28  35  42  49  56  63  70 \n",
      "  8  16  24  32  40  48  56  64  72  80 \n",
      "  9  18  27  36  45  54  63  72  81  90 \n",
      " 10  20  30  40  50  60  70  80  90 100 \n"
     ]
    }
   ],
   "source": [
    "for i in range(1,11): \n",
    "    for j in range(1,11): \n",
    "        print('{:3d}'.format(i*j), end=' ') \n",
    "    print()\n"
   ]
  },
  {
   "cell_type": "code",
   "execution_count": 59,
   "metadata": {},
   "outputs": [
    {
     "name": "stdout",
     "output_type": "stream",
     "text": [
      "5 -2\n"
     ]
    }
   ],
   "source": [
    "for x in range(-50,50):\n",
    "    for y in range(-50,50):\n",
    "        if 2*x+3*y==4 and x-y ==7:\n",
    "            print(x,y)"
   ]
  },
  {
   "cell_type": "code",
   "execution_count": 63,
   "metadata": {},
   "outputs": [
    {
     "name": "stdout",
     "output_type": "stream",
     "text": [
      "(49, 49, 3) (49, 49, 3) (49, 49, 3) (49, 49, 3) (49, 49, 3) (49, 49, 3) (49, 49, 3) (49, 49, 3) "
     ]
    }
   ],
   "source": [
    "for i in range(1,20):\n",
    "    for j in range(1,20):\n",
    "        for k in range(1,20):\n",
    "            if i**2 + j**2 == k**2:\n",
    "                for i in range(2,x):\n",
    "                    if x%i ==0 and y%i ==0 and z%i ==0:\n",
    "                        break\n",
    "                else :\n",
    "                    print((x,y,z),end= \" \")"
   ]
  },
  {
   "cell_type": "code",
   "execution_count": 64,
   "metadata": {},
   "outputs": [
    {
     "data": {
      "text/plain": [
       "'PPPPPPPPPPPPPPPPPPPPPyyyyyyyyyyyyyyyyyyyyyttttttttttttttttttttthhhhhhhhhhhhhhhhhhhhhooooooooooooooooooooonnnnnnnnnnnnnnnnnnnnn'"
      ]
     },
     "execution_count": 64,
     "metadata": {},
     "output_type": "execute_result"
    }
   ],
   "source": [
    "\"\".join([c*i for c in \"Python\" for i in range(1,7)])"
   ]
  },
  {
   "cell_type": "markdown",
   "metadata": {},
   "source": [
    "### Chapter 11 : Dictionaries "
   ]
  },
  {
   "cell_type": "code",
   "execution_count": 67,
   "metadata": {},
   "outputs": [
    {
     "name": "stdout",
     "output_type": "stream",
     "text": [
      "31 28 31 30 31 30 31 31 30 31 30 31 "
     ]
    }
   ],
   "source": [
    "days = {'January':31, 'February':28, 'March':31, 'April':30, 'May':31, 'June':30, 'July':31, 'August':31, 'September':30, 'October':31, 'November':30, 'December':31}\n",
    "\n",
    "for i in days.keys():\n",
    "    print(days[i],end=\" \")"
   ]
  },
  {
   "cell_type": "code",
   "execution_count": 75,
   "metadata": {},
   "outputs": [
    {
     "name": "stdout",
     "output_type": "stream",
     "text": [
      "33\n"
     ]
    }
   ],
   "source": [
    "d = {\"A\":30, \"B\":33}\n",
    "print(d[\"B\"])"
   ]
  },
  {
   "cell_type": "code",
   "execution_count": 76,
   "metadata": {},
   "outputs": [
    {
     "name": "stdout",
     "output_type": "stream",
     "text": [
      "Enter a key : dog\n",
      "has a tail and goes woof!\n"
     ]
    }
   ],
   "source": [
    "d = {'dog' : 'has a tail and goes woof!', \n",
    "     'cat' : 'says meow', \n",
    "     'mouse' : 'chased by cats'}\n",
    "\n",
    "n = input(\"Enter a key : \")\n",
    "print(d[n])"
   ]
  },
  {
   "cell_type": "code",
   "execution_count": 80,
   "metadata": {},
   "outputs": [
    {
     "name": "stdout",
     "output_type": "stream",
     "text": [
      "Enter a key : JDHK\n",
      "19\n"
     ]
    }
   ],
   "source": [
    "word = input(\"Enter a key : \")\n",
    "\n",
    "points = {'A':1, 'B':3, 'C':3, 'D':2, 'E':1, 'F':4, 'G':2, 'H':4, 'I':1, 'J':8, 'K':5, 'L':1, 'M':3, 'N':1, 'O':1, 'P':3, 'Q':10, 'R':1, 'S':1, 'T':1, 'U':1, 'V':4, 'W':4, 'X':8, 'Y':4, 'Z':10}\n",
    "score = sum([points[c] for c in word])\n",
    "print(score)"
   ]
  },
  {
   "cell_type": "code",
   "execution_count": 82,
   "metadata": {},
   "outputs": [],
   "source": [
    "deck = [{'value':i, 'suit':c}\n",
    "        for c in ['spades', 'clubs', 'hearts', 'diamonds'] \n",
    "        for i in range(2,15)] "
   ]
  },
  {
   "cell_type": "code",
   "execution_count": 92,
   "metadata": {},
   "outputs": [
    {
     "data": {
      "text/plain": [
       "{'value': 7, 'suit': 'hearts'}"
      ]
     },
     "execution_count": 92,
     "metadata": {},
     "output_type": "execute_result"
    }
   ],
   "source": [
    "from random import shuffle\n",
    "shuffle(deck)\n",
    "deck[0]"
   ]
  },
  {
   "cell_type": "code",
   "execution_count": 95,
   "metadata": {},
   "outputs": [
    {
     "name": "stdout",
     "output_type": "stream",
     "text": [
      "Enter a letter: A\n",
      "The value is 100\n"
     ]
    }
   ],
   "source": [
    "d = {'A':100, 'B':200}\n",
    "letter = input('Enter a letter: ') \n",
    "if letter in d: \n",
    "    print('The value is', d[letter]) \n",
    "else: print('Not in dictionary') "
   ]
  },
  {
   "cell_type": "code",
   "execution_count": 98,
   "metadata": {},
   "outputs": [
    {
     "name": "stdout",
     "output_type": "stream",
     "text": [
      "A 1 B 3 C 3 D 2 E 1 F 4 G 2 H 4 I 1 J 8 K 5 L 1 M 3 N 1 O 1 P 3 Q 10 R 1 S 1 T 1 U 1 V 4 W 4 X 8 Y 4 Z 10 "
     ]
    }
   ],
   "source": [
    "points = {'A':1, 'B':3, 'C':3, 'D':2, 'E':1, 'F':4, 'G':2, 'H':4, 'I':1, 'J':8, 'K':5, 'L':1, 'M':3, 'N':1, 'O':1, 'P':3, 'Q':10, 'R':1, 'S':1, 'T':1, 'U':1, 'V':4, 'W':4, 'X':8, 'Y':4, 'Z':10}\n",
    "for i in points:\n",
    "    print(i,end= \" \")\n",
    "    print(points[i],end=\" \")"
   ]
  },
  {
   "cell_type": "code",
   "execution_count": 101,
   "metadata": {},
   "outputs": [
    {
     "data": {
      "text/plain": [
       "['A',\n",
       " 'B',\n",
       " 'C',\n",
       " 'D',\n",
       " 'E',\n",
       " 'F',\n",
       " 'G',\n",
       " 'H',\n",
       " 'I',\n",
       " 'J',\n",
       " 'K',\n",
       " 'L',\n",
       " 'M',\n",
       " 'N',\n",
       " 'O',\n",
       " 'P',\n",
       " 'Q',\n",
       " 'R',\n",
       " 'S',\n",
       " 'T',\n",
       " 'U',\n",
       " 'V',\n",
       " 'W',\n",
       " 'X',\n",
       " 'Y',\n",
       " 'Z']"
      ]
     },
     "execution_count": 101,
     "metadata": {},
     "output_type": "execute_result"
    }
   ],
   "source": [
    "list(points,)"
   ]
  },
  {
   "cell_type": "code",
   "execution_count": 102,
   "metadata": {},
   "outputs": [
    {
     "data": {
      "text/plain": [
       "[1,\n",
       " 3,\n",
       " 3,\n",
       " 2,\n",
       " 1,\n",
       " 4,\n",
       " 2,\n",
       " 4,\n",
       " 1,\n",
       " 8,\n",
       " 5,\n",
       " 1,\n",
       " 3,\n",
       " 1,\n",
       " 1,\n",
       " 3,\n",
       " 10,\n",
       " 1,\n",
       " 1,\n",
       " 1,\n",
       " 1,\n",
       " 4,\n",
       " 4,\n",
       " 8,\n",
       " 4,\n",
       " 10]"
      ]
     },
     "execution_count": 102,
     "metadata": {},
     "output_type": "execute_result"
    }
   ],
   "source": [
    "list(points.values())"
   ]
  },
  {
   "cell_type": "code",
   "execution_count": 103,
   "metadata": {},
   "outputs": [
    {
     "data": {
      "text/plain": [
       "[('A', 1),\n",
       " ('B', 3),\n",
       " ('C', 3),\n",
       " ('D', 2),\n",
       " ('E', 1),\n",
       " ('F', 4),\n",
       " ('G', 2),\n",
       " ('H', 4),\n",
       " ('I', 1),\n",
       " ('J', 8),\n",
       " ('K', 5),\n",
       " ('L', 1),\n",
       " ('M', 3),\n",
       " ('N', 1),\n",
       " ('O', 1),\n",
       " ('P', 3),\n",
       " ('Q', 10),\n",
       " ('R', 1),\n",
       " ('S', 1),\n",
       " ('T', 1),\n",
       " ('U', 1),\n",
       " ('V', 4),\n",
       " ('W', 4),\n",
       " ('X', 8),\n",
       " ('Y', 4),\n",
       " ('Z', 10)]"
      ]
     },
     "execution_count": 103,
     "metadata": {},
     "output_type": "execute_result"
    }
   ],
   "source": [
    "list(points.items())"
   ]
  },
  {
   "cell_type": "code",
   "execution_count": 105,
   "metadata": {},
   "outputs": [
    {
     "name": "stdout",
     "output_type": "stream",
     "text": [
      "A\n",
      "C\n"
     ]
    }
   ],
   "source": [
    "d = {'A':100, 'B':200, 'C':100} \n",
    "for i in d.items():\n",
    "    if i[1]==100:\n",
    "        print(i[0])\n",
    "    "
   ]
  },
  {
   "cell_type": "code",
   "execution_count": 107,
   "metadata": {},
   "outputs": [
    {
     "name": "stdout",
     "output_type": "stream",
     "text": [
      "{'A': 100, 'B': 300, 'C': 348}\n"
     ]
    }
   ],
   "source": [
    "d = dict([('A',100),('B',300),(\"C\",348)]) \n",
    "print(d)"
   ]
  },
  {
   "cell_type": "code",
   "execution_count": 122,
   "metadata": {},
   "outputs": [
    {
     "name": "stdout",
     "output_type": "stream",
     "text": [
      "['in', 'section', '12', '1', 'we', 'will', 'learn', 'how', 'to', 'read', 'from', 'a', 'text', 'ﬁle', 'for', 'now', 'here’s', 'a', 'line', 'of', 'code', 'that', 'reads', 'the', 'entire', 'contents', 'of', 'a', 'ﬁle', 'containing', 'the', 'text', 'of', 'shakespeare’s', 'romeo', 'and', 'juliet', 'and', 'stores', 'the', 'contents', 'in', 'a', 'string', 'called', 'text', 'text', 'open', 'romeoandjuliet', 'txt', 'read', 'to', 'get', 'at', 'the', 'individual', 'words', 'we', 'will', 'use', 'the', 'split', 'method', 'to', 'turn', 'the', 'string', 'into', 'a', 'list', 'of', 'its', 'individual', 'words', 'also', 'because', 'some', 'words', 'may', 'be', 'capitalized', 'we', 'will', 'convert', 'the', 'whole', 'string', 'to', 'lowercase', 'we', 'also', 'have', 'to', 'remove', 'punctuation', 'from', 'string', 'import', 'punctuation', 'text', 'text', 'lower', 'for', 'p', 'in', 'punctuation', 'text', 'text', 'replace', 'p', 'words', 'text', 'split', 'nextcomesthedictionarycodethatdoesthecounting', 'thedictionarykeyswillbethewordsfrom', 'the', 'text', 'and', 'the', 'values', 'will', 'be', 'counts', 'of', 'how', 'many', 'time', 'each', 'word', 'appears', 'we', 'start', 'with', 'an', 'empty', 'dictionary', 'then', 'for', 'every', 'word', 'in', 'the', 'list', 'of', 'words', 'if', 'we', 'have', 'seen', 'the', 'word', 'before', 'we', 'add', 'one', 'to', 'its', 'count', 'and', 'otherwise', 'we', 'set', 'the', 'count', 'for', 'that', 'word', 'equal', 'to', '1', 'here', 'is', 'the', 'code', 'd', 'for', 'w', 'in', 'words', 'if', 'w', 'in', 'd', 'd', 'w', 'd', 'w', '1'] "
     ]
    }
   ],
   "source": [
    "from string import punctuation\n",
    "\n",
    "a = open(\"a.txt\",encoding=\"utf8\").read()\n",
    "a = a.lower()\n",
    "for p in punctuation:\n",
    "    a= a.replace(p,\" \")\n",
    "word = a.split()\n",
    "print(word,end = \" \")"
   ]
  },
  {
   "cell_type": "markdown",
   "metadata": {},
   "source": [
    "### Chapter 12 : Text files "
   ]
  },
  {
   "cell_type": "code",
   "execution_count": 123,
   "metadata": {},
   "outputs": [
    {
     "name": "stdout",
     "output_type": "stream",
     "text": [
      "[\"In Section 12.1, we will learn how to read from a text ﬁle. For now, here’s a line of code that reads the entire contents of a ﬁle containing the text of Shakespeare’s Romeo and Juliet and stores the contents in a string called text: text = open('romeoandjuliet.txt').read() To get at the individual words, we will use the split method to turn the string into a list of its individual words. Also, because some words may be capitalized, we will convert the whole string to lowercase. We also have to remove punctuation. from string import punctuation\", \"text = text.lower() for p in punctuation: text = text.replace(p, '') words = text.split()\", 'Nextcomesthedictionarycodethatdoesthecounting. Thedictionarykeyswillbethewordsfrom the text and the values will be counts of how many time each word appears. We start with an empty dictionary. Then for every word in the list of words, if we have seen the word before, we add one to its count, and otherwise we set the count for that word equal to 1. Here is the code: d = {} for w in words: if w in d: d[w] = d[w] + 1']\n"
     ]
    }
   ],
   "source": [
    "lines = [line.strip() for line in open('a.txt',encoding=\"utf8\")] \n",
    "print(lines)"
   ]
  },
  {
   "cell_type": "code",
   "execution_count": 127,
   "metadata": {},
   "outputs": [
    {
     "name": "stdout",
     "output_type": "stream",
     "text": [
      "Honourable Delegate\n",
      "\n",
      "Thank you for your payment timely nd Congratilations on your convenient response into Global Alliance Model United\n",
      " Nations 2019.\n",
      "You have paid - BDT1000 (Early Bird)\n",
      "Your payment code - Zz84FC\n",
      "Please keep this unique payment code in case of emergency or for future procedures.Here i am giving a clear idea on \n",
      "what will be provided into this financial package throughout the entire  conference.\n",
      "\n",
      "List of widgets and accessories :\n",
      "\n",
      "1.Welcome Paper\n",
      "2.Delegation file\n",
      "3.Universal Declaration Of Human Rights(UDHR)\n",
      "4.United Nation's Work Manual\n",
      "5.GlobalAllianceMUN Notepad\n",
      "6.Pen\n",
      "7.Placard\n",
      "8.Badge\n",
      "9.A Secret Widget\n",
      "10.Flag(optional)\n",
      "\n",
      "Delegate,Global Alliance Model United Nations2019 is a simulation of United Nation where delegates from\n",
      " different country works together into committees and come up with a resolution after 3 days of conference.\n",
      "This entire conference is organised by GlobalAllianceMUN Association by Manarat International University.\n",
      "Please keep in mind that,Delegates have to be diplomatic,energetic and respectful towards the conference,\n",
      "committe,fellow delegates and entire association.\n",
      "Information and accessories provided by the GlobalAllianceMUNA is final and subject to limited to make the \n",
      "conference experience rich,unforgettable and lifetime\n",
      "Any kind of opposition or to request information,please contact to :\n",
      "\n",
      "-- Sahira Salam,Honourable Delegate Council,GlobalAllianceMUNA\n",
      "-- Ayesha Ratry,Honourable Delegate Affairs,GlobalAllianceMUNA\n",
      "\n",
      "\n"
     ]
    }
   ],
   "source": [
    "a = open('G:\\paymentCOnfirmed.txt',encoding=\"utf8\").read()\n",
    "\n",
    "for i in punctuation:\n",
    "    a.replace(i,\"\")\n",
    "print(a)"
   ]
  },
  {
   "cell_type": "code",
   "execution_count": 130,
   "metadata": {},
   "outputs": [
    {
     "name": "stdout",
     "output_type": "stream",
     "text": [
      "this is line 1 \n",
      "this is line 2 \n",
      "\n"
     ]
    }
   ],
   "source": [
    "f = open(\"new.txt\",\"w\")\n",
    "print(\"this is line 1 \",file=f)\n",
    "print(\"this is line 2 \",file=f)\n",
    "f.close()\n",
    "print(open(\"new.txt\").read())"
   ]
  },
  {
   "cell_type": "code",
   "execution_count": 132,
   "metadata": {},
   "outputs": [
    {
     "name": "stdout",
     "output_type": "stream",
     "text": [
      "this is line 1 \n",
      "this is line 2 \n",
      "\n"
     ]
    }
   ],
   "source": [
    "for i in open('new.txt'):\n",
    "    i.strip()\n",
    "print(open(\"new.txt\").read())"
   ]
  },
  {
   "cell_type": "code",
   "execution_count": 135,
   "metadata": {},
   "outputs": [
    {
     "data": {
      "text/plain": [
       "2"
      ]
     },
     "execution_count": 135,
     "metadata": {},
     "output_type": "execute_result"
    }
   ],
   "source": []
  },
  {
   "cell_type": "code",
   "execution_count": null,
   "metadata": {},
   "outputs": [],
   "source": [
    "\n"
   ]
  },
  {
   "cell_type": "code",
   "execution_count": null,
   "metadata": {},
   "outputs": [],
   "source": []
  },
  {
   "cell_type": "code",
   "execution_count": null,
   "metadata": {},
   "outputs": [],
   "source": []
  },
  {
   "cell_type": "code",
   "execution_count": null,
   "metadata": {},
   "outputs": [],
   "source": []
  },
  {
   "cell_type": "code",
   "execution_count": null,
   "metadata": {},
   "outputs": [],
   "source": []
  },
  {
   "cell_type": "markdown",
   "metadata": {},
   "source": [
    "### Chapter 13 : Functions \n"
   ]
  },
  {
   "cell_type": "code",
   "execution_count": 1,
   "metadata": {},
   "outputs": [
    {
     "name": "stdout",
     "output_type": "stream",
     "text": [
      "22\n"
     ]
    }
   ],
   "source": [
    "def sum(a,b):\n",
    "    print(a+b)\n",
    "sum(10,12)"
   ]
  },
  {
   "cell_type": "code",
   "execution_count": 2,
   "metadata": {},
   "outputs": [],
   "source": [
    "def hello():\n",
    "    print(\"Hello world how are you doing man?\")"
   ]
  },
  {
   "cell_type": "code",
   "execution_count": 5,
   "metadata": {},
   "outputs": [
    {
     "name": "stdout",
     "output_type": "stream",
     "text": [
      "Hello world how are you doing man?\n",
      "2634782\n",
      "Hello world how are you doing man?\n"
     ]
    }
   ],
   "source": [
    "hello()\n",
    "print(\"2634782\")\n",
    "hello()"
   ]
  },
  {
   "cell_type": "code",
   "execution_count": 11,
   "metadata": {},
   "outputs": [
    {
     "name": "stdout",
     "output_type": "stream",
     "text": [
      "**************\n",
      "*            *\n",
      "*            *\n",
      "**************\n"
     ]
    }
   ],
   "source": [
    "def draw_rect():\n",
    "    print(\"*\"*14)\n",
    "    print(\"*\"*1,\" \"*10,\"*\"*1)\n",
    "    print(\"*\"*1,\" \"*10,\"*\"*1)\n",
    "    print(\"*\"*14)\n",
    "draw_rect()"
   ]
  },
  {
   "cell_type": "code",
   "execution_count": 12,
   "metadata": {},
   "outputs": [
    {
     "name": "stdout",
     "output_type": "stream",
     "text": [
      "*****\n",
      "*****\n",
      "*****\n",
      "*****\n",
      "*****\n"
     ]
    }
   ],
   "source": [
    "def ds():\n",
    "    print(\"*\"*5)\n",
    "    print(\"*\"*5)\n",
    "    print(\"*\"*5)\n",
    "    print(\"*\"*5)\n",
    "    print(\"*\"*5)\n",
    "ds()"
   ]
  },
  {
   "cell_type": "code",
   "execution_count": 14,
   "metadata": {},
   "outputs": [
    {
     "name": "stdout",
     "output_type": "stream",
     "text": [
      "Hello Hello Hello Hello Hello Hello Hello Hello Hello Hello \n",
      "Hello Hello Hello Hello Hello \n",
      "Hello Hello Hello Hello Hello Hello Hello Hello \n"
     ]
    }
   ],
   "source": [
    "def hello(n):\n",
    "    print(\"Hello \"*n)\n",
    "hello(10)\n",
    "hello(5)\n",
    "hello(8)"
   ]
  },
  {
   "cell_type": "code",
   "execution_count": 18,
   "metadata": {},
   "outputs": [
    {
     "name": "stdout",
     "output_type": "stream",
     "text": [
      "hello hello hello hello hello \n",
      "Ab Ab Ab Ab Ab Ab Ab Ab Ab Ab Ab Ab \n"
     ]
    }
   ],
   "source": [
    "def n (s,n):\n",
    "    print(s*n)\n",
    "n(\"hello \",5)\n",
    "n(\"Ab \",12)"
   ]
  },
  {
   "cell_type": "code",
   "execution_count": 22,
   "metadata": {},
   "outputs": [
    {
     "name": "stdout",
     "output_type": "stream",
     "text": [
      "The result in Fahrenheit is :  212.0\n"
     ]
    }
   ],
   "source": [
    "def convert(n):\n",
    "    print(\"The result in Fahrenheit is : \",9/5*n+32)\n",
    "    \n",
    "convert(100)\n",
    "    "
   ]
  },
  {
   "cell_type": "code",
   "execution_count": 26,
   "metadata": {},
   "outputs": [
    {
     "name": "stdout",
     "output_type": "stream",
     "text": [
      "The result in sine is :  0.9092974268256817\n",
      "The result in pi is :  6.283185307179586\n",
      "The result in sine is :  0.9999118601072672\n",
      "The result in pi is :  103.67255756846318\n"
     ]
    }
   ],
   "source": [
    "from math import sin , pi\n",
    "\n",
    "def r(n):\n",
    "    print(\"The result in sine is : \",sin(n))\n",
    "    print(\"The result in pi is : \",pi*n)\n",
    "    \n",
    "r(2)\n",
    "r(33)"
   ]
  },
  {
   "cell_type": "code",
   "execution_count": 28,
   "metadata": {},
   "outputs": [
    {
     "name": "stdout",
     "output_type": "stream",
     "text": [
      "The solution of x is :  -204  and the solution of y is :  972\n"
     ]
    }
   ],
   "source": [
    "def solve(a,s,d,f):\n",
    "    x = (a*s) - (d*f)\n",
    "    y = (a*d) - (s*f)\n",
    "    return x,y\n",
    "\n",
    "xsol,ysol = solve(22,3,45,6)\n",
    "print(\"The solution of x is : \",xsol,\" and the solution of y is : \",ysol)"
   ]
  },
  {
   "cell_type": "code",
   "execution_count": 33,
   "metadata": {},
   "outputs": [
    {
     "name": "stdout",
     "output_type": "stream",
     "text": [
      "Hello Hello \n",
      "\n"
     ]
    }
   ],
   "source": [
    "def gw(s,n,bad):\n",
    "    if s in bad:\n",
    "        return\n",
    "    else :\n",
    "        print(s*n)\n",
    "        print()\n",
    "        \n",
    "gw(\"Hello \",2,[\"Fuck\",\"shit\",\"bulshit\"])"
   ]
  },
  {
   "cell_type": "code",
   "execution_count": 37,
   "metadata": {},
   "outputs": [
    {
     "name": "stdout",
     "output_type": "stream",
     "text": [
      "Hello Hello \n",
      "\n",
      "Again hello,Again hello,Again hello,\n",
      "\n"
     ]
    }
   ],
   "source": [
    "def multiple_print(string,n=2):\n",
    "    print(string*n)\n",
    "    print()\n",
    "\n",
    "multiple_print(\"Hello \")\n",
    "multiple_print(\"Again hello,\",3)\n",
    "\n"
   ]
  },
  {
   "cell_type": "code",
   "execution_count": 41,
   "metadata": {},
   "outputs": [
    {
     "name": "stdout",
     "output_type": "stream",
     "text": [
      "Times new roman Black white and transparent Robotic None\n"
     ]
    }
   ],
   "source": [
    "def fancy(text,color, background, style, justify):\n",
    "    print(text,color,background,style,justify)\n",
    "    \n",
    "fancy(\"Times new roman\",\"Black\",\"white and transparent\",style='Robotic',justify='None')"
   ]
  },
  {
   "cell_type": "code",
   "execution_count": 44,
   "metadata": {},
   "outputs": [
    {
     "name": "stdout",
     "output_type": "stream",
     "text": [
      "Hello there please input the n value inside the n : 12\n",
      "1 2 3 4 5 6 7 8 9 10 11 12 13 "
     ]
    }
   ],
   "source": [
    "def f(n):\n",
    "    for i in range(n+1):\n",
    "        print(i+1,end=\" \")\n",
    "        \n",
    "n = eval(input(\"Hello there please input the n value inside the n : \"))\n",
    "f(n)"
   ]
  },
  {
   "cell_type": "code",
   "execution_count": 47,
   "metadata": {},
   "outputs": [
    {
     "name": "stdout",
     "output_type": "stream",
     "text": [
      "0 1 2 3 4 5 6 7 8 9 \n",
      "10\n"
     ]
    }
   ],
   "source": [
    "def f(n):\n",
    "    for i in range(n):\n",
    "        print(i,end=\" \")\n",
    "        \n",
    "def f2():\n",
    "    n=10\n",
    "    f(n)\n",
    "    print()\n",
    "    print(n)\n",
    "    \n",
    "f2()"
   ]
  },
  {
   "cell_type": "code",
   "execution_count": 52,
   "metadata": {},
   "outputs": [
    {
     "name": "stdout",
     "output_type": "stream",
     "text": [
      "0 1 2 3 4 5 6 7 8 9 100 "
     ]
    }
   ],
   "source": [
    "def func1(): \n",
    "    for i in range(10):\n",
    "        print(i,end=\" \")\n",
    "def func2():\n",
    "    i=100 \n",
    "    func1()\n",
    "    print(i,end=\" \")\n",
    "    \n",
    "func2()"
   ]
  },
  {
   "cell_type": "code",
   "execution_count": 6,
   "metadata": {},
   "outputs": [
    {
     "name": "stdout",
     "output_type": "stream",
     "text": [
      "30\n",
      "0\n"
     ]
    }
   ],
   "source": [
    "def reset(): \n",
    "    global time_left\n",
    "    time_left=0\n",
    "def print_time(): \n",
    "    print(time_left)\n",
    "    \n",
    "time_left=30\n",
    "print_time()\n",
    "reset()\n",
    "print_time()\n"
   ]
  },
  {
   "cell_type": "code",
   "execution_count": 11,
   "metadata": {},
   "outputs": [
    {
     "name": "stdout",
     "output_type": "stream",
     "text": [
      "5\n"
     ]
    }
   ],
   "source": [
    "def func1(x):\n",
    "    x=x+1\n",
    "    return x\n",
    "    \n",
    "def func2(l):\n",
    "    l=l+1\n",
    "    \n",
    "a=func1(4)\n",
    "print(a)"
   ]
  },
  {
   "cell_type": "code",
   "execution_count": 18,
   "metadata": {},
   "outputs": [
    {
     "data": {
      "text/plain": [
       "4"
      ]
     },
     "execution_count": 18,
     "metadata": {},
     "output_type": "execute_result"
    }
   ],
   "source": [
    "def func1(x): \n",
    "    x = x + 1\n",
    "    return x\n",
    "def func2(L): \n",
    "    L = L + [1]\n",
    "    return L\n",
    "    \n",
    "\n",
    "a=3\n",
    "M=[1,2,3]\n",
    "\n",
    "func1(a)\n"
   ]
  },
  {
   "cell_type": "code",
   "execution_count": 17,
   "metadata": {},
   "outputs": [
    {
     "data": {
      "text/plain": [
       "[1, 2, 3, 1]"
      ]
     },
     "execution_count": 17,
     "metadata": {},
     "output_type": "execute_result"
    }
   ],
   "source": [
    "func2(M)"
   ]
  },
  {
   "cell_type": "markdown",
   "metadata": {},
   "source": [
    "### Chapter 14 : OOP"
   ]
  },
  {
   "cell_type": "code",
   "execution_count": 24,
   "metadata": {},
   "outputs": [
    {
     "name": "stdout",
     "output_type": "stream",
     "text": [
      "22\n",
      "33\n",
      "the sum of given numbers is : 55\n"
     ]
    }
   ],
   "source": [
    "class Example :\n",
    "    def __init__(self,x,y):\n",
    "        self.a = x\n",
    "        self.b=y\n",
    "    def value(self):\n",
    "        print(self.a)\n",
    "        print(self.b)\n",
    "        \n",
    "    def sum(self):\n",
    "        print(\"the sum of given numbers is :\",end=\" \")\n",
    "        print(self.a+self.b) \n",
    "aa = Example(22,33)\n",
    "aa.value()\n",
    "aa.sum()"
   ]
  },
  {
   "cell_type": "code",
   "execution_count": 43,
   "metadata": {},
   "outputs": [
    {
     "name": "stdout",
     "output_type": "stream",
     "text": [
      "['hello', 'i', 'am', 'one', 'are', 'you', 'listening']\n",
      "['hello', 'i', 'am', 'one', 'are', 'you', 'listening']\n",
      "None\n",
      "7\n",
      "3\n",
      "0\n"
     ]
    }
   ],
   "source": [
    "from string import punctuation\n",
    "\n",
    "class Analyzer :\n",
    "    \n",
    "    def __init__(self,s):\n",
    "        for c in punctuation:\n",
    "            s= s.replace(c,\"\")\n",
    "            s= s.lower()\n",
    "            self.word= s.split()\n",
    "            \n",
    "            \n",
    "    def value(self):\n",
    "        print(self.word)\n",
    "\n",
    "    def number_of_words(self):\n",
    "        return len(self.word)\n",
    "    def number_with_length(self,n):\n",
    "        return len([w for w in self.word if len(w)==n])\n",
    "    def starts_with(self, s): \n",
    "        return len([w for w in self.word if w[:len(s)]==s])\n",
    "\n",
    "    \n",
    "a = Analyzer(\"Hello ! i am one. Are you listening?\")\n",
    "print(a.word)\n",
    "print(a.value())\n",
    "print(a.number_of_words())\n",
    "print(a.number_with_length(3))\n",
    "print(a.starts_with('t'))\n",
    "\n"
   ]
  },
  {
   "cell_type": "code",
   "execution_count": 56,
   "metadata": {},
   "outputs": [],
   "source": [
    "### Inheritance\n",
    "\n",
    "class Parent:\n",
    "    def __init__(self,a):\n",
    "        self.a=a\n",
    "    def method1(self):\n",
    "        return (self.a*2)\n",
    "    def method2(self):\n",
    "        return (self.a+\"!!!\")\n",
    "        \n",
    "class Child(Parent):\n",
    "    def __init__(self,a,b):\n",
    "        self.a=a\n",
    "        self.b=b\n",
    "        \n",
    "    def method1(self):\n",
    "        return (self.a*7)\n",
    "    def method2(self):\n",
    "        return (self.b+\"***\")\n",
    "        \n",
    "p = Parent(\"Hi\")\n",
    "c = Child(\"hello \",\"bye\")"
   ]
  },
  {
   "cell_type": "code",
   "execution_count": 57,
   "metadata": {},
   "outputs": [
    {
     "name": "stdout",
     "output_type": "stream",
     "text": [
      "Parent method 1:  HiHi\n",
      "Parent method 2:  Hi!!!\n",
      "\n",
      "Child method 1:  hello hello hello hello hello hello hello \n",
      "Child method 2:  bye***\n"
     ]
    }
   ],
   "source": [
    "print('Parent method 1: ', p.method1()) \n",
    "print('Parent method 2: ', p.method2()) \n",
    "print()\n",
    "print('Child method 1: ', c.method1()) \n",
    "print('Child method 2: ', c.method2())\n"
   ]
  },
  {
   "cell_type": "code",
   "execution_count": 59,
   "metadata": {},
   "outputs": [
    {
     "name": "stdout",
     "output_type": "stream",
     "text": [
      "5\n",
      "6\n",
      "last line of print inside Parent\n",
      "9\n",
      "8\n",
      "last line of print inside Parent\n",
      "3\n"
     ]
    }
   ],
   "source": [
    "class Parent:\n",
    "    def __init__(self,a,b):\n",
    "        self.a=a\n",
    "        self.b=b\n",
    "    def print_value(self):\n",
    "        print(self.a)\n",
    "        print(self.b)\n",
    "        print(\"last line of print inside Parent\")\n",
    "    \n",
    "class Child(Parent):\n",
    "    def __init__(self,a,b,c):\n",
    "        Parent.__init__(self,a,b)\n",
    "        self.c=c\n",
    "    def print_value(self):\n",
    "        Parent.print_value(self)\n",
    "        print(self.c)\n",
    "        \n",
    "p = Parent(5,6)\n",
    "c = Child(9,8,3)\n",
    "p.print_value()\n",
    "c.print_value()\n"
   ]
  },
  {
   "cell_type": "code",
   "execution_count": 64,
   "metadata": {},
   "outputs": [
    {
     "data": {
      "text/plain": [
       "'5 of he'"
      ]
     },
     "execution_count": 64,
     "metadata": {},
     "output_type": "execute_result"
    }
   ],
   "source": [
    "class Card :\n",
    "    def __init__(self,value,suit):\n",
    "        self.value= value\n",
    "        self.suit= suit\n",
    "    def __str__(self):\n",
    "        names=['Jack',\"Queen\",'King','Ace']\n",
    "        if self.value<=10:\n",
    "            return '{} of {}'.format(self.value, self.suit)\n",
    "        else:\n",
    "            return '{} of {}'.format(names[self.Value-11],self.suit)\n",
    "        \n",
    "        \n",
    "c = Card(5,\"he\")\n",
    "c.__str__()\n"
   ]
  },
  {
   "cell_type": "code",
   "execution_count": 68,
   "metadata": {},
   "outputs": [
    {
     "name": "stdout",
     "output_type": "stream",
     "text": [
      "True\n",
      "4\n",
      "1\n"
     ]
    }
   ],
   "source": [
    "import random\n",
    "class Card_group: \n",
    "    def __init__(self, cards=[]): \n",
    "        self.cards = cards\n",
    "    def nextCard(self): \n",
    "        return self.cards.pop(0)\n",
    "    def hasCard(self): \n",
    "        return len(self.cards)>0\n",
    "    def size(self): \n",
    "        return len(self.cards)\n",
    "    def shuffle(self): \n",
    "        random.shuffle(self.cards)\n",
    "\n",
    "c = Card_group([1,2,3,4])\n",
    "print(c.hasCard())\n",
    "print(c.size())\n",
    "print(c.nextCard())"
   ]
  },
  {
   "cell_type": "code",
   "execution_count": 69,
   "metadata": {},
   "outputs": [
    {
     "name": "stdout",
     "output_type": "stream",
     "text": [
      "[99, 2, 3, 4, 5]\n",
      "[99, 2, 3, 4, 5]\n",
      "\n",
      "[11, 2, 3, 4, 5]\n",
      "[99, 2, 3, 4, 5]\n"
     ]
    }
   ],
   "source": [
    "l =[1,2,3,4,5]\n",
    "copy = l\n",
    "l[0]=99\n",
    "\n",
    "print(l)\n",
    "print(copy)\n",
    "print()\n",
    "c = l[:]\n",
    "l [0]=11\n",
    "print(l)\n",
    "print(c)"
   ]
  },
  {
   "cell_type": "code",
   "execution_count": 76,
   "metadata": {},
   "outputs": [
    {
     "name": "stdout",
     "output_type": "stream",
     "text": [
      "hello world\n",
      "Yello\n",
      "hello world\n"
     ]
    }
   ],
   "source": [
    "s =\"hello world\"\n",
    "copy=s\n",
    "print(s)\n",
    "s=\"Yello\"\n",
    "print(s)\n",
    "print(copy)"
   ]
  },
  {
   "cell_type": "code",
   "execution_count": 79,
   "metadata": {},
   "outputs": [
    {
     "name": "stdout",
     "output_type": "stream",
     "text": [
      "dict_keys([('John', 'Ann'), ('Mike', 'Tazz')])\n",
      "95\n"
     ]
    }
   ],
   "source": [
    "grades = {('John', 'Ann'): 95, ('Mike', 'Tazz'): 87}\n",
    "print(grades.keys())\n",
    "print(grades[('John', 'Ann')])"
   ]
  },
  {
   "cell_type": "code",
   "execution_count": 81,
   "metadata": {},
   "outputs": [
    {
     "name": "stdout",
     "output_type": "stream",
     "text": [
      "(1, 2, 4, 5)\n",
      "('m', 'y', ' ', 'n', 'a', 'm', 'e', ' ', 'i', 's', ' ', 'n', 'a', 'y', 'e', 'm')\n"
     ]
    }
   ],
   "source": [
    "t1 = tuple([1,2,4,5])\n",
    "print(t1)\n",
    "t2 = tuple('my name is nayem')\n",
    "print(t2)"
   ]
  },
  {
   "cell_type": "code",
   "execution_count": 83,
   "metadata": {},
   "outputs": [
    {
     "name": "stdout",
     "output_type": "stream",
     "text": [
      "['n', 'a', 'm', 'y', 'e', 'n', 'd', 'k', 'h', 's']\n"
     ]
    }
   ],
   "source": [
    "tt = 'namyendkhs'\n",
    "print(list(tt))"
   ]
  },
  {
   "cell_type": "code",
   "execution_count": 84,
   "metadata": {},
   "outputs": [
    {
     "name": "stdout",
     "output_type": "stream",
     "text": [
      "{1, 2, 3, 4, 5, 6, 7, 8}\n"
     ]
    }
   ],
   "source": [
    "s ={1,2,3,4,5,6,7,8}\n",
    "print(s)"
   ]
  },
  {
   "cell_type": "code",
   "execution_count": 89,
   "metadata": {},
   "outputs": [
    {
     "name": "stdout",
     "output_type": "stream",
     "text": [
      "{1, 2, 3, 4, 5, 6, 7, 8}\n",
      "{1, 2, 3, 4, 5}\n"
     ]
    }
   ],
   "source": [
    "print(set([1,2,3,4,5,6,7,8]))\n",
    "print(set((1,2,3,4,5)))\n"
   ]
  },
  {
   "cell_type": "code",
   "execution_count": 93,
   "metadata": {},
   "outputs": [
    {
     "data": {
      "text/plain": [
       "{'E', 'H', 'L', 'O', 'R', 'T'}"
      ]
     },
     "execution_count": 93,
     "metadata": {},
     "output_type": "execute_result"
    }
   ],
   "source": [
    "set(\"HELLOTHERE\")"
   ]
  },
  {
   "cell_type": "code",
   "execution_count": 94,
   "metadata": {},
   "outputs": [
    {
     "data": {
      "text/plain": [
       "{1, 2, 3, 4, 5, 6, 8, 9, 67}"
      ]
     },
     "execution_count": 94,
     "metadata": {},
     "output_type": "execute_result"
    }
   ],
   "source": [
    "a ={1,2,3,4,5,67,8,9}\n",
    "b={6,5,4,3}\n",
    "\n",
    "a|b"
   ]
  },
  {
   "cell_type": "code",
   "execution_count": 95,
   "metadata": {},
   "outputs": [
    {
     "data": {
      "text/plain": [
       "{1, 2, 8, 9, 67}"
      ]
     },
     "execution_count": 95,
     "metadata": {},
     "output_type": "execute_result"
    }
   ],
   "source": [
    "a-b"
   ]
  },
  {
   "cell_type": "code",
   "execution_count": 96,
   "metadata": {},
   "outputs": [
    {
     "data": {
      "text/plain": [
       "{3, 4, 5}"
      ]
     },
     "execution_count": 96,
     "metadata": {},
     "output_type": "execute_result"
    }
   ],
   "source": [
    "a&b"
   ]
  },
  {
   "cell_type": "code",
   "execution_count": 98,
   "metadata": {},
   "outputs": [
    {
     "data": {
      "text/plain": [
       "{1, 2, 6, 8, 9, 67}"
      ]
     },
     "execution_count": 98,
     "metadata": {},
     "output_type": "execute_result"
    }
   ],
   "source": [
    "a^b  # common elements like 3,4,5 will be reduced "
   ]
  },
  {
   "cell_type": "code",
   "execution_count": 99,
   "metadata": {},
   "outputs": [
    {
     "data": {
      "text/plain": [
       "True"
      ]
     },
     "execution_count": 99,
     "metadata": {},
     "output_type": "execute_result"
    }
   ],
   "source": [
    "3 in a"
   ]
  },
  {
   "cell_type": "code",
   "execution_count": 101,
   "metadata": {},
   "outputs": [
    {
     "name": "stdout",
     "output_type": "stream",
     "text": [
      "{0, 1, 64, 4, 36, 9, 16, 49, 81, 25}\n"
     ]
    }
   ],
   "source": [
    "# set comprehension\n",
    "\n",
    "s = {i**2 for i in range(10)}\n",
    "print(s)"
   ]
  },
  {
   "cell_type": "code",
   "execution_count": 102,
   "metadata": {},
   "outputs": [
    {
     "name": "stdout",
     "output_type": "stream",
     "text": [
      "{0, 1, 64, 4, 36, 9, 16, 49, 81, 22, 25}\n"
     ]
    }
   ],
   "source": [
    "s.add(22)\n",
    "print(s)"
   ]
  },
  {
   "cell_type": "code",
   "execution_count": 106,
   "metadata": {},
   "outputs": [
    {
     "name": "stdout",
     "output_type": "stream",
     "text": [
      "{0, 1, 36, 9, 16, 49, 22}\n"
     ]
    }
   ],
   "source": [
    "s.remove(4)\n",
    "print(s)"
   ]
  },
  {
   "cell_type": "code",
   "execution_count": null,
   "metadata": {},
   "outputs": [],
   "source": [
    "s.add(22)\n",
    "print(s)"
   ]
  },
  {
   "cell_type": "code",
   "execution_count": 113,
   "metadata": {},
   "outputs": [
    {
     "name": "stdout",
     "output_type": "stream",
     "text": [
      "False\n"
     ]
    }
   ],
   "source": [
    "b={0,1,9}\n",
    "a= s.issubset(b)\n",
    "print(a)"
   ]
  },
  {
   "cell_type": "code",
   "execution_count": 114,
   "metadata": {},
   "outputs": [
    {
     "name": "stdout",
     "output_type": "stream",
     "text": [
      "True\n"
     ]
    }
   ],
   "source": [
    "a= s.issuperset(b)\n",
    "print(a)"
   ]
  },
  {
   "cell_type": "code",
   "execution_count": 115,
   "metadata": {},
   "outputs": [
    {
     "name": "stdout",
     "output_type": "stream",
     "text": [
      "[1, 2, 3, 4, 5, 6, 5, 4, 3, 2, 1, 0]\n"
     ]
    }
   ],
   "source": [
    "l =[1,2,3,4,5,6,5,4,3,2,1,0]\n",
    "print(l)\n"
   ]
  },
  {
   "cell_type": "code",
   "execution_count": 116,
   "metadata": {},
   "outputs": [
    {
     "name": "stdout",
     "output_type": "stream",
     "text": [
      "{0, 1, 2, 3, 4, 5, 6}\n"
     ]
    }
   ],
   "source": [
    "a= set(l)\n",
    "print(a)"
   ]
  },
  {
   "cell_type": "code",
   "execution_count": 117,
   "metadata": {},
   "outputs": [
    {
     "data": {
      "text/plain": [
       "[0, 1, 2, 3, 4, 5, 6]"
      ]
     },
     "execution_count": 117,
     "metadata": {},
     "output_type": "execute_result"
    }
   ],
   "source": [
    "list(a)"
   ]
  },
  {
   "cell_type": "code",
   "execution_count": 122,
   "metadata": {},
   "outputs": [
    {
     "name": "stdout",
     "output_type": "stream",
     "text": [
      "{'h', 'l', 'r', 't', 'o', 'e'}\n"
     ]
    }
   ],
   "source": [
    "word = \"hellothere\"\n",
    "a = set(word)\n",
    "print(a)\n",
    "\n"
   ]
  },
  {
   "cell_type": "code",
   "execution_count": 129,
   "metadata": {},
   "outputs": [
    {
     "name": "stdout",
     "output_type": "stream",
     "text": [
      "A B C D E F G H I J K L M N O P Q R S T U V W X Y Z [ \\ ] ^ _ ` a b c d e f g h i j k l m n o p q r s t u v w x y z { | } ~       ",
      "                             ¡ ¢ £ ¤ ¥ ¦ § ¨ © ª « ¬ ­ ® ¯ ° ± ² ³ ´ µ ¶ · ¸ ¹ º » ¼ ½ ¾ ¿ À Á Â Ã Ä Å Æ Ç "
     ]
    }
   ],
   "source": [
    "for i in range(65,200):\n",
    "    print(chr(i),end=\" \")"
   ]
  },
  {
   "cell_type": "code",
   "execution_count": 130,
   "metadata": {},
   "outputs": [
    {
     "name": "stdout",
     "output_type": "stream",
     "text": [
      "\u0000 \u0001 \u0002 \u0003 \u0004 \u0005 \u0006 \u0007 \b \t \n",
      " \u000b",
      " \f",
      " \r",
      " \u000e \u000f \u0010 \u0011 \u0012 \u0013 \u0014 \u0015 \u0016 \u0017 \u0018 \u0019 \u001a \u001b \u001c",
      " \u001d",
      " \u001e",
      " \u001f   ! \" # $ % & ' ( ) * + , - . / 0 1 2 3 4 5 6 7 8 9 : ; < = > ? @ A B C D E F G H I J K L M N O P Q R S T U V W X Y Z [ \\ ] ^ _ ` a b c d e f g h i j k l m n o p q r s t u v w x y z { | } ~       ",
      "                             ¡ ¢ £ ¤ ¥ ¦ § ¨ © ª « ¬ ­ ® ¯ ° ± ² ³ ´ µ ¶ · ¸ ¹ º » ¼ ½ ¾ ¿ À Á Â Ã Ä Å Æ Ç È É Ê Ë Ì Í Î Ï Ð Ñ Ò Ó Ô Õ Ö × Ø Ù Ú Û Ü Ý Þ ß à á â ã ä å æ ç è é ê ë ì í î ï ð ñ ò ó ô õ ö ÷ ø ù ú û ü ý þ ÿ Ā ā Ă ă Ą ą Ć ć Ĉ ĉ Ċ ċ Č č Ď ď Đ đ Ē ē Ĕ ĕ Ė ė Ę ę Ě ě Ĝ ĝ Ğ ğ Ġ ġ Ģ ģ Ĥ ĥ Ħ ħ Ĩ ĩ Ī ī Ĭ ĭ Į į İ ı Ĳ ĳ Ĵ ĵ Ķ ķ ĸ Ĺ ĺ Ļ ļ Ľ ľ Ŀ ŀ Ł ł Ń ń Ņ ņ Ň ň ŉ Ŋ ŋ Ō ō Ŏ ŏ Ő ő Œ œ Ŕ ŕ Ŗ ŗ Ř ř Ś ś Ŝ ŝ Ş ş Š š Ţ ţ Ť ť Ŧ ŧ Ũ ũ Ū ū Ŭ ŭ Ů ů Ű ű Ų ų Ŵ ŵ Ŷ ŷ Ÿ Ź ź Ż ż Ž ž ſ ƀ Ɓ Ƃ ƃ Ƅ ƅ Ɔ Ƈ ƈ Ɖ Ɗ Ƌ ƌ ƍ Ǝ Ə Ɛ Ƒ ƒ Ɠ Ɣ ƕ Ɩ Ɨ Ƙ ƙ ƚ ƛ Ɯ Ɲ ƞ Ɵ Ơ ơ Ƣ ƣ Ƥ ƥ Ʀ Ƨ ƨ Ʃ ƪ ƫ Ƭ ƭ Ʈ Ư ư Ʊ Ʋ Ƴ ƴ Ƶ ƶ Ʒ Ƹ ƹ ƺ ƻ Ƽ ƽ ƾ ƿ ǀ ǁ ǂ ǃ Ǆ ǅ ǆ Ǉ ǈ ǉ Ǌ ǋ ǌ Ǎ ǎ Ǐ ǐ Ǒ ǒ Ǔ ǔ Ǖ ǖ Ǘ ǘ Ǚ ǚ Ǜ ǜ ǝ Ǟ ǟ Ǡ ǡ Ǣ ǣ Ǥ ǥ Ǧ ǧ Ǩ ǩ Ǫ ǫ Ǭ ǭ Ǯ ǯ ǰ Ǳ ǲ ǳ Ǵ ǵ Ƕ Ƿ Ǹ ǹ Ǻ ǻ Ǽ ǽ Ǿ ǿ Ȁ ȁ Ȃ ȃ Ȅ ȅ Ȇ ȇ Ȉ ȉ Ȋ ȋ Ȍ ȍ Ȏ ȏ Ȑ ȑ Ȓ ȓ Ȕ ȕ Ȗ ȗ Ș ș Ț ț Ȝ ȝ Ȟ ȟ Ƞ ȡ Ȣ ȣ Ȥ ȥ Ȧ ȧ Ȩ ȩ Ȫ ȫ Ȭ ȭ Ȯ ȯ Ȱ ȱ Ȳ ȳ ȴ ȵ ȶ ȷ ȸ ȹ Ⱥ Ȼ ȼ Ƚ Ⱦ ȿ ɀ Ɂ ɂ Ƀ Ʉ Ʌ Ɇ ɇ Ɉ ɉ Ɋ ɋ Ɍ ɍ Ɏ ɏ ɐ ɑ ɒ ɓ ɔ ɕ ɖ ɗ ɘ ə ɚ ɛ ɜ ɝ ɞ ɟ ɠ ɡ ɢ ɣ ɤ ɥ ɦ ɧ ɨ ɩ ɪ ɫ ɬ ɭ ɮ ɯ ɰ ɱ ɲ ɳ ɴ ɵ ɶ ɷ ɸ ɹ ɺ ɻ ɼ ɽ ɾ ɿ ʀ ʁ ʂ ʃ ʄ ʅ ʆ ʇ ʈ ʉ ʊ ʋ ʌ ʍ ʎ ʏ ʐ ʑ ʒ ʓ ʔ ʕ ʖ ʗ ʘ ʙ ʚ ʛ ʜ ʝ ʞ ʟ ʠ ʡ ʢ ʣ ʤ ʥ ʦ ʧ ʨ ʩ ʪ ʫ ʬ ʭ ʮ ʯ ʰ ʱ ʲ ʳ ʴ ʵ ʶ ʷ ʸ ʹ ʺ ʻ ʼ ʽ ʾ ʿ ˀ ˁ ˂ ˃ ˄ ˅ ˆ ˇ ˈ ˉ ˊ ˋ ˌ ˍ ˎ ˏ ː ˑ ˒ ˓ ˔ ˕ ˖ ˗ ˘ ˙ ˚ ˛ ˜ ˝ ˞ ˟ ˠ ˡ ˢ ˣ ˤ ˥ ˦ ˧ ˨ ˩ ˪ ˫ ˬ ˭ ˮ ˯ ˰ ˱ ˲ ˳ ˴ ˵ ˶ ˷ ˸ ˹ ˺ ˻ ˼ ˽ ˾ ˿ ̀ ́ ̂ ̃ ̄ ̅ ̆ ̇ ̈ ̉ ̊ ̋ ̌ ̍ ̎ ̏ ̐ ̑ ̒ ̓ ̔ ̕ ̖ ̗ ̘ ̙ ̚ ̛ ̜ ̝ ̞ ̟ ̠ ̡ ̢ ̣ ̤ ̥ ̦ ̧ ̨ ̩ ̪ ̫ ̬ ̭ ̮ ̯ ̰ ̱ ̲ ̳ ̴ ̵ ̶ ̷ ̸ ̹ ̺ ̻ ̼ ̽ ̾ ̿ ̀ ́ ͂ ̓ ̈́ ͅ ͆ ͇ ͈ ͉ ͊ ͋ ͌ ͍ ͎ ͏ ͐ ͑ ͒ ͓ ͔ ͕ ͖ ͗ ͘ ͙ ͚ ͛ ͜ ͝ ͞ ͟ ͠ ͡ ͢ ͣ ͤ ͥ ͦ ͧ ͨ ͩ ͪ ͫ ͬ ͭ ͮ ͯ Ͱ ͱ Ͳ ͳ ʹ ͵ Ͷ ͷ ͸ ͹ ͺ ͻ ͼ ͽ ; Ϳ ΀ ΁ ΂ ΃ ΄ ΅ Ά · Έ Ή Ί ΋ Ό ΍ Ύ Ώ ΐ Α Β Γ Δ Ε Ζ Η Θ Ι Κ Λ Μ Ν Ξ Ο Π Ρ ΢ Σ Τ Υ Φ Χ Ψ Ω Ϊ Ϋ ά έ ή ί ΰ α β γ δ ε ζ η θ ι κ λ μ ν ξ ο π ρ ς σ τ υ φ χ ψ ω ϊ ϋ ό ύ ώ Ϗ ϐ ϑ ϒ ϓ ϔ ϕ ϖ ϗ Ϙ ϙ Ϛ ϛ Ϝ ϝ Ϟ ϟ Ϡ ϡ Ϣ ϣ Ϥ ϥ Ϧ ϧ\n"
     ]
    }
   ],
   "source": [
    "print(\" \".join([chr(i) for i in range(1000)]))"
   ]
  },
  {
   "cell_type": "code",
   "execution_count": 131,
   "metadata": {},
   "outputs": [
    {
     "name": "stdout",
     "output_type": "stream",
     "text": [
      "[2, 43, 74, 122, 322, 354, 666]\n"
     ]
    }
   ],
   "source": [
    "l =[122,2,322,43,354,666,74]\n",
    "\n",
    "m = sorted(l)\n",
    "print(m)"
   ]
  },
  {
   "cell_type": "code",
   "execution_count": 134,
   "metadata": {},
   "outputs": [
    {
     "name": "stdout",
     "output_type": "stream",
     "text": [
      "[2, 43, 74, 122, 322, 354, 666]\n"
     ]
    }
   ],
   "source": [
    "l =[122,2,322,43,354,666,74]\n",
    "\n",
    "l.sort()\n",
    "print(l)"
   ]
  },
  {
   "cell_type": "code",
   "execution_count": 139,
   "metadata": {},
   "outputs": [
    {
     "name": "stdout",
     "output_type": "stream",
     "text": [
      "enter the number : 7\n",
      "b\n"
     ]
    }
   ],
   "source": [
    "y=eval(input(\"enter the number : \"))\n",
    "x=\"\"\n",
    "x=\"a\" if y==4 else 'b'\n",
    "\n",
    "print(x)\n",
    "\n"
   ]
  },
  {
   "cell_type": "code",
   "execution_count": 142,
   "metadata": {},
   "outputs": [
    {
     "name": "stdout",
     "output_type": "stream",
     "text": [
      "He scored 66 points.\n"
     ]
    }
   ],
   "source": [
    "score = 66\n",
    "\n",
    "print('He scored ', score, ' point', 's.' if score>1 else '.', sep='')"
   ]
  },
  {
   "cell_type": "code",
   "execution_count": 146,
   "metadata": {},
   "outputs": [
    {
     "name": "stdout",
     "output_type": "stream",
     "text": [
      "enter the value inside score : 23647\n",
      "He scored 23647 points\n"
     ]
    }
   ],
   "source": [
    "score =eval(input(\"enter the value inside score : \"))\n",
    "\n",
    "if score>1:\n",
    "    print(\"He scored\",score,\"points\")\n",
    "else:\n",
    "    print(\"He scored\",score,\"point\")\n"
   ]
  },
  {
   "cell_type": "code",
   "execution_count": null,
   "metadata": {},
   "outputs": [],
   "source": []
  },
  {
   "cell_type": "code",
   "execution_count": null,
   "metadata": {},
   "outputs": [],
   "source": []
  },
  {
   "cell_type": "code",
   "execution_count": null,
   "metadata": {},
   "outputs": [],
   "source": []
  },
  {
   "cell_type": "code",
   "execution_count": null,
   "metadata": {},
   "outputs": [],
   "source": []
  },
  {
   "cell_type": "code",
   "execution_count": null,
   "metadata": {},
   "outputs": [],
   "source": []
  },
  {
   "cell_type": "code",
   "execution_count": null,
   "metadata": {},
   "outputs": [],
   "source": []
  },
  {
   "cell_type": "code",
   "execution_count": null,
   "metadata": {},
   "outputs": [],
   "source": []
  },
  {
   "cell_type": "code",
   "execution_count": null,
   "metadata": {},
   "outputs": [],
   "source": []
  },
  {
   "cell_type": "code",
   "execution_count": null,
   "metadata": {},
   "outputs": [],
   "source": []
  },
  {
   "cell_type": "code",
   "execution_count": null,
   "metadata": {},
   "outputs": [],
   "source": []
  },
  {
   "cell_type": "code",
   "execution_count": null,
   "metadata": {},
   "outputs": [],
   "source": []
  },
  {
   "cell_type": "code",
   "execution_count": null,
   "metadata": {},
   "outputs": [],
   "source": []
  },
  {
   "cell_type": "code",
   "execution_count": null,
   "metadata": {},
   "outputs": [],
   "source": []
  },
  {
   "cell_type": "code",
   "execution_count": null,
   "metadata": {},
   "outputs": [],
   "source": []
  },
  {
   "cell_type": "code",
   "execution_count": null,
   "metadata": {},
   "outputs": [],
   "source": []
  },
  {
   "cell_type": "code",
   "execution_count": null,
   "metadata": {},
   "outputs": [],
   "source": []
  },
  {
   "cell_type": "code",
   "execution_count": null,
   "metadata": {},
   "outputs": [],
   "source": []
  },
  {
   "cell_type": "code",
   "execution_count": null,
   "metadata": {},
   "outputs": [],
   "source": []
  },
  {
   "cell_type": "code",
   "execution_count": null,
   "metadata": {},
   "outputs": [],
   "source": []
  },
  {
   "cell_type": "code",
   "execution_count": null,
   "metadata": {},
   "outputs": [],
   "source": []
  },
  {
   "cell_type": "code",
   "execution_count": null,
   "metadata": {},
   "outputs": [],
   "source": []
  },
  {
   "cell_type": "code",
   "execution_count": null,
   "metadata": {},
   "outputs": [],
   "source": []
  },
  {
   "cell_type": "code",
   "execution_count": null,
   "metadata": {},
   "outputs": [],
   "source": []
  },
  {
   "cell_type": "code",
   "execution_count": null,
   "metadata": {},
   "outputs": [],
   "source": []
  },
  {
   "cell_type": "code",
   "execution_count": null,
   "metadata": {},
   "outputs": [],
   "source": []
  },
  {
   "cell_type": "code",
   "execution_count": null,
   "metadata": {},
   "outputs": [],
   "source": []
  },
  {
   "cell_type": "code",
   "execution_count": null,
   "metadata": {},
   "outputs": [],
   "source": []
  },
  {
   "cell_type": "code",
   "execution_count": null,
   "metadata": {},
   "outputs": [],
   "source": []
  },
  {
   "cell_type": "code",
   "execution_count": null,
   "metadata": {},
   "outputs": [],
   "source": []
  },
  {
   "cell_type": "code",
   "execution_count": null,
   "metadata": {},
   "outputs": [],
   "source": []
  },
  {
   "cell_type": "code",
   "execution_count": null,
   "metadata": {},
   "outputs": [],
   "source": []
  },
  {
   "cell_type": "code",
   "execution_count": null,
   "metadata": {},
   "outputs": [],
   "source": []
  },
  {
   "cell_type": "code",
   "execution_count": null,
   "metadata": {},
   "outputs": [],
   "source": []
  },
  {
   "cell_type": "code",
   "execution_count": null,
   "metadata": {},
   "outputs": [],
   "source": []
  },
  {
   "cell_type": "code",
   "execution_count": null,
   "metadata": {},
   "outputs": [],
   "source": []
  },
  {
   "cell_type": "code",
   "execution_count": null,
   "metadata": {},
   "outputs": [],
   "source": []
  },
  {
   "cell_type": "code",
   "execution_count": null,
   "metadata": {},
   "outputs": [],
   "source": []
  },
  {
   "cell_type": "code",
   "execution_count": null,
   "metadata": {},
   "outputs": [],
   "source": []
  },
  {
   "cell_type": "code",
   "execution_count": null,
   "metadata": {},
   "outputs": [],
   "source": []
  },
  {
   "cell_type": "code",
   "execution_count": null,
   "metadata": {},
   "outputs": [],
   "source": []
  },
  {
   "cell_type": "code",
   "execution_count": null,
   "metadata": {},
   "outputs": [],
   "source": []
  },
  {
   "cell_type": "code",
   "execution_count": null,
   "metadata": {},
   "outputs": [],
   "source": []
  },
  {
   "cell_type": "code",
   "execution_count": null,
   "metadata": {},
   "outputs": [],
   "source": []
  },
  {
   "cell_type": "code",
   "execution_count": null,
   "metadata": {},
   "outputs": [],
   "source": []
  },
  {
   "cell_type": "code",
   "execution_count": null,
   "metadata": {},
   "outputs": [],
   "source": []
  },
  {
   "cell_type": "code",
   "execution_count": null,
   "metadata": {},
   "outputs": [],
   "source": []
  },
  {
   "cell_type": "code",
   "execution_count": null,
   "metadata": {},
   "outputs": [],
   "source": []
  },
  {
   "cell_type": "code",
   "execution_count": null,
   "metadata": {},
   "outputs": [],
   "source": []
  },
  {
   "cell_type": "code",
   "execution_count": null,
   "metadata": {},
   "outputs": [],
   "source": []
  },
  {
   "cell_type": "code",
   "execution_count": null,
   "metadata": {},
   "outputs": [],
   "source": []
  },
  {
   "cell_type": "code",
   "execution_count": null,
   "metadata": {},
   "outputs": [],
   "source": []
  },
  {
   "cell_type": "code",
   "execution_count": null,
   "metadata": {},
   "outputs": [],
   "source": []
  },
  {
   "cell_type": "code",
   "execution_count": null,
   "metadata": {},
   "outputs": [],
   "source": []
  },
  {
   "cell_type": "code",
   "execution_count": null,
   "metadata": {},
   "outputs": [],
   "source": []
  },
  {
   "cell_type": "code",
   "execution_count": null,
   "metadata": {},
   "outputs": [],
   "source": []
  },
  {
   "cell_type": "code",
   "execution_count": null,
   "metadata": {},
   "outputs": [],
   "source": []
  },
  {
   "cell_type": "code",
   "execution_count": null,
   "metadata": {},
   "outputs": [],
   "source": []
  },
  {
   "cell_type": "code",
   "execution_count": null,
   "metadata": {},
   "outputs": [],
   "source": []
  },
  {
   "cell_type": "code",
   "execution_count": null,
   "metadata": {},
   "outputs": [],
   "source": []
  },
  {
   "cell_type": "code",
   "execution_count": null,
   "metadata": {},
   "outputs": [],
   "source": []
  },
  {
   "cell_type": "code",
   "execution_count": null,
   "metadata": {},
   "outputs": [],
   "source": []
  },
  {
   "cell_type": "code",
   "execution_count": null,
   "metadata": {},
   "outputs": [],
   "source": []
  },
  {
   "cell_type": "code",
   "execution_count": null,
   "metadata": {},
   "outputs": [],
   "source": []
  },
  {
   "cell_type": "code",
   "execution_count": null,
   "metadata": {},
   "outputs": [],
   "source": []
  },
  {
   "cell_type": "code",
   "execution_count": null,
   "metadata": {},
   "outputs": [],
   "source": []
  },
  {
   "cell_type": "code",
   "execution_count": null,
   "metadata": {},
   "outputs": [],
   "source": []
  },
  {
   "cell_type": "code",
   "execution_count": null,
   "metadata": {},
   "outputs": [],
   "source": []
  },
  {
   "cell_type": "code",
   "execution_count": null,
   "metadata": {},
   "outputs": [],
   "source": []
  },
  {
   "cell_type": "code",
   "execution_count": null,
   "metadata": {},
   "outputs": [],
   "source": []
  },
  {
   "cell_type": "code",
   "execution_count": null,
   "metadata": {},
   "outputs": [],
   "source": []
  },
  {
   "cell_type": "code",
   "execution_count": null,
   "metadata": {},
   "outputs": [],
   "source": []
  }
 ],
 "metadata": {
  "kernelspec": {
   "display_name": "Python 3",
   "language": "python",
   "name": "python3"
  },
  "language_info": {
   "codemirror_mode": {
    "name": "ipython",
    "version": 3
   },
   "file_extension": ".py",
   "mimetype": "text/x-python",
   "name": "python",
   "nbconvert_exporter": "python",
   "pygments_lexer": "ipython3",
   "version": "3.7.4"
  }
 },
 "nbformat": 4,
 "nbformat_minor": 2
}

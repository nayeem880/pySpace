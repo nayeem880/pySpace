{
 "cells": [
  {
   "cell_type": "code",
   "execution_count": 11,
   "metadata": {},
   "outputs": [
    {
     "name": "stdout",
     "output_type": "stream",
     "text": [
      "enter a number : \n",
      "eut\n",
      "eut\n"
     ]
    }
   ],
   "source": [
    "a = input('enter a number : \\n')\n",
    "print(a)"
   ]
  },
  {
   "cell_type": "code",
   "execution_count": 12,
   "metadata": {},
   "outputs": [
    {
     "name": "stdout",
     "output_type": "stream",
     "text": [
      "Enter a number :  number : 743\n",
      "743\n"
     ]
    }
   ],
   "source": [
    "print(\"Enter a number : \",end=\" \")\n",
    "a =input(\"number : \")\n",
    "print(a)"
   ]
  },
  {
   "cell_type": "code",
   "execution_count": 2,
   "metadata": {},
   "outputs": [
    {
     "name": "stdout",
     "output_type": "stream",
     "text": [
      "Enter a number : \n",
      "\n",
      "enter something : 44\n",
      "44\n",
      "<class 'int'>\n"
     ]
    }
   ],
   "source": [
    "print(\"Enter a number : \\n\")\n",
    "a = eval(input('enter something : '))\n",
    "print(a)\n",
    "print(type(a))"
   ]
  },
  {
   "cell_type": "code",
   "execution_count": 5,
   "metadata": {},
   "outputs": [
    {
     "name": "stdout",
     "output_type": "stream",
     "text": [
      "Enter a number : enter something : 44\n",
      "44\n",
      "<class 'int'>\n"
     ]
    }
   ],
   "source": [
    "print(end=\"Enter a number : \")\n",
    "\n",
    "a = eval(input('enter something : '))\n",
    "print(a)\n",
    "print(type(a))"
   ]
  },
  {
   "cell_type": "code",
   "execution_count": 10,
   "metadata": {},
   "outputs": [
    {
     "name": "stdout",
     "output_type": "stream",
     "text": [
      "\n",
      "enter something : 444\n",
      "444\n",
      "<class 'int'>\n"
     ]
    }
   ],
   "source": [
    "print(end=\"\\n\")\n",
    "\n",
    "a = eval(input('enter something : '))\n",
    "print(a)\n",
    "print(type(a))"
   ]
  },
  {
   "cell_type": "code",
   "execution_count": 9,
   "metadata": {},
   "outputs": [
    {
     "name": "stdout",
     "output_type": "stream",
     "text": [
      "enter something : er\n"
     ]
    },
    {
     "ename": "NameError",
     "evalue": "name 'er' is not defined",
     "output_type": "error",
     "traceback": [
      "\u001b[1;31m---------------------------------------------------------------------------\u001b[0m",
      "\u001b[1;31mNameError\u001b[0m                                 Traceback (most recent call last)",
      "\u001b[1;32m<ipython-input-9-a6ba1b7a1373>\u001b[0m in \u001b[0;36m<module>\u001b[1;34m\u001b[0m\n\u001b[1;32m----> 1\u001b[1;33m \u001b[0ma\u001b[0m \u001b[1;33m=\u001b[0m \u001b[0meval\u001b[0m\u001b[1;33m(\u001b[0m\u001b[0minput\u001b[0m\u001b[1;33m(\u001b[0m\u001b[1;34m'enter something : '\u001b[0m\u001b[1;33m)\u001b[0m\u001b[1;33m)\u001b[0m\u001b[1;33m\u001b[0m\u001b[1;33m\u001b[0m\u001b[0m\n\u001b[0m\u001b[0;32m      2\u001b[0m \u001b[0mprint\u001b[0m\u001b[1;33m(\u001b[0m\u001b[0ma\u001b[0m\u001b[1;33m)\u001b[0m\u001b[1;33m\u001b[0m\u001b[1;33m\u001b[0m\u001b[0m\n\u001b[0;32m      3\u001b[0m \u001b[0mprint\u001b[0m\u001b[1;33m(\u001b[0m\u001b[0mtype\u001b[0m\u001b[1;33m(\u001b[0m\u001b[0ma\u001b[0m\u001b[1;33m)\u001b[0m\u001b[1;33m)\u001b[0m\u001b[1;33m\u001b[0m\u001b[1;33m\u001b[0m\u001b[0m\n",
      "\u001b[1;32m<string>\u001b[0m in \u001b[0;36m<module>\u001b[1;34m\u001b[0m\n",
      "\u001b[1;31mNameError\u001b[0m: name 'er' is not defined"
     ]
    }
   ],
   "source": [
    "a = eval(input('enter something : '))\n",
    "print(a)\n",
    "print(type(a))"
   ]
  },
  {
   "cell_type": "code",
   "execution_count": 1,
   "metadata": {},
   "outputs": [
    {
     "ename": "SyntaxError",
     "evalue": "invalid token (<ipython-input-1-2e0021b3218b>, line 1)",
     "output_type": "error",
     "traceback": [
      "\u001b[1;36m  File \u001b[1;32m\"<ipython-input-1-2e0021b3218b>\"\u001b[1;36m, line \u001b[1;32m1\u001b[0m\n\u001b[1;33m    month = 09\u001b[0m\n\u001b[1;37m             ^\u001b[0m\n\u001b[1;31mSyntaxError\u001b[0m\u001b[1;31m:\u001b[0m invalid token\n"
     ]
    }
   ],
   "source": [
    "month = 09 \n",
    "print(month)\n",
    "    "
   ]
  },
  {
   "cell_type": "code",
   "execution_count": 20,
   "metadata": {},
   "outputs": [],
   "source": [
    "### Chapter 2 Exercises"
   ]
  },
  {
   "cell_type": "code",
   "execution_count": 2,
   "metadata": {},
   "outputs": [
    {
     "name": "stdout",
     "output_type": "stream",
     "text": [
      "Enter your name : nayeem\n",
      "Hello and welcome to our program :  nayeem\n"
     ]
    }
   ],
   "source": [
    "# Exercise 2\n",
    "name = str(input(\"Enter your name : \"))\n",
    "print(\"Hello and welcome to our program : \",name)"
   ]
  },
  {
   "cell_type": "code",
   "execution_count": 5,
   "metadata": {},
   "outputs": [
    {
     "name": "stdout",
     "output_type": "stream",
     "text": [
      "Enter your rate : 45\n",
      "Enter your rate : 45\n",
      "Here is your wage dear : $2025\n"
     ]
    }
   ],
   "source": [
    "# Exercise 3\n",
    "hour = eval (input(\"Enter your rate : \"))\n",
    "r = eval(input(\"Enter your rate : \"))\n",
    "w = hour*r\n",
    "print(\"Here is your wage dear : $\",w,sep=\"\")"
   ]
  },
  {
   "cell_type": "code",
   "execution_count": 7,
   "metadata": {},
   "outputs": [
    {
     "name": "stdout",
     "output_type": "stream",
     "text": [
      "8\n",
      "8.5\n",
      "4.0\n",
      "11\n"
     ]
    }
   ],
   "source": [
    "# Exercise 4\n",
    "width =17\n",
    "height = 12.0\n",
    "print(width//2)\n",
    "print(width/2.0)\n",
    "print(height/3)\n",
    "print(1+2*5)"
   ]
  },
  {
   "cell_type": "code",
   "execution_count": 19,
   "metadata": {},
   "outputs": [
    {
     "name": "stdout",
     "output_type": "stream",
     "text": [
      "Enter a temperature in celcius : 100\n",
      "Temperature in fahrenheit is :  212.0\n"
     ]
    }
   ],
   "source": [
    "# Exercise 5\n",
    "i = eval(input(\"Enter a temperature in celcius : \"))\n",
    "temp = 9/5*i+32\n",
    "print(\"Temperature in fahrenheit is : \",temp)"
   ]
  },
  {
   "cell_type": "code",
   "execution_count": 15,
   "metadata": {},
   "outputs": [
    {
     "data": {
      "text/plain": [
       "True"
      ]
     },
     "execution_count": 15,
     "metadata": {},
     "output_type": "execute_result"
    }
   ],
   "source": [
    "17 and True \n",
    "# Any nonzero number is interpreted as “true.”\n"
   ]
  },
  {
   "cell_type": "code",
   "execution_count": 18,
   "metadata": {},
   "outputs": [
    {
     "name": "stdout",
     "output_type": "stream",
     "text": [
      "Bird\n",
      "Done\n"
     ]
    }
   ],
   "source": [
    "x=3\n",
    "if x<10:\n",
    "    print(\"Bird\")\n",
    "print(\"Done\")"
   ]
  },
  {
   "cell_type": "code",
   "execution_count": 23,
   "metadata": {},
   "outputs": [
    {
     "name": "stdout",
     "output_type": "stream",
     "text": [
      "Enter a number : 3\n",
      "3 is odd\n"
     ]
    }
   ],
   "source": [
    "i = eval(input(\"Enter a number : \"))\n",
    "\n",
    "if i%2 ==0:\n",
    "    print(i,\"is even\")\n",
    "else :\n",
    "    print(i,\"is odd\")"
   ]
  },
  {
   "cell_type": "code",
   "execution_count": 5,
   "metadata": {},
   "outputs": [
    {
     "name": "stdout",
     "output_type": "stream",
     "text": [
      "Enter a number : 44\n",
      "44 is positive double or triple digit number\n"
     ]
    }
   ],
   "source": [
    "i = eval(input(\"Enter a number : \"))\n",
    "if i>0 :\n",
    "    if i<10:\n",
    "        print(i,\"is positive single digit number\")\n",
    "    else:\n",
    "        print(i,\"is positive double or triple digit number\")\n",
    "else :\n",
    "    if i==0:\n",
    "        print(i,\"is a number equal to 0\")\n",
    "    else:\n",
    "        print(i,\"is a negative number\")"
   ]
  },
  {
   "cell_type": "code",
   "execution_count": 17,
   "metadata": {},
   "outputs": [
    {
     "name": "stdout",
     "output_type": "stream",
     "text": [
      "Enter Fahrenheit Temperature: 212\n",
      "100.0\n"
     ]
    }
   ],
   "source": [
    "inp = input('Enter Fahrenheit Temperature: ')\n",
    "try : \n",
    "    fahr = float(inp) \n",
    "    cel = (fahr - 32.0) * 5.0 / 9.0 \n",
    "    print(cel)\n",
    "except :\n",
    "    print(\"Please enter a number : \")\n"
   ]
  },
  {
   "cell_type": "code",
   "execution_count": null,
   "metadata": {},
   "outputs": [],
   "source": [
    "### Chapter 3 exercises"
   ]
  },
  {
   "cell_type": "code",
   "execution_count": 2,
   "metadata": {},
   "outputs": [
    {
     "name": "stdout",
     "output_type": "stream",
     "text": [
      "Enter your hourly rate : 10\n",
      "Enter your hours : 60\n",
      "700.0\n"
     ]
    }
   ],
   "source": [
    "# Exercise 1\n",
    "i = eval(input(\"Enter your hourly rate : \"))\n",
    "h =eval(input(\"Enter your hours : \"))\n",
    "h1 =0\n",
    "ii = 1.5*i\n",
    "if h>40:\n",
    "    h1=h-40\n",
    "    print(40*i+ (h1*ii))\n",
    "else :\n",
    "    print(h*i)"
   ]
  },
  {
   "cell_type": "code",
   "execution_count": 13,
   "metadata": {},
   "outputs": [
    {
     "name": "stdout",
     "output_type": "stream",
     "text": [
      "Enter your hourly rate : \"yyer\"\n",
      "Enter your hours : g\n",
      "Please enter numeric value\n",
      "please enter valid values\n"
     ]
    }
   ],
   "source": [
    "# Exercise 2\n",
    "try:\n",
    "    i = eval(input(\"Enter your hourly rate : \"))\n",
    "except:\n",
    "    print(\"Please enter numeric value !\")\n",
    "try:\n",
    "    h = eval(input(\"Enter your hours : \"))\n",
    "except:\n",
    "    print(\"Please enter numeric value\")\n",
    "try:\n",
    "    h1 =0\n",
    "    ii = 1.5*i\n",
    "    if h>40:\n",
    "        h1=h-40\n",
    "        print(40*i+ (h1*ii))\n",
    "    else :\n",
    "        print(h*i)\n",
    "except:\n",
    "    print(\"please enter valid values\")"
   ]
  },
  {
   "cell_type": "markdown",
   "metadata": {},
   "source": [
    "### Chapter 4 : Functions "
   ]
  },
  {
   "cell_type": "code",
   "execution_count": 14,
   "metadata": {},
   "outputs": [
    {
     "data": {
      "text/plain": [
       "'y'"
      ]
     },
     "execution_count": 14,
     "metadata": {},
     "output_type": "execute_result"
    }
   ],
   "source": [
    "max(\"yielding\")"
   ]
  },
  {
   "cell_type": "code",
   "execution_count": 15,
   "metadata": {},
   "outputs": [
    {
     "data": {
      "text/plain": [
       "'d'"
      ]
     },
     "execution_count": 15,
     "metadata": {},
     "output_type": "execute_result"
    }
   ],
   "source": [
    "min(\"yielding\")"
   ]
  },
  {
   "cell_type": "code",
   "execution_count": 16,
   "metadata": {},
   "outputs": [
    {
     "data": {
      "text/plain": [
       "-2"
      ]
     },
     "execution_count": 16,
     "metadata": {},
     "output_type": "execute_result"
    }
   ],
   "source": [
    "int(-2.33)"
   ]
  },
  {
   "cell_type": "code",
   "execution_count": 17,
   "metadata": {},
   "outputs": [
    {
     "name": "stdout",
     "output_type": "stream",
     "text": [
      "<module 'math' (built-in)>\n"
     ]
    }
   ],
   "source": [
    "import math\n",
    "print(math)"
   ]
  },
  {
   "cell_type": "code",
   "execution_count": 24,
   "metadata": {},
   "outputs": [
    {
     "name": "stdout",
     "output_type": "stream",
     "text": [
      "Enter single power : 45\n",
      "Enter noise power : 4\n",
      "0.644217687237691\n",
      "10.511525224473813\n"
     ]
    }
   ],
   "source": [
    "signal_power = eval (input(\"Enter single power : \"))\n",
    "noise_power= eval (input(\"Enter noise power : \"))\n",
    "ratio = signal_power / noise_power \n",
    "decibels = 10 * math.log10(ratio)\n",
    "radians = 0.7 \n",
    "height = math.sin(radians)\n",
    "print(height)\n",
    "print(decibels)"
   ]
  },
  {
   "cell_type": "code",
   "execution_count": 22,
   "metadata": {},
   "outputs": [
    {
     "data": {
      "text/plain": [
       "0.0"
      ]
     },
     "execution_count": 22,
     "metadata": {},
     "output_type": "execute_result"
    }
   ],
   "source": [
    "math.log10(1)"
   ]
  },
  {
   "cell_type": "code",
   "execution_count": 25,
   "metadata": {},
   "outputs": [
    {
     "data": {
      "text/plain": [
       "2.0"
      ]
     },
     "execution_count": 25,
     "metadata": {},
     "output_type": "execute_result"
    }
   ],
   "source": [
    "math.sqrt(4)"
   ]
  },
  {
   "cell_type": "code",
   "execution_count": 27,
   "metadata": {},
   "outputs": [
    {
     "name": "stdout",
     "output_type": "stream",
     "text": [
      "0.5285805657241793\n",
      "0.669019122030399\n",
      "0.9613222630197875\n",
      "0.25165826073970243\n",
      "0.07191609255750064\n"
     ]
    }
   ],
   "source": [
    "import random\n",
    "\n",
    "for i in range(5):\n",
    "    x = random.random()\n",
    "    print(x)"
   ]
  },
  {
   "cell_type": "code",
   "execution_count": 29,
   "metadata": {},
   "outputs": [
    {
     "name": "stdout",
     "output_type": "stream",
     "text": [
      "8 5 4 5 6 7 3 8 2 6 "
     ]
    }
   ],
   "source": [
    "from random import randint\n",
    "for i in range(10):\n",
    "    x = random.randint(2,8)\n",
    "    print(x,end=\" \")"
   ]
  },
  {
   "cell_type": "code",
   "execution_count": 38,
   "metadata": {},
   "outputs": [
    {
     "name": "stdout",
     "output_type": "stream",
     "text": [
      "4\n"
     ]
    }
   ],
   "source": [
    "t = [12,3,4,56,66]\n",
    "\n",
    "x = random.choice(t)\n",
    "print(x)"
   ]
  },
  {
   "cell_type": "code",
   "execution_count": 46,
   "metadata": {},
   "outputs": [
    {
     "name": "stdout",
     "output_type": "stream",
     "text": [
      "<class 'function'>\n"
     ]
    }
   ],
   "source": [
    "def print_lyrics():  \n",
    "    print(\"I'm a lumberjack, and I'm okay.\") \n",
    "    print('I sleep all night and I work all day.') \n",
    "    \n",
    "print(type(print_lyrics))"
   ]
  },
  {
   "cell_type": "code",
   "execution_count": 51,
   "metadata": {},
   "outputs": [
    {
     "name": "stdout",
     "output_type": "stream",
     "text": [
      "<class 'function'>\n"
     ]
    }
   ],
   "source": [
    "def repeat_lyrics():\n",
    "    print_lyrics() \n",
    "    print_lyrics()\n",
    "\n",
    "print(type(repeat_lyrics))"
   ]
  },
  {
   "cell_type": "code",
   "execution_count": 54,
   "metadata": {},
   "outputs": [
    {
     "name": "stdout",
     "output_type": "stream",
     "text": [
      "Spam Spam Spam Spam Spam \n",
      "Spam Spam Spam Spam Spam \n"
     ]
    }
   ],
   "source": [
    "def print2(n):\n",
    "    print(n)\n",
    "    print(n)\n",
    "    \n",
    "print2(\"Spam \"*5)"
   ]
  },
  {
   "cell_type": "code",
   "execution_count": 55,
   "metadata": {},
   "outputs": [
    {
     "name": "stdout",
     "output_type": "stream",
     "text": [
      "-1.0\n",
      "-1.0\n"
     ]
    }
   ],
   "source": [
    "import math\n",
    "\n",
    "print2(math.cos(math.pi))"
   ]
  },
  {
   "cell_type": "code",
   "execution_count": 60,
   "metadata": {},
   "outputs": [
    {
     "name": "stdout",
     "output_type": "stream",
     "text": [
      "0.7\n",
      "0.7648421872844885\n"
     ]
    }
   ],
   "source": [
    "print(radians)\n",
    "x = math.cos(radians)\n",
    "print(x)"
   ]
  },
  {
   "cell_type": "code",
   "execution_count": 61,
   "metadata": {},
   "outputs": [
    {
     "name": "stdout",
     "output_type": "stream",
     "text": [
      "ABC\n",
      "Zap\n",
      "ABC\n"
     ]
    }
   ],
   "source": [
    "def fred(): \n",
    "    print(\"Zap\")\n",
    "def jane(): \n",
    "    print(\"ABC\")\n",
    "jane()\n",
    "fred() \n",
    "jane()\n"
   ]
  },
  {
   "cell_type": "code",
   "execution_count": 63,
   "metadata": {},
   "outputs": [
    {
     "name": "stdout",
     "output_type": "stream",
     "text": [
      "550.0\n"
     ]
    }
   ],
   "source": [
    "def computepay(hour,rate):\n",
    "    if hour>40:\n",
    "        print((40*rate) + ((hour-40)*(1.5*rate)))\n",
    "    else :\n",
    "        print(hour*rate)\n",
    "        \n",
    "computepay(50,10)"
   ]
  },
  {
   "cell_type": "markdown",
   "metadata": {},
   "source": [
    "### Chapter 5 : iterations"
   ]
  },
  {
   "cell_type": "code",
   "execution_count": 2,
   "metadata": {},
   "outputs": [
    {
     "name": "stdout",
     "output_type": "stream",
     "text": [
      "10 9 8 7 6 5 4 3 2 1 \n",
      "blastoff\n"
     ]
    }
   ],
   "source": [
    "n = 10\n",
    "while n>0:\n",
    "    print(n,end =\" \")\n",
    "    n-=1\n",
    "    \n",
    "print(\"\\nblastoff\")"
   ]
  },
  {
   "cell_type": "code",
   "execution_count": null,
   "metadata": {},
   "outputs": [
    {
     "name": "stdout",
     "output_type": "stream",
     "text": [
      "Enter something to print : sh\n",
      "sh\n",
      "Enter something to print : js\n",
      "js\n",
      "Enter something to print : jeu\n",
      "jeu\n",
      "Enter something to print : hey\n",
      "hey\n",
      "Enter something to print : jew\n",
      "jew\n",
      "Enter something to print : christian\n",
      "christian\n",
      "Enter something to print : muslim\n",
      "muslim\n",
      "Enter something to print : sd\n",
      "sd\n",
      "Enter something to print : djs\n",
      "djs\n"
     ]
    }
   ],
   "source": [
    "while True:\n",
    "    line = input(\"Enter something to print : \")\n",
    "    if line == \"Done\":\n",
    "        break\n",
    "    else :\n",
    "        print(line)\n",
    "print(\"Done !\")"
   ]
  },
  {
   "cell_type": "code",
   "execution_count": null,
   "metadata": {},
   "outputs": [
    {
     "name": "stdout",
     "output_type": "stream",
     "text": [
      "Enter something to print : hey\n",
      "hey\n",
      "Enter something to print : hey\n",
      "hey\n",
      "Enter something to print : hey\n",
      "hey\n",
      "Enter something to print : sk\n",
      "sk\n",
      "Enter something to print : dm\n",
      "dm\n"
     ]
    }
   ],
   "source": [
    "while True:\n",
    "    line = input(\"Enter something to print : \")\n",
    "    if line == \"Done\":\n",
    "        break\n",
    "    print(line)\n",
    "print(\"Done !\")"
   ]
  },
  {
   "cell_type": "code",
   "execution_count": null,
   "metadata": {},
   "outputs": [
    {
     "name": "stdout",
     "output_type": "stream",
     "text": [
      "> hey\n",
      "hey\n",
      "> hey\n",
      "hey\n",
      "> ksjf\n",
      "ksjf\n",
      "> snjf\n",
      "snjf\n"
     ]
    }
   ],
   "source": [
    "while True: \n",
    "    line = input('> ')\n",
    "    if line == 'done':\n",
    "        break \n",
    "    print(line) \n",
    "print('Done!')\n"
   ]
  },
  {
   "cell_type": "code",
   "execution_count": 1,
   "metadata": {},
   "outputs": [
    {
     "name": "stdout",
     "output_type": "stream",
     "text": [
      "Enter something :dh\n",
      "dh\n",
      "Enter something :dh\n",
      "dh\n",
      "Enter something :ep\n",
      "ep\n",
      "Enter something :done\n",
      "Done!\n"
     ]
    }
   ],
   "source": [
    "while True: \n",
    "    line = input('Enter something :')\n",
    "    if line[0] == '#':\n",
    "        continue \n",
    "    if line == ('done' or \"Done\"): \n",
    "        break \n",
    "    else :\n",
    "        print(line) \n",
    "print('Done!')\n"
   ]
  },
  {
   "cell_type": "code",
   "execution_count": 7,
   "metadata": {},
   "outputs": [
    {
     "name": "stdout",
     "output_type": "stream",
     "text": [
      "8\n"
     ]
    }
   ],
   "source": [
    "small=None\n",
    "for i in [123,22,33,44,55,8,77]:\n",
    "    m = i\n",
    "    if small ==None or m<small:\n",
    "        small = m\n",
    "        \n",
    "print(small)"
   ]
  },
  {
   "cell_type": "code",
   "execution_count": 9,
   "metadata": {},
   "outputs": [
    {
     "name": "stdout",
     "output_type": "stream",
     "text": [
      "Enter a list 22,33,44,55,6,77,1,2\n",
      "77\n",
      "1\n"
     ]
    }
   ],
   "source": [
    "i=[]\n",
    "i = eval(input(\"Enter a list \"))\n",
    "print(max(i))\n",
    "print(min(i))"
   ]
  },
  {
   "cell_type": "code",
   "execution_count": 5,
   "metadata": {},
   "outputs": [
    {
     "name": "stdout",
     "output_type": "stream",
     "text": [
      "Enter number :do\n",
      "type Done to close the program : \n",
      "Enter number :done\n",
      "Done !\n",
      "0\n",
      "0\n",
      "division by zero is not valid\n"
     ]
    }
   ],
   "source": [
    "count =0\n",
    "total = 0\n",
    "average = 0\n",
    "while True:\n",
    "    i = str(input(\"Enter number :\"))\n",
    "    if i == \"#\":\n",
    "        continue\n",
    "    if i == \"Done\" or i==\"done\":\n",
    "        break\n",
    "    try:\n",
    "        total =total+int(i)\n",
    "        count =count+1\n",
    "    except:\n",
    "        print(\"type Done to close the program : \")\n",
    "        continue\n",
    "print(\"Done !\")\n",
    "try:\n",
    "    \n",
    "    print(count)\n",
    "    print(total)\n",
    "    print(total/count)\n",
    "except:\n",
    "    print(\"division by zero is not valid\")"
   ]
  },
  {
   "cell_type": "code",
   "execution_count": 4,
   "metadata": {},
   "outputs": [
    {
     "name": "stdout",
     "output_type": "stream",
     "text": [
      "enter : done\n",
      "Done yo\n"
     ]
    }
   ],
   "source": [
    "i = str(input('enter : '))\n",
    "\n",
    "if i ==\"Done\" or i== 'done':\n",
    "    print(\"Done yo\")\n",
    "    "
   ]
  },
  {
   "cell_type": "markdown",
   "metadata": {},
   "source": [
    "### Chapter 6 : Strings "
   ]
  },
  {
   "cell_type": "code",
   "execution_count": 10,
   "metadata": {},
   "outputs": [
    {
     "name": "stdout",
     "output_type": "stream",
     "text": [
      "llo tjere \n",
      "h e l l o   t j e r e   o   a m   f o d i n d   h r g s \n",
      "28\n"
     ]
    }
   ],
   "source": [
    "s = \"hello tjere o am fodind hrgs\"\n",
    "count = 0\n",
    "print(s[2:12])\n",
    "for i in s :\n",
    "    print(i,end=\" \")\n",
    "    count+=1\n",
    "print(\"\\n\",count,sep=\"\")"
   ]
  },
  {
   "cell_type": "code",
   "execution_count": 12,
   "metadata": {},
   "outputs": [
    {
     "data": {
      "text/plain": [
       "True"
      ]
     },
     "execution_count": 12,
     "metadata": {},
     "output_type": "execute_result"
    }
   ],
   "source": [
    "\"llo\" in s"
   ]
  },
  {
   "cell_type": "code",
   "execution_count": 14,
   "metadata": {},
   "outputs": [
    {
     "name": "stdout",
     "output_type": "stream",
     "text": [
      "All is not equal\n"
     ]
    }
   ],
   "source": [
    "if s == \" word\":\n",
    "    print(\"all is equal and same\")\n",
    "else :\n",
    "    print('All is not equal')"
   ]
  },
  {
   "cell_type": "code",
   "execution_count": 20,
   "metadata": {},
   "outputs": [
    {
     "name": "stdout",
     "output_type": "stream",
     "text": [
      "Hello comes after a\n"
     ]
    }
   ],
   "source": [
    "a = \"As\"\n",
    "x = \"hello\"\n",
    "if a<x:\n",
    "    print(\"Hello comes after a\")\n",
    "    \n",
    "elif a>x:\n",
    "    print(\"Hello comes before a\")"
   ]
  },
  {
   "cell_type": "code",
   "execution_count": 22,
   "metadata": {},
   "outputs": [
    {
     "name": "stdout",
     "output_type": "stream",
     "text": [
      "Your word,a, comes before banana.\n"
     ]
    }
   ],
   "source": [
    "#The comparison operators work on strings. To see if two strings are equal:\n",
    "word =\"a\"\n",
    "\n",
    "if word == 'banana':\n",
    "    print('All right, bananas.')\n",
    "#Other comparison operations are useful for putting words in alphabetical order:\n",
    "if word < 'banana':\n",
    "    print('Your word,' + word + ', comes before banana.') \n",
    "elif word > 'banana':\n",
    "    print('Your word,' + word + ', comes after banana.') \n",
    "else: print('All right, bananas.')\n",
    "    \n",
    "#Python does not handle uppercase and lowercase letters the same way that people do.\n",
    "#All the uppercase letters come before all the lowercase letters, so:\n"
   ]
  },
  {
   "cell_type": "code",
   "execution_count": 23,
   "metadata": {
    "scrolled": true
   },
   "outputs": [
    {
     "data": {
      "text/plain": [
       "['__add__',\n",
       " '__class__',\n",
       " '__contains__',\n",
       " '__delattr__',\n",
       " '__dir__',\n",
       " '__doc__',\n",
       " '__eq__',\n",
       " '__format__',\n",
       " '__ge__',\n",
       " '__getattribute__',\n",
       " '__getitem__',\n",
       " '__getnewargs__',\n",
       " '__gt__',\n",
       " '__hash__',\n",
       " '__init__',\n",
       " '__init_subclass__',\n",
       " '__iter__',\n",
       " '__le__',\n",
       " '__len__',\n",
       " '__lt__',\n",
       " '__mod__',\n",
       " '__mul__',\n",
       " '__ne__',\n",
       " '__new__',\n",
       " '__reduce__',\n",
       " '__reduce_ex__',\n",
       " '__repr__',\n",
       " '__rmod__',\n",
       " '__rmul__',\n",
       " '__setattr__',\n",
       " '__sizeof__',\n",
       " '__str__',\n",
       " '__subclasshook__',\n",
       " 'capitalize',\n",
       " 'casefold',\n",
       " 'center',\n",
       " 'count',\n",
       " 'encode',\n",
       " 'endswith',\n",
       " 'expandtabs',\n",
       " 'find',\n",
       " 'format',\n",
       " 'format_map',\n",
       " 'index',\n",
       " 'isalnum',\n",
       " 'isalpha',\n",
       " 'isascii',\n",
       " 'isdecimal',\n",
       " 'isdigit',\n",
       " 'isidentifier',\n",
       " 'islower',\n",
       " 'isnumeric',\n",
       " 'isprintable',\n",
       " 'isspace',\n",
       " 'istitle',\n",
       " 'isupper',\n",
       " 'join',\n",
       " 'ljust',\n",
       " 'lower',\n",
       " 'lstrip',\n",
       " 'maketrans',\n",
       " 'partition',\n",
       " 'replace',\n",
       " 'rfind',\n",
       " 'rindex',\n",
       " 'rjust',\n",
       " 'rpartition',\n",
       " 'rsplit',\n",
       " 'rstrip',\n",
       " 'split',\n",
       " 'splitlines',\n",
       " 'startswith',\n",
       " 'strip',\n",
       " 'swapcase',\n",
       " 'title',\n",
       " 'translate',\n",
       " 'upper',\n",
       " 'zfill']"
      ]
     },
     "execution_count": 23,
     "metadata": {},
     "output_type": "execute_result"
    }
   ],
   "source": [
    "dir(a)"
   ]
  },
  {
   "cell_type": "code",
   "execution_count": 28,
   "metadata": {},
   "outputs": [
    {
     "name": "stdout",
     "output_type": "stream",
     "text": [
      "Anana\n",
      "ANANA\n"
     ]
    }
   ],
   "source": [
    "word = \"anana\"\n",
    "print(word.capitalize())\n",
    "print(word.upper())"
   ]
  },
  {
   "cell_type": "code",
   "execution_count": 44,
   "metadata": {},
   "outputs": [
    {
     "name": "stdout",
     "output_type": "stream",
     "text": [
      "2\n"
     ]
    }
   ],
   "source": [
    "index = word.find(\"an\",2)\n",
    "print(index)\n",
    "#It can take as a second argument the index where it should start:"
   ]
  },
  {
   "cell_type": "code",
   "execution_count": 55,
   "metadata": {},
   "outputs": [
    {
     "name": "stdout",
     "output_type": "stream",
     "text": [
      "hello there i am doing great and going to the university \n",
      "hello there i am doing great and going to the university\n"
     ]
    }
   ],
   "source": [
    "a =\"hello there i am doing great and going to the university \"\n",
    "print(a)\n",
    "print(a.strip())"
   ]
  },
  {
   "cell_type": "code",
   "execution_count": 56,
   "metadata": {},
   "outputs": [
    {
     "data": {
      "text/plain": [
       "True"
      ]
     },
     "execution_count": 56,
     "metadata": {},
     "output_type": "execute_result"
    }
   ],
   "source": [
    "a.startswith(\"hello\")"
   ]
  },
  {
   "cell_type": "markdown",
   "metadata": {},
   "source": [
    "### Chapter 7 : Files IO"
   ]
  },
  {
   "cell_type": "code",
   "execution_count": 76,
   "metadata": {
    "scrolled": false
   },
   "outputs": [
    {
     "name": "stdout",
     "output_type": "stream",
     "text": [
      "1059\n"
     ]
    }
   ],
   "source": [
    "#name = 'G:\\GLMUN\\song\\2019HultPrizeTokyoRegionalSummit.mp4'\n",
    "\n",
    "name = \"a.txt\"\n",
    "f = open(name,encoding=\"utf8\")\n",
    "aa =f.read()\n",
    "print(len(aa))\n"
   ]
  },
  {
   "cell_type": "code",
   "execution_count": 80,
   "metadata": {},
   "outputs": [
    {
     "name": "stdout",
     "output_type": "stream",
     "text": [
      "3\n"
     ]
    }
   ],
   "source": [
    "f = open(\"a.txt\",encoding='utf8')\n",
    "count=0\n",
    "for line in f:\n",
    "    count +=1\n",
    "print(count)"
   ]
  },
  {
   "cell_type": "code",
   "execution_count": 75,
   "metadata": {},
   "outputs": [
    {
     "name": "stdout",
     "output_type": "stream",
     "text": [
      "Line Count: 3\n"
     ]
    }
   ],
   "source": [
    "fhand = open('a.txt',encoding='utf8')\n",
    "count = 0 \n",
    "for line in fhand: \n",
    "    count = count + 1 \n",
    "print('Line Count:', count)"
   ]
  },
  {
   "cell_type": "code",
   "execution_count": 89,
   "metadata": {},
   "outputs": [
    {
     "name": "stdout",
     "output_type": "stream",
     "text": [
      "We can use the ﬁle handle as the sequence in our for loop. \n",
      "Our for loop simply counts the number of lines in the ﬁle and prints them out. The rough translation of the for loop into English is, “for each line in the ﬁle represented by the ﬁle handle, add one to the count variable.”\n",
      "The reason that the open function does not read the entire ﬁle is that the ﬁle might be quite large with many gigabytes of data. The open statement takes the same amount of time regardless of the size of the ﬁle. The for loop actually causes the data to be read from the ﬁle.\n",
      "When the ﬁle is read using a for loop in this manner, Python takes care of splitting the data in the ﬁle into separate lines using the newline character. Python reads each line through the newline and includes the newline as the last character in the line variable for each iteration of the for loop.\n",
      "Because the for loop reads the data one line at a time, it can eﬃciently read and count the lines in very large ﬁles without running out of main memory to store the data. The above program can count the lines in any size ﬁle using very little memory since each line is read, counted, and then discarded.\n",
      "If you know the ﬁle is relatively small compared to the size of your main memory, you can read the whole ﬁle into one string using the read method on the ﬁle handle.\n",
      "\n"
     ]
    }
   ],
   "source": [
    "aa = open('info.txt',encoding='utf8')\n",
    "file = aa.read()\n",
    "print(file)"
   ]
  },
  {
   "cell_type": "code",
   "execution_count": 94,
   "metadata": {},
   "outputs": [
    {
     "data": {
      "text/plain": [
       "1330"
      ]
     },
     "execution_count": 94,
     "metadata": {},
     "output_type": "execute_result"
    }
   ],
   "source": [
    "len(file)\n"
   ]
  },
  {
   "cell_type": "code",
   "execution_count": 98,
   "metadata": {},
   "outputs": [
    {
     "name": "stdout",
     "output_type": "stream",
     "text": [
      "We can use the ﬁle handle as the sequence in our for loop. \n",
      "\n",
      "Our for loop simply counts the number of lines in the ﬁle and prints them out. The rough translation of the for loop into English is, “for each line in the ﬁle represented by the ﬁle handle, add one to the count variable.”\n",
      "\n",
      "The reason that the open function does not read the entire ﬁle is that the ﬁle might be quite large with many gigabytes of data. The open statement takes the same amount of time regardless of the size of the ﬁle. The for loop actually causes the data to be read from the ﬁle.\n",
      "\n",
      "When the ﬁle is read using a for loop in this manner, Python takes care of splitting the data in the ﬁle into separate lines using the newline character. Python reads each line through the newline and includes the newline as the last character in the line variable for each iteration of the for loop.\n",
      "\n",
      "Because the for loop reads the data one line at a time, it can eﬃciently read and count the lines in very large ﬁles without running out of main memory to store the data. The above program can count the lines in any size ﬁle using very little memory since each line is read, counted, and then discarded.\n",
      "\n",
      "If you know the ﬁle is relatively small compared to the size of your main memory, you can read the whole ﬁle into one string using the read method on the ﬁle handle.\n",
      "\n",
      "6\n"
     ]
    }
   ],
   "source": [
    "count= 0\n",
    "file = open(\"info.txt\",encoding='utf8')\n",
    "\n",
    "for i in file:\n",
    "    count+=1\n",
    "    print(i)\n",
    "print(count)\n"
   ]
  },
  {
   "cell_type": "code",
   "execution_count": 102,
   "metadata": {},
   "outputs": [
    {
     "name": "stdout",
     "output_type": "stream",
     "text": [
      "hello there i am doing great ''\n",
      "hello there i am doing great ''\n"
     ]
    }
   ],
   "source": [
    "line = \"hello there i am doing great ''\"\n",
    "print(line)\n",
    "print(line.rstrip())"
   ]
  },
  {
   "cell_type": "code",
   "execution_count": 108,
   "metadata": {},
   "outputs": [
    {
     "name": "stdout",
     "output_type": "stream",
     "text": [
      "Enter the file name: info.txt\n",
      "There were 6  lines in info.txt\n"
     ]
    }
   ],
   "source": [
    "fname = input('Enter the file name: ') \n",
    "try: \n",
    "    fhand = open(fname,encoding=\"utf8\") \n",
    "except:\n",
    "    print('File cannot be opened:', fname) \n",
    "    exit() \n",
    "count = 0 \n",
    "for line in fhand: \n",
    "    count = count + 1 \n",
    "print('There were', count, ' lines in', fname)\n"
   ]
  },
  {
   "cell_type": "code",
   "execution_count": null,
   "metadata": {},
   "outputs": [],
   "source": [
    "#If the ﬁle already exists, opening it in write mode clears\n",
    "#out the old data and starts fresh, so be careful!\n",
    "#If the ﬁle doesn’t exist, a new one is created"
   ]
  },
  {
   "cell_type": "code",
   "execution_count": 116,
   "metadata": {},
   "outputs": [],
   "source": [
    "a = open(\"i.txt\",\"w\")\n",
    "line = \"jdkshfljupeob.sjdgjlaksflkasfkaskfjla\"\n",
    "a.write(line)\n",
    "a.close()"
   ]
  },
  {
   "cell_type": "code",
   "execution_count": 119,
   "metadata": {},
   "outputs": [
    {
     "name": "stdout",
     "output_type": "stream",
     "text": [
      "jdkshfljupeob.sjdgjlaksflkasfkaskfjla\n"
     ]
    }
   ],
   "source": [
    "a= open('i.txt',encoding = \"utf8\")\n",
    "print(a.read())"
   ]
  },
  {
   "cell_type": "code",
   "execution_count": 122,
   "metadata": {},
   "outputs": [
    {
     "ename": "UnsupportedOperation",
     "evalue": "not writable",
     "output_type": "error",
     "traceback": [
      "\u001b[1;31m---------------------------------------------------------------------------\u001b[0m",
      "\u001b[1;31mUnsupportedOperation\u001b[0m                      Traceback (most recent call last)",
      "\u001b[1;32m<ipython-input-122-810e616f870a>\u001b[0m in \u001b[0;36m<module>\u001b[1;34m\u001b[0m\n\u001b[0;32m      1\u001b[0m \u001b[0ma\u001b[0m\u001b[1;33m=\u001b[0m \u001b[0mopen\u001b[0m\u001b[1;33m(\u001b[0m\u001b[1;34m'i.txt'\u001b[0m\u001b[1;33m,\u001b[0m\u001b[0mencoding\u001b[0m \u001b[1;33m=\u001b[0m \u001b[1;34m\"utf8\"\u001b[0m\u001b[1;33m)\u001b[0m\u001b[1;33m\u001b[0m\u001b[1;33m\u001b[0m\u001b[0m\n\u001b[0;32m      2\u001b[0m \u001b[0mline\u001b[0m \u001b[1;33m=\u001b[0m \u001b[1;34m\"jdkshfljupeobsfsjahfjjsfhsksjdgjlaksflkasfkaskfjla\"\u001b[0m\u001b[1;33m\u001b[0m\u001b[1;33m\u001b[0m\u001b[0m\n\u001b[1;32m----> 3\u001b[1;33m \u001b[0ma\u001b[0m\u001b[1;33m.\u001b[0m\u001b[0mwrite\u001b[0m\u001b[1;33m(\u001b[0m\u001b[0mline\u001b[0m\u001b[1;33m)\u001b[0m\u001b[1;33m\u001b[0m\u001b[1;33m\u001b[0m\u001b[0m\n\u001b[0m\u001b[0;32m      4\u001b[0m \u001b[0ma\u001b[0m\u001b[1;33m.\u001b[0m\u001b[0mclose\u001b[0m\u001b[1;33m(\u001b[0m\u001b[1;33m)\u001b[0m\u001b[1;33m\u001b[0m\u001b[1;33m\u001b[0m\u001b[0m\n",
      "\u001b[1;31mUnsupportedOperation\u001b[0m: not writable"
     ]
    }
   ],
   "source": [
    "a= open('i.txt',encoding = \"utf8\")\n",
    "line = \"jdkshfljupeobsfsjahfjjsfhsksjdgjlaksflkasfkaskfjla\"\n",
    "a.write(line)\n",
    "a.close()"
   ]
  },
  {
   "cell_type": "markdown",
   "metadata": {},
   "source": [
    "### Chapter 8 : Lists"
   ]
  },
  {
   "cell_type": "code",
   "execution_count": 123,
   "metadata": {},
   "outputs": [
    {
     "data": {
      "text/plain": [
       "[1, 2, 3, [44, 55, 66], []]"
      ]
     },
     "execution_count": 123,
     "metadata": {},
     "output_type": "execute_result"
    }
   ],
   "source": [
    "[1,2,3,[44,55,66],[]]"
   ]
  },
  {
   "cell_type": "code",
   "execution_count": 132,
   "metadata": {},
   "outputs": [
    {
     "name": "stdout",
     "output_type": "stream",
     "text": [
      "Enter something for the list : 22 3 4\n",
      "22 3 4\n"
     ]
    }
   ],
   "source": [
    "l =[]\n",
    "l = input(\"Enter something for the list : \")\n",
    "print(l)"
   ]
  },
  {
   "cell_type": "code",
   "execution_count": 136,
   "metadata": {},
   "outputs": [
    {
     "data": {
      "text/plain": [
       "' '"
      ]
     },
     "execution_count": 136,
     "metadata": {},
     "output_type": "execute_result"
    }
   ],
   "source": [
    "l[4]"
   ]
  },
  {
   "cell_type": "code",
   "execution_count": 138,
   "metadata": {},
   "outputs": [
    {
     "name": "stdout",
     "output_type": "stream",
     "text": [
      "[1, 2, 3, 4, 5, 77, 6, 55, 44]\n"
     ]
    }
   ],
   "source": [
    "t1 =[1,2,3,4,5]\n",
    "t2=[77,6,55,44]\n",
    "t1.extend(t2)\n",
    "print(t1)"
   ]
  },
  {
   "cell_type": "code",
   "execution_count": 139,
   "metadata": {},
   "outputs": [
    {
     "name": "stdout",
     "output_type": "stream",
     "text": [
      "[1, 2, 3, 4, 5, 77, 6, 55, 44, 'n', 'a', 'y', 'e', 'm']\n"
     ]
    }
   ],
   "source": [
    "t1.extend('nayem')\n",
    "print(t1)"
   ]
  },
  {
   "cell_type": "code",
   "execution_count": 141,
   "metadata": {},
   "outputs": [
    {
     "name": "stdout",
     "output_type": "stream",
     "text": [
      "e\n",
      "[1, 2, 3, 4, 5, 77, 6, 55, 44, 'n', 'a', 'y']\n"
     ]
    }
   ],
   "source": [
    "a= t1.pop()\n",
    "print(a)\n",
    "print(t1)"
   ]
  },
  {
   "cell_type": "code",
   "execution_count": 142,
   "metadata": {},
   "outputs": [
    {
     "name": "stdout",
     "output_type": "stream",
     "text": [
      "[1, 2, 3, 4, 77, 6, 55, 44, 'n', 'a', 'y']\n"
     ]
    }
   ],
   "source": [
    "t1.pop(4)\n",
    "print(t1)"
   ]
  },
  {
   "cell_type": "code",
   "execution_count": 143,
   "metadata": {},
   "outputs": [
    {
     "name": "stdout",
     "output_type": "stream",
     "text": [
      "[1, 2, 3, 4, 6, 55, 44, 'n', 'a', 'y']\n"
     ]
    }
   ],
   "source": [
    "del t1[4]\n",
    "print(t1)"
   ]
  },
  {
   "cell_type": "code",
   "execution_count": 144,
   "metadata": {},
   "outputs": [
    {
     "data": {
      "text/plain": [
       "10"
      ]
     },
     "execution_count": 144,
     "metadata": {},
     "output_type": "execute_result"
    }
   ],
   "source": [
    "len(t1)"
   ]
  },
  {
   "cell_type": "code",
   "execution_count": 149,
   "metadata": {},
   "outputs": [
    {
     "data": {
      "text/plain": [
       "335"
      ]
     },
     "execution_count": 149,
     "metadata": {},
     "output_type": "execute_result"
    }
   ],
   "source": [
    "l =[1,22,32,24,335,6,7,8]\n",
    "max(l)"
   ]
  },
  {
   "cell_type": "code",
   "execution_count": 147,
   "metadata": {},
   "outputs": [
    {
     "data": {
      "text/plain": [
       "1"
      ]
     },
     "execution_count": 147,
     "metadata": {},
     "output_type": "execute_result"
    }
   ],
   "source": [
    "min(l)"
   ]
  },
  {
   "cell_type": "code",
   "execution_count": 150,
   "metadata": {},
   "outputs": [
    {
     "data": {
      "text/plain": [
       "435"
      ]
     },
     "execution_count": 150,
     "metadata": {},
     "output_type": "execute_result"
    }
   ],
   "source": [
    "sum(l)"
   ]
  },
  {
   "cell_type": "code",
   "execution_count": 155,
   "metadata": {},
   "outputs": [
    {
     "name": "stdout",
     "output_type": "stream",
     "text": [
      "['jksadhfayfasbf', 'sjhf']\n"
     ]
    }
   ],
   "source": [
    "s = 'jksadhfayfasbf sjhf'\n",
    "print(list(s.split()))"
   ]
  },
  {
   "cell_type": "code",
   "execution_count": 164,
   "metadata": {},
   "outputs": [
    {
     "name": "stdout",
     "output_type": "stream",
     "text": [
      "['hello there', 'I am doing great', 'And i am curious', 'About your work', 'Can you tell', 'It a little bit?']\n",
      "['hello', 'there']\n",
      "['I', 'am', 'doing', 'great']\n",
      "['And', 'i', 'am', 'curious']\n",
      "['About', 'your', 'work']\n",
      "['Can', 'you', 'tell']\n",
      "['It', 'a', 'little', 'bit?']\n"
     ]
    }
   ],
   "source": [
    "s = \"hello there.I am doing great.And i am curious.About your work.Can you tell.It a little bit?\"\n",
    "\n",
    "delimiter=\".\"\n",
    "a= list(s.split(delimiter))\n",
    "print(a)\n",
    "\n",
    "for i in  a :\n",
    "    x = i.split()\n",
    "    print(x)"
   ]
  },
  {
   "cell_type": "code",
   "execution_count": 165,
   "metadata": {},
   "outputs": [
    {
     "name": "stdout",
     "output_type": "stream",
     "text": [
      "['hello there', 'I am doing great', 'And i am curious', 'About your work', 'Can you tell', 'It a little bit?']\n"
     ]
    }
   ],
   "source": [
    "print(a)"
   ]
  },
  {
   "cell_type": "code",
   "execution_count": 168,
   "metadata": {},
   "outputs": [
    {
     "data": {
      "text/plain": [
       "'hello there I am doing great And i am curious About your work Can you tell It a little bit?'"
      ]
     },
     "execution_count": 168,
     "metadata": {},
     "output_type": "execute_result"
    }
   ],
   "source": [
    "d= \" \"\n",
    "d.join(a)"
   ]
  },
  {
   "cell_type": "code",
   "execution_count": 174,
   "metadata": {},
   "outputs": [
    {
     "name": "stdout",
     "output_type": "stream",
     "text": [
      " hello there I am doing great And i am curious About your work Can you tell It a little bit? \n",
      " hello there I am doing great And i am curious About your work Can you tell It a little bit?\n"
     ]
    }
   ],
   "source": [
    "s = \" hello there I am doing great And i am curious About your work Can you tell It a little bit? \"\n",
    "print(s)\n",
    "print(s.rstrip())"
   ]
  },
  {
   "cell_type": "code",
   "execution_count": 180,
   "metadata": {},
   "outputs": [
    {
     "data": {
      "text/plain": [
       "False"
      ]
     },
     "execution_count": 180,
     "metadata": {},
     "output_type": "execute_result"
    }
   ],
   "source": [
    "a = [1, 2, 3] \n",
    "b = [1, 2, 3] \n",
    "a is b"
   ]
  },
  {
   "cell_type": "code",
   "execution_count": 181,
   "metadata": {},
   "outputs": [
    {
     "data": {
      "text/plain": [
       "True"
      ]
     },
     "execution_count": 181,
     "metadata": {},
     "output_type": "execute_result"
    }
   ],
   "source": [
    "s= 'sajdfk'\n",
    "b = 'sajdfk'\n",
    "s is b \n",
    "\n",
    "#Python only created one string object, and both a and b refer to it.\n",
    "#But when you create two lists, you get two objects:\n"
   ]
  },
  {
   "cell_type": "code",
   "execution_count": 183,
   "metadata": {},
   "outputs": [
    {
     "name": "stdout",
     "output_type": "stream",
     "text": [
      "[1, 2, 3]\n",
      "None\n",
      "[1, 2, 3, 3]\n"
     ]
    }
   ],
   "source": [
    "t1 = [1, 2]\n",
    "t2 = t1.append(3) \n",
    "print(t1) \n",
    "print(t2) \n",
    "t3 = t1 + [3] \n",
    "print(t3) "
   ]
  },
  {
   "cell_type": "code",
   "execution_count": 185,
   "metadata": {},
   "outputs": [
    {
     "name": "stdout",
     "output_type": "stream",
     "text": [
      "[2, 3, 4]\n"
     ]
    }
   ],
   "source": [
    "def n(m):\n",
    "    m = m[1:]\n",
    "    print(m)\n",
    "    \n",
    "s= [1,2,3,4]\n",
    "n(s)\n"
   ]
  },
  {
   "cell_type": "code",
   "execution_count": 187,
   "metadata": {},
   "outputs": [
    {
     "name": "stdout",
     "output_type": "stream",
     "text": [
      "100\n"
     ]
    }
   ],
   "source": [
    "counts = { 'chuck' : 1 , 'annie' : 42, 'jan': 100}\n",
    "print(counts.get('jan', 80)) "
   ]
  },
  {
   "cell_type": "code",
   "execution_count": null,
   "metadata": {},
   "outputs": [
    {
     "name": "stdout",
     "output_type": "stream",
     "text": [
      "Enter file name :a.txt\n",
      "{'In': 1, 'Section': 1, '12.1,': 1, 'we': 6, 'will': 4, 'learn': 1, 'how': 2, 'to': 6, 'read': 1, 'from': 2, 'a': 5, 'text': 6, 'ﬁle.': 1, 'For': 1, 'now,': 1, 'here’s': 1, 'line': 1, 'of': 6, 'code': 1, 'that': 2, 'reads': 1, 'the': 13, 'entire': 1, 'contents': 2, 'ﬁle': 1, 'containing': 1, 'Shakespeare’s': 1, 'Romeo': 1, 'and': 4, 'Juliet': 1, 'stores': 1, 'in': 5, 'string': 4, 'called': 1, 'text:': 1, '=': 6, \"open('romeoandjuliet.txt').read()\": 1, 'To': 1, 'get': 1, 'at': 1, 'individual': 2, 'words,': 2, 'use': 1, 'split': 1, 'method': 1, 'turn': 1, 'into': 1, 'list': 2, 'its': 2, 'words.': 1, 'Also,': 1, 'because': 1, 'some': 1, 'words': 2, 'may': 1, 'be': 2, 'capitalized,': 1, 'convert': 1, 'whole': 1, 'lowercase.': 1, 'We': 2, 'also': 1, 'have': 2, 'remove': 1, 'punctuation.': 1, 'import': 1, 'punctuation': 1, 'text.lower()': 1, 'for': 4, 'p': 1, 'punctuation:': 1, 'text.replace(p,': 1, \"'')\": 1, 'text.split()': 1, 'Nextcomesthedictionarycodethatdoesthecounting.': 1, 'Thedictionarykeyswillbethewordsfrom': 1, 'values': 1, 'counts': 1, 'many': 1, 'time': 1, 'each': 1, 'word': 4, 'appears.': 1, 'start': 1, 'with': 1, 'an': 1, 'empty': 1, 'dictionary.': 1, 'Then': 1, 'every': 1, 'if': 2, 'seen': 1, 'before,': 1, 'add': 1, 'one': 1, 'count,': 1, 'otherwise': 1, 'set': 1, 'count': 1, 'equal': 1, '1.': 1, 'Here': 1, 'is': 1, 'code:': 1, 'd': 1, '{}': 1, 'w': 2, 'words:': 1, 'd:': 1, 'd[w]': 2, '+': 1, '1': 1}\n",
      "Enter file name :hs\n",
      "Please insert a valid file name : \n"
     ]
    }
   ],
   "source": [
    "while True:\n",
    "    name = input(\"Enter file name :\" )\n",
    "    try:\n",
    "        f = open(name,encoding='utf8')\n",
    "    except:\n",
    "        print(\"Please insert a valid file name : \")\n",
    "        continue\n",
    "    c = dict()\n",
    "    for line in f :\n",
    "        words = line.split()\n",
    "        for word in words:\n",
    "            if word not in c:\n",
    "                c[word]=1\n",
    "            else:\n",
    "                c[word]= c[word]+1\n",
    "    print(c)"
   ]
  },
  {
   "cell_type": "code",
   "execution_count": null,
   "metadata": {},
   "outputs": [],
   "source": []
  }
 ],
 "metadata": {
  "kernelspec": {
   "display_name": "Python 3",
   "language": "python",
   "name": "python3"
  },
  "language_info": {
   "codemirror_mode": {
    "name": "ipython",
    "version": 3
   },
   "file_extension": ".py",
   "mimetype": "text/x-python",
   "name": "python",
   "nbconvert_exporter": "python",
   "pygments_lexer": "ipython3",
   "version": "3.7.4"
  }
 },
 "nbformat": 4,
 "nbformat_minor": 2
}
